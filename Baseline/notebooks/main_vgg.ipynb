{
 "cells": [
  {
   "cell_type": "code",
   "execution_count": 2,
   "metadata": {
    "id": "cTrN0E3pj9xd",
    "pycharm": {
     "is_executing": true,
     "name": "#%%\n"
    }
   },
   "outputs": [],
   "source": [
    "import torch\n",
    "import torchvision\n",
    "from torchvision import transforms\n",
    "from skimage import io, transform\n",
    "from torch import nn\n",
    "\n",
    "import json\n",
    "\n",
    "import numpy as np\n",
    "\n",
    "from training.losses import *\n",
    "from training.train import *\n",
    "from training.plots import *\n",
    "from models.gan import *\n",
    "from models.classifier import *\n",
    "from training.data import *\n",
    "\n",
    "import matplotlib.pyplot as plt\n",
    "from PIL import Image"
   ]
  },
  {
   "cell_type": "code",
   "execution_count": 3,
   "metadata": {
    "id": "VFtrr2XNj9xr"
   },
   "outputs": [],
   "source": [
    "BATCH_SIZE = 128\n",
    "LR = 3e-4\n",
    "BETAS = 0.9, 0.999"
   ]
  },
  {
   "cell_type": "code",
   "execution_count": 4,
   "metadata": {
    "colab": {
     "base_uri": "https://localhost:8080/"
    },
    "id": "XYOGsn2rj9xv",
    "outputId": "49e9b3ac-5c3f-40ba-9cce-efa581c0b5be",
    "pycharm": {
     "name": "#%%\n"
    }
   },
   "outputs": [
    {
     "name": "stdout",
     "output_type": "stream",
     "text": [
      "./../data/vgg_data/Nelly\\757.jpg\n",
      "./../data/vgg_data/Andrew_Buchan\\295.jpg\n",
      "./../data/vgg_data/Thad_Luckinbill\\405.jpg\n",
      "./../data/vgg_data/Bingbing_Fan\\794.jpg\n"
     ]
    }
   ],
   "source": [
    "data = FacesDataset(\"./../data/vgg_data/\", transform=lambda x: (torch.tensor(transform.resize(np.array(x['image']), (48, 48))).permute((2, 0, 1)), x['class']))\n",
    "train_data = torch.utils.data.DataLoader(data, batch_size=BATCH_SIZE, drop_last=True)"
   ]
  },
  {
   "cell_type": "code",
   "execution_count": 5,
   "metadata": {},
   "outputs": [
    {
     "name": "stdout",
     "output_type": "stream",
     "text": [
      "0\n",
      "[tensor([[[[3.0200e-01, 2.5936e-01, 2.4710e-01,  ..., 5.8125e-01,\n",
      "           6.1569e-01, 5.9604e-01],\n",
      "          [2.5935e-01, 2.3959e-01, 2.3170e-01,  ..., 5.7349e-01,\n",
      "           6.0405e-01, 5.9608e-01],\n",
      "          [2.1658e-01, 2.0834e-01, 2.0807e-01,  ..., 5.7648e-01,\n",
      "           5.8856e-01, 5.9608e-01],\n",
      "          ...,\n",
      "          [4.7647e-01, 4.8437e-01, 5.0468e-01,  ..., 5.0960e-01,\n",
      "           5.0217e-01, 5.0217e-01],\n",
      "          [5.6123e-01, 5.5012e-01, 4.9752e-01,  ..., 5.1373e-01,\n",
      "           5.0993e-01, 5.1009e-01],\n",
      "          [5.9224e-01, 5.8484e-01, 5.1046e-01,  ..., 5.2181e-01,\n",
      "           5.2157e-01, 5.2949e-01]],\n",
      "\n",
      "         [[1.1769e-01, 7.8922e-02, 7.4306e-02,  ..., 6.0747e-01,\n",
      "           5.8836e-01, 6.0788e-01],\n",
      "          [8.6560e-02, 7.0715e-02, 6.3066e-02,  ..., 5.8868e-01,\n",
      "           5.9204e-01, 6.0392e-01],\n",
      "          [7.0833e-02, 5.5310e-02, 5.4913e-02,  ..., 5.6573e-01,\n",
      "           5.9227e-01, 5.9608e-01],\n",
      "          ...,\n",
      "          [3.3530e-01, 3.4319e-01, 3.5194e-01,  ..., 4.7451e-01,\n",
      "           4.7471e-01, 4.7492e-01],\n",
      "          [4.2006e-01, 4.0895e-01, 3.4510e-01,  ..., 4.7067e-01,\n",
      "           4.7855e-01, 4.8644e-01],\n",
      "          [4.5106e-01, 4.4371e-01, 3.6164e-01,  ..., 4.6315e-01,\n",
      "           4.7868e-01, 4.9804e-01]],\n",
      "\n",
      "         [[2.3570e-02, 4.2075e-03, 1.5278e-02,  ..., 6.0825e-01,\n",
      "           6.1569e-01, 6.1172e-01],\n",
      "          [1.2255e-04, 0.0000e+00, 1.1765e-02,  ..., 5.8930e-01,\n",
      "           6.1569e-01, 6.1172e-01],\n",
      "          [0.0000e+00, 0.0000e+00, 4.1258e-03,  ..., 5.6986e-01,\n",
      "           6.1188e-01, 6.1152e-01],\n",
      "          ...,\n",
      "          [2.4122e-01, 2.4907e-01, 2.6175e-01,  ..., 4.5079e-01,\n",
      "           4.4727e-01, 4.4747e-01],\n",
      "          [3.2190e-01, 3.0710e-01, 2.5067e-01,  ..., 4.4715e-01,\n",
      "           4.5907e-01, 4.7087e-01],\n",
      "          [3.4906e-01, 3.4158e-01, 2.5948e-01,  ..., 4.4358e-01,\n",
      "           4.6691e-01, 4.9020e-01]]],\n",
      "\n",
      "\n",
      "        [[[9.0177e-02, 1.2754e-01, 2.1623e-01,  ..., 4.5891e-01,\n",
      "           4.5334e-01, 4.5347e-01],\n",
      "          [8.4711e-02, 1.6577e-01, 2.7682e-01,  ..., 4.2528e-01,\n",
      "           4.3165e-01, 4.4167e-01],\n",
      "          [7.2148e-02, 1.4959e-01, 3.1691e-01,  ..., 3.7610e-01,\n",
      "           4.0900e-01, 4.1659e-01],\n",
      "          ...,\n",
      "          [2.1101e-01, 3.3531e-01, 4.4183e-01,  ..., 8.1765e-01,\n",
      "           8.4127e-01, 8.5600e-01],\n",
      "          [2.5170e-01, 3.1523e-01, 3.8401e-01,  ..., 8.0966e-01,\n",
      "           8.2742e-01, 8.4470e-01],\n",
      "          [2.7271e-01, 2.9097e-01, 3.9206e-01,  ..., 8.0605e-01,\n",
      "           8.1993e-01, 8.3779e-01]],\n",
      "\n",
      "         [[9.2533e-03, 3.0427e-02, 1.0136e-01,  ..., 4.2343e-01,\n",
      "           4.2197e-01, 4.2210e-01],\n",
      "          [9.4720e-03, 7.0584e-02, 1.6518e-01,  ..., 3.9521e-01,\n",
      "           4.0098e-01, 4.1029e-01],\n",
      "          [7.5955e-04, 5.1186e-02, 2.0527e-01,  ..., 3.5890e-01,\n",
      "           3.8245e-01, 3.8640e-01],\n",
      "          ...,\n",
      "          [2.4338e-02, 1.3989e-01, 2.3284e-01,  ..., 6.0600e-01,\n",
      "           6.2988e-01, 6.4101e-01],\n",
      "          [7.4157e-02, 1.2692e-01, 1.9151e-01,  ..., 5.9118e-01,\n",
      "           6.1213e-01, 6.3294e-01],\n",
      "          [9.9636e-02, 1.0689e-01, 2.0819e-01,  ..., 5.8391e-01,\n",
      "           6.0425e-01, 6.2459e-01]],\n",
      "\n",
      "         [[2.4572e-02, 4.3714e-02, 9.5604e-02,  ..., 3.8117e-01,\n",
      "           3.7302e-01, 3.7112e-01],\n",
      "          [1.9106e-02, 8.1579e-02, 1.5290e-01,  ..., 3.5643e-01,\n",
      "           3.5473e-01, 3.5931e-01],\n",
      "          [4.4930e-03, 6.1545e-02, 1.9179e-01,  ..., 3.3170e-01,\n",
      "           3.3949e-01, 3.3542e-01],\n",
      "          ...,\n",
      "          [1.0261e-02, 1.0323e-01, 1.8591e-01,  ..., 4.8501e-01,\n",
      "           5.2931e-01, 5.5306e-01],\n",
      "          [4.1461e-02, 8.6340e-02, 1.3418e-01,  ..., 4.7317e-01,\n",
      "           5.0867e-01, 5.3669e-01],\n",
      "          [6.2003e-02, 6.5833e-02, 1.4496e-01,  ..., 4.6626e-01,\n",
      "           5.0082e-01, 5.2406e-01]]],\n",
      "\n",
      "\n",
      "        [[[5.8665e-01, 6.0345e-01, 5.9623e-01,  ..., 7.1801e-01,\n",
      "           7.3542e-01, 7.7593e-01],\n",
      "          [5.9388e-01, 6.1686e-01, 6.0307e-01,  ..., 7.1801e-01,\n",
      "           7.3639e-01, 7.6288e-01],\n",
      "          [6.0782e-01, 6.1497e-01, 6.1503e-01,  ..., 7.1562e-01,\n",
      "           7.3587e-01, 7.4101e-01],\n",
      "          ...,\n",
      "          [5.0125e-01, 5.1810e-01, 5.3965e-01,  ..., 5.1980e-01,\n",
      "           5.1812e-01, 8.1989e-01],\n",
      "          [5.1458e-01, 5.3517e-01, 5.5107e-01,  ..., 5.5003e-01,\n",
      "           6.5915e-01, 9.3092e-01],\n",
      "          [5.2951e-01, 5.4575e-01, 5.5846e-01,  ..., 5.9843e-01,\n",
      "           8.2904e-01, 9.8528e-01]],\n",
      "\n",
      "         [[2.8469e-01, 3.0701e-01, 3.1216e-01,  ..., 4.8077e-01,\n",
      "           4.7063e-01, 4.9262e-01],\n",
      "          [2.9192e-01, 3.2042e-01, 3.1900e-01,  ..., 4.8190e-01,\n",
      "           4.7402e-01, 4.8236e-01],\n",
      "          [3.0941e-01, 3.2034e-01, 3.3029e-01,  ..., 4.8235e-01,\n",
      "           4.7610e-01, 4.6097e-01],\n",
      "          ...,\n",
      "          [2.0934e-01, 2.2659e-01, 2.4926e-01,  ..., 3.3278e-01,\n",
      "           3.6931e-01, 7.1010e-01],\n",
      "          [2.1479e-01, 2.3897e-01, 2.6001e-01,  ..., 3.7385e-01,\n",
      "           5.2017e-01, 8.2883e-01],\n",
      "          [2.3147e-01, 2.5286e-01, 2.6813e-01,  ..., 4.1973e-01,\n",
      "           6.9812e-01, 8.9349e-01]],\n",
      "\n",
      "         [[1.7502e-02, 3.3069e-02, 1.8892e-02,  ..., 2.1249e-01,\n",
      "           1.7970e-01, 1.8249e-01],\n",
      "          [2.5257e-02, 4.8235e-02, 2.9749e-02,  ..., 2.1838e-01,\n",
      "           1.8027e-01, 1.6173e-01],\n",
      "          [4.2739e-02, 5.2470e-02, 4.7074e-02,  ..., 2.2317e-01,\n",
      "           1.7754e-01, 1.3228e-01],\n",
      "          ...,\n",
      "          [3.2008e-02, 4.5990e-02, 6.4951e-02,  ..., 2.2917e-01,\n",
      "           2.8479e-01, 6.4462e-01],\n",
      "          [3.4069e-02, 5.5633e-02, 7.5701e-02,  ..., 2.7291e-01,\n",
      "           4.4223e-01, 7.7626e-01],\n",
      "          [4.1054e-02, 6.5031e-02, 8.3812e-02,  ..., 3.2868e-01,\n",
      "           6.2864e-01, 8.4658e-01]]],\n",
      "\n",
      "\n",
      "        ...,\n",
      "\n",
      "\n",
      "        [[[6.6765e-01, 6.2747e-01, 6.1098e-01,  ..., 7.0984e-01,\n",
      "           7.2138e-01, 7.2549e-01],\n",
      "          [6.1422e-01, 6.1624e-01, 6.2092e-01,  ..., 7.0735e-01,\n",
      "           7.1624e-01, 7.2402e-01],\n",
      "          [6.1552e-01, 6.1726e-01, 6.2729e-01,  ..., 7.2109e-01,\n",
      "           7.1618e-01, 7.1846e-01],\n",
      "          ...,\n",
      "          [8.5490e-01, 8.2353e-01, 7.0980e-01,  ..., 7.7239e-01,\n",
      "           7.7020e-01, 7.7405e-01],\n",
      "          [8.5852e-01, 8.5141e-01, 7.6630e-01,  ..., 7.7876e-01,\n",
      "           7.9908e-01, 8.1877e-01],\n",
      "          [8.6046e-01, 8.5882e-01, 8.0356e-01,  ..., 8.1667e-01,\n",
      "           8.3170e-01, 8.4477e-01]],\n",
      "\n",
      "         [[5.5801e-01, 5.0378e-01, 4.7092e-01,  ..., 6.8725e-01,\n",
      "           7.0345e-01, 7.1373e-01],\n",
      "          [4.9363e-01, 4.8333e-01, 4.6693e-01,  ..., 6.8775e-01,\n",
      "           6.9755e-01, 7.0833e-01],\n",
      "          [4.8252e-01, 4.7461e-01, 4.6667e-01,  ..., 6.9395e-01,\n",
      "           6.9510e-01, 6.9899e-01],\n",
      "          ...,\n",
      "          [8.6275e-01, 8.2833e-01, 7.0227e-01,  ..., 7.7631e-01,\n",
      "           7.7412e-01, 7.7798e-01],\n",
      "          [8.6442e-01, 8.5294e-01, 7.5476e-01,  ..., 7.8268e-01,\n",
      "           8.0300e-01, 8.2269e-01],\n",
      "          [8.6765e-01, 8.5980e-01, 7.8820e-01,  ..., 8.2059e-01,\n",
      "           8.3562e-01, 8.4869e-01]],\n",
      "\n",
      "         [[4.7566e-01, 4.2143e-01, 3.8467e-01,  ..., 6.8742e-01,\n",
      "           7.1452e-01, 7.3333e-01],\n",
      "          [4.0080e-01, 3.9020e-01, 3.7134e-01,  ..., 6.7631e-01,\n",
      "           7.0398e-01, 7.2678e-01],\n",
      "          [3.6895e-01, 3.6513e-01, 3.6095e-01,  ..., 6.8252e-01,\n",
      "           6.9755e-01, 7.1376e-01],\n",
      "          ...,\n",
      "          [8.3428e-01, 7.5333e-01, 5.7385e-01,  ..., 7.8415e-01,\n",
      "           7.8196e-01, 7.8582e-01],\n",
      "          [8.5721e-01, 8.0043e-01, 6.4826e-01,  ..., 7.9052e-01,\n",
      "           8.1085e-01, 8.3054e-01],\n",
      "          [8.5735e-01, 8.0962e-01, 6.9866e-01,  ..., 8.2843e-01,\n",
      "           8.4346e-01, 8.5654e-01]]],\n",
      "\n",
      "\n",
      "        [[[1.6300e-01, 2.3733e-01, 3.6253e-01,  ..., 4.7843e-01,\n",
      "           4.8235e-01, 4.8235e-01],\n",
      "          [1.7523e-01, 2.3055e-01, 3.3208e-01,  ..., 4.7843e-01,\n",
      "           4.8235e-01, 4.8235e-01],\n",
      "          [1.8668e-01, 2.2831e-01, 3.2186e-01,  ..., 4.8235e-01,\n",
      "           4.8235e-01, 4.8235e-01],\n",
      "          ...,\n",
      "          [3.0200e-01, 3.1377e-01, 2.7843e-01,  ..., 3.8824e-01,\n",
      "           4.1019e-01, 4.1569e-01],\n",
      "          [2.7191e-01, 2.2896e-01, 1.3336e-01,  ..., 3.2698e-01,\n",
      "           3.6716e-01, 3.7938e-01],\n",
      "          [1.8901e-01, 8.2587e-02, 2.6634e-02,  ..., 2.0842e-01,\n",
      "           2.4897e-01, 2.6671e-01]],\n",
      "\n",
      "         [[1.0495e-01, 1.5019e-01, 2.4011e-01,  ..., 3.6471e-01,\n",
      "           3.6863e-01, 3.6863e-01],\n",
      "          [1.1719e-01, 1.4203e-01, 2.0811e-01,  ..., 3.6471e-01,\n",
      "           3.6863e-01, 3.6863e-01],\n",
      "          [1.2864e-01, 1.3885e-01, 1.9632e-01,  ..., 3.6863e-01,\n",
      "           3.6863e-01, 3.6863e-01],\n",
      "          ...,\n",
      "          [2.0396e-01, 2.1178e-01, 2.0784e-01,  ..., 2.9020e-01,\n",
      "           2.9804e-01, 2.9804e-01],\n",
      "          [2.0159e-01, 1.7181e-01, 1.0511e-01,  ..., 2.6113e-01,\n",
      "           2.8851e-01, 2.9179e-01],\n",
      "          [1.3333e-01, 5.5176e-02, 2.1936e-02,  ..., 1.8182e-01,\n",
      "           2.0866e-01, 2.2105e-01]],\n",
      "\n",
      "         [[3.3742e-02, 5.4943e-02, 1.2242e-01,  ..., 2.3922e-01,\n",
      "           2.4314e-01, 2.4314e-01],\n",
      "          [4.4415e-02, 4.8652e-02, 9.0400e-02,  ..., 2.3922e-01,\n",
      "           2.4314e-01, 2.4314e-01],\n",
      "          [5.4935e-02, 4.7059e-02, 7.8676e-02,  ..., 2.3922e-01,\n",
      "           2.3922e-01, 2.3922e-01],\n",
      "          ...,\n",
      "          [1.0192e-01, 1.1137e-01, 1.2945e-01,  ..., 1.7263e-01,\n",
      "           1.7020e-01, 1.6078e-01],\n",
      "          [1.2390e-01, 1.0653e-01, 6.6691e-02,  ..., 1.7408e-01,\n",
      "           1.8824e-01, 1.8272e-01],\n",
      "          [6.9036e-02, 3.1688e-02, 2.7451e-02,  ..., 1.3951e-01,\n",
      "           1.5485e-01, 1.5846e-01]]],\n",
      "\n",
      "\n",
      "        [[[5.0290e-01, 5.5423e-01, 6.1897e-01,  ..., 2.0592e-01,\n",
      "           2.4444e-01, 3.0796e-01],\n",
      "          [4.5627e-01, 5.9517e-01, 5.5014e-01,  ..., 1.8162e-01,\n",
      "           2.3284e-01, 2.5620e-01],\n",
      "          [4.5098e-01, 5.8998e-01, 4.9613e-01,  ..., 1.4613e-01,\n",
      "           2.2450e-01, 2.5637e-01],\n",
      "          ...,\n",
      "          [7.5294e-01, 7.5294e-01, 7.5294e-01,  ..., 7.3131e-01,\n",
      "           7.4363e-01, 7.4902e-01],\n",
      "          [7.5294e-01, 7.5294e-01, 7.5294e-01,  ..., 6.7597e-01,\n",
      "           7.4459e-01, 7.4902e-01],\n",
      "          [7.5294e-01, 7.5294e-01, 7.5294e-01,  ..., 4.0713e-01,\n",
      "           7.2763e-01, 7.4853e-01]],\n",
      "\n",
      "         [[4.0088e-01, 4.4835e-01, 5.1309e-01,  ..., 1.5609e-01,\n",
      "           1.8403e-01, 2.5306e-01],\n",
      "          [3.5038e-01, 4.9090e-01, 4.4426e-01,  ..., 1.3566e-01,\n",
      "           1.7267e-01, 2.0098e-01],\n",
      "          [3.4510e-01, 4.8410e-01, 3.8801e-01,  ..., 1.0790e-01,\n",
      "           1.6877e-01, 2.0294e-01],\n",
      "          ...,\n",
      "          [7.3333e-01, 7.3333e-01, 7.3333e-01,  ..., 7.3131e-01,\n",
      "           7.3333e-01, 7.3333e-01],\n",
      "          [7.3333e-01, 7.3333e-01, 7.3333e-01,  ..., 6.7436e-01,\n",
      "           7.3725e-01, 7.3333e-01],\n",
      "          [7.3333e-01, 7.3333e-01, 7.3333e-01,  ..., 4.0366e-01,\n",
      "           7.1779e-01, 7.3290e-01]],\n",
      "\n",
      "         [[2.7192e-01, 3.2825e-01, 3.9919e-01,  ..., 1.0364e-01,\n",
      "           1.2679e-01, 2.0506e-01],\n",
      "          [2.3016e-01, 3.7215e-01, 3.3053e-01,  ..., 9.2279e-02,\n",
      "           1.1190e-01, 1.2937e-01],\n",
      "          [2.2942e-01, 3.7037e-01, 2.8515e-01,  ..., 7.8283e-02,\n",
      "           1.0896e-01, 1.1597e-01],\n",
      "          ...,\n",
      "          [7.0980e-01, 7.0980e-01, 7.0980e-01,  ..., 6.8445e-01,\n",
      "           6.8011e-01, 6.8746e-01],\n",
      "          [7.0980e-01, 7.0980e-01, 7.0980e-01,  ..., 6.3946e-01,\n",
      "           6.8724e-01, 6.8971e-01],\n",
      "          [7.0980e-01, 7.0980e-01, 7.0980e-01,  ..., 3.8458e-01,\n",
      "           6.7567e-01, 6.8667e-01]]]], dtype=torch.float64), tensor([25, 13, 29, 45, 14,  6,  1, 42, 23,  4, 16,  8, 21, 19, 18, 46, 32, 36,\n",
      "        35, 48, 33, 17, 33, 18, 37, 47,  1, 44, 50,  8, 47,  1, 14, 35, 34,  3,\n",
      "        44, 25, 44, 29, 26,  4, 48, 21, 11, 50, 36,  1, 12, 46, 38, 29, 16, 39,\n",
      "        14, 18, 37, 42, 20, 11, 25, 15, 12, 28, 20, 22, 35, 11, 40, 47, 20, 28,\n",
      "        37, 20, 24,  6, 13, 42, 48, 43, 20, 13, 38, 43, 30, 22, 49, 13, 31,  3,\n",
      "        28, 18, 16, 29, 47,  1, 42, 18, 49,  5, 41, 36, 17, 13, 43,  0, 47, 46,\n",
      "        26,  4, 16, 43, 36, 47, 22,  6, 34, 29, 16, 29, 15, 44, 45, 31, 21, 31,\n",
      "         0, 17])]\n",
      "torch.Size([128, 3, 48, 48])\n"
     ]
    }
   ],
   "source": [
    "for batch in train_data:\n",
    "    print(0)\n",
    "    print(batch)\n",
    "    print(batch[0].shape)\n",
    "    break"
   ]
  },
  {
   "cell_type": "code",
   "execution_count": 6,
   "metadata": {},
   "outputs": [],
   "source": [
    "base_classifier = SimpleClassifier(in_channels=3, image_size=48)"
   ]
  },
  {
   "cell_type": "code",
   "execution_count": 7,
   "metadata": {},
   "outputs": [],
   "source": [
    "optimizer = torch.optim.Adam(base_classifier.parameters(), lr=LR, betas=BETAS)\n",
    "criterion = nn.CrossEntropyLoss()"
   ]
  },
  {
   "cell_type": "code",
   "execution_count": 10,
   "metadata": {},
   "outputs": [
    {
     "ename": "TypeError",
     "evalue": "__init__() got an unexpected keyword argument 'num_classes'",
     "output_type": "error",
     "traceback": [
      "\u001B[1;31m---------------------------------------------------------------------------\u001B[0m",
      "\u001B[1;31mTypeError\u001B[0m                                 Traceback (most recent call last)",
      "\u001B[1;32m<ipython-input-10-9c8e60c866a7>\u001B[0m in \u001B[0;36m<module>\u001B[1;34m\u001B[0m\n\u001B[1;32m----> 1\u001B[1;33m \u001B[0mbase_classifier_trainer\u001B[0m \u001B[1;33m=\u001B[0m \u001B[0mBaseClassifierTrainer\u001B[0m\u001B[1;33m(\u001B[0m\u001B[0mbase_classifier\u001B[0m\u001B[1;33m,\u001B[0m \u001B[0mcriterion\u001B[0m\u001B[1;33m,\u001B[0m \u001B[0moptimizer\u001B[0m\u001B[1;33m,\u001B[0m \u001B[1;34m'cpu'\u001B[0m\u001B[1;33m,\u001B[0m \u001B[0mnum_classes\u001B[0m\u001B[1;33m=\u001B[0m\u001B[1;36m51\u001B[0m\u001B[1;33m)\u001B[0m\u001B[1;33m\u001B[0m\u001B[1;33m\u001B[0m\u001B[0m\n\u001B[0m",
      "\u001B[1;31mTypeError\u001B[0m: __init__() got an unexpected keyword argument 'num_classes'"
     ]
    }
   ],
   "source": [
    "base_classifier_trainer = BaseClassifierTrainer(base_classifier, criterion, optimizer, 'cpu', num_classes=51)"
   ]
  },
  {
   "cell_type": "code",
   "execution_count": 9,
   "metadata": {},
   "outputs": [
    {
     "ename": "IndexError",
     "evalue": "Target 25 is out of bounds.",
     "output_type": "error",
     "traceback": [
      "\u001B[1;31m---------------------------------------------------------------------------\u001B[0m",
      "\u001B[1;31mIndexError\u001B[0m                                Traceback (most recent call last)",
      "\u001B[1;32m<ipython-input-9-7c000866bece>\u001B[0m in \u001B[0;36m<module>\u001B[1;34m\u001B[0m\n\u001B[1;32m----> 1\u001B[1;33m \u001B[0mbase_res\u001B[0m \u001B[1;33m=\u001B[0m \u001B[0mbase_classifier_trainer\u001B[0m\u001B[1;33m.\u001B[0m\u001B[0mtrain\u001B[0m\u001B[1;33m(\u001B[0m\u001B[0mtrain_data\u001B[0m\u001B[1;33m,\u001B[0m \u001B[1;36m10\u001B[0m\u001B[1;33m)\u001B[0m\u001B[1;33m\u001B[0m\u001B[1;33m\u001B[0m\u001B[0m\n\u001B[0m",
      "\u001B[1;32m~\\Desktop\\diplom\\Baseline\\training\\train.py\u001B[0m in \u001B[0;36mtrain\u001B[1;34m(self, train_data, epochs)\u001B[0m\n\u001B[0;32m    128\u001B[0m             \u001B[0mloss_epoch\u001B[0m \u001B[1;33m=\u001B[0m \u001B[1;33m[\u001B[0m\u001B[1;33m]\u001B[0m\u001B[1;33m\u001B[0m\u001B[1;33m\u001B[0m\u001B[0m\n\u001B[0;32m    129\u001B[0m             \u001B[1;32mfor\u001B[0m \u001B[0mi\u001B[0m\u001B[1;33m,\u001B[0m \u001B[0mbatch\u001B[0m \u001B[1;32min\u001B[0m \u001B[0menumerate\u001B[0m\u001B[1;33m(\u001B[0m\u001B[0mtrain_data\u001B[0m\u001B[1;33m)\u001B[0m\u001B[1;33m:\u001B[0m\u001B[1;33m\u001B[0m\u001B[1;33m\u001B[0m\u001B[0m\n\u001B[1;32m--> 130\u001B[1;33m                 \u001B[0mstep_loss\u001B[0m \u001B[1;33m=\u001B[0m \u001B[0mself\u001B[0m\u001B[1;33m.\u001B[0m\u001B[0mtrain_one_epoch\u001B[0m\u001B[1;33m(\u001B[0m\u001B[1;33m*\u001B[0m\u001B[0mbatch\u001B[0m\u001B[1;33m)\u001B[0m\u001B[1;33m\u001B[0m\u001B[1;33m\u001B[0m\u001B[0m\n\u001B[0m\u001B[0;32m    131\u001B[0m                 \u001B[0mloss_epoch\u001B[0m\u001B[1;33m.\u001B[0m\u001B[0mappend\u001B[0m\u001B[1;33m(\u001B[0m\u001B[0mstep_loss\u001B[0m\u001B[1;33m)\u001B[0m\u001B[1;33m\u001B[0m\u001B[1;33m\u001B[0m\u001B[0m\n\u001B[0;32m    132\u001B[0m \u001B[1;33m\u001B[0m\u001B[0m\n",
      "\u001B[1;32m~\\Desktop\\diplom\\Baseline\\training\\train.py\u001B[0m in \u001B[0;36mtrain_one_epoch\u001B[1;34m(self, batch, real_labels)\u001B[0m\n\u001B[0;32m    116\u001B[0m         \u001B[0mself\u001B[0m\u001B[1;33m.\u001B[0m\u001B[0moptimizer\u001B[0m\u001B[1;33m.\u001B[0m\u001B[0mzero_grad\u001B[0m\u001B[1;33m(\u001B[0m\u001B[1;33m)\u001B[0m\u001B[1;33m\u001B[0m\u001B[1;33m\u001B[0m\u001B[0m\n\u001B[0;32m    117\u001B[0m \u001B[1;33m\u001B[0m\u001B[0m\n\u001B[1;32m--> 118\u001B[1;33m         \u001B[0mloss\u001B[0m \u001B[1;33m=\u001B[0m \u001B[0mself\u001B[0m\u001B[1;33m.\u001B[0m\u001B[0mcriterion\u001B[0m\u001B[1;33m(\u001B[0m\u001B[0mlabels\u001B[0m\u001B[1;33m,\u001B[0m \u001B[0mreal_labels\u001B[0m\u001B[1;33m)\u001B[0m\u001B[1;33m\u001B[0m\u001B[1;33m\u001B[0m\u001B[0m\n\u001B[0m\u001B[0;32m    119\u001B[0m         \u001B[0mloss\u001B[0m\u001B[1;33m.\u001B[0m\u001B[0mbackward\u001B[0m\u001B[1;33m(\u001B[0m\u001B[1;33m)\u001B[0m\u001B[1;33m\u001B[0m\u001B[1;33m\u001B[0m\u001B[0m\n\u001B[0;32m    120\u001B[0m \u001B[1;33m\u001B[0m\u001B[0m\n",
      "\u001B[1;32mc:\\users\\seray\\appdata\\local\\programs\\python\\python37\\lib\\site-packages\\torch\\nn\\modules\\module.py\u001B[0m in \u001B[0;36m_call_impl\u001B[1;34m(self, *input, **kwargs)\u001B[0m\n\u001B[0;32m    725\u001B[0m             \u001B[0mresult\u001B[0m \u001B[1;33m=\u001B[0m \u001B[0mself\u001B[0m\u001B[1;33m.\u001B[0m\u001B[0m_slow_forward\u001B[0m\u001B[1;33m(\u001B[0m\u001B[1;33m*\u001B[0m\u001B[0minput\u001B[0m\u001B[1;33m,\u001B[0m \u001B[1;33m**\u001B[0m\u001B[0mkwargs\u001B[0m\u001B[1;33m)\u001B[0m\u001B[1;33m\u001B[0m\u001B[1;33m\u001B[0m\u001B[0m\n\u001B[0;32m    726\u001B[0m         \u001B[1;32melse\u001B[0m\u001B[1;33m:\u001B[0m\u001B[1;33m\u001B[0m\u001B[1;33m\u001B[0m\u001B[0m\n\u001B[1;32m--> 727\u001B[1;33m             \u001B[0mresult\u001B[0m \u001B[1;33m=\u001B[0m \u001B[0mself\u001B[0m\u001B[1;33m.\u001B[0m\u001B[0mforward\u001B[0m\u001B[1;33m(\u001B[0m\u001B[1;33m*\u001B[0m\u001B[0minput\u001B[0m\u001B[1;33m,\u001B[0m \u001B[1;33m**\u001B[0m\u001B[0mkwargs\u001B[0m\u001B[1;33m)\u001B[0m\u001B[1;33m\u001B[0m\u001B[1;33m\u001B[0m\u001B[0m\n\u001B[0m\u001B[0;32m    728\u001B[0m         for hook in itertools.chain(\n\u001B[0;32m    729\u001B[0m                 \u001B[0m_global_forward_hooks\u001B[0m\u001B[1;33m.\u001B[0m\u001B[0mvalues\u001B[0m\u001B[1;33m(\u001B[0m\u001B[1;33m)\u001B[0m\u001B[1;33m,\u001B[0m\u001B[1;33m\u001B[0m\u001B[1;33m\u001B[0m\u001B[0m\n",
      "\u001B[1;32mc:\\users\\seray\\appdata\\local\\programs\\python\\python37\\lib\\site-packages\\torch\\nn\\modules\\loss.py\u001B[0m in \u001B[0;36mforward\u001B[1;34m(self, input, target)\u001B[0m\n\u001B[0;32m    960\u001B[0m     \u001B[1;32mdef\u001B[0m \u001B[0mforward\u001B[0m\u001B[1;33m(\u001B[0m\u001B[0mself\u001B[0m\u001B[1;33m,\u001B[0m \u001B[0minput\u001B[0m\u001B[1;33m:\u001B[0m \u001B[0mTensor\u001B[0m\u001B[1;33m,\u001B[0m \u001B[0mtarget\u001B[0m\u001B[1;33m:\u001B[0m \u001B[0mTensor\u001B[0m\u001B[1;33m)\u001B[0m \u001B[1;33m->\u001B[0m \u001B[0mTensor\u001B[0m\u001B[1;33m:\u001B[0m\u001B[1;33m\u001B[0m\u001B[1;33m\u001B[0m\u001B[0m\n\u001B[0;32m    961\u001B[0m         return F.cross_entropy(input, target, weight=self.weight,\n\u001B[1;32m--> 962\u001B[1;33m                                ignore_index=self.ignore_index, reduction=self.reduction)\n\u001B[0m\u001B[0;32m    963\u001B[0m \u001B[1;33m\u001B[0m\u001B[0m\n\u001B[0;32m    964\u001B[0m \u001B[1;33m\u001B[0m\u001B[0m\n",
      "\u001B[1;32mc:\\users\\seray\\appdata\\local\\programs\\python\\python37\\lib\\site-packages\\torch\\nn\\functional.py\u001B[0m in \u001B[0;36mcross_entropy\u001B[1;34m(input, target, weight, size_average, ignore_index, reduce, reduction)\u001B[0m\n\u001B[0;32m   2466\u001B[0m     \u001B[1;32mif\u001B[0m \u001B[0msize_average\u001B[0m \u001B[1;32mis\u001B[0m \u001B[1;32mnot\u001B[0m \u001B[1;32mNone\u001B[0m \u001B[1;32mor\u001B[0m \u001B[0mreduce\u001B[0m \u001B[1;32mis\u001B[0m \u001B[1;32mnot\u001B[0m \u001B[1;32mNone\u001B[0m\u001B[1;33m:\u001B[0m\u001B[1;33m\u001B[0m\u001B[1;33m\u001B[0m\u001B[0m\n\u001B[0;32m   2467\u001B[0m         \u001B[0mreduction\u001B[0m \u001B[1;33m=\u001B[0m \u001B[0m_Reduction\u001B[0m\u001B[1;33m.\u001B[0m\u001B[0mlegacy_get_string\u001B[0m\u001B[1;33m(\u001B[0m\u001B[0msize_average\u001B[0m\u001B[1;33m,\u001B[0m \u001B[0mreduce\u001B[0m\u001B[1;33m)\u001B[0m\u001B[1;33m\u001B[0m\u001B[1;33m\u001B[0m\u001B[0m\n\u001B[1;32m-> 2468\u001B[1;33m     \u001B[1;32mreturn\u001B[0m \u001B[0mnll_loss\u001B[0m\u001B[1;33m(\u001B[0m\u001B[0mlog_softmax\u001B[0m\u001B[1;33m(\u001B[0m\u001B[0minput\u001B[0m\u001B[1;33m,\u001B[0m \u001B[1;36m1\u001B[0m\u001B[1;33m)\u001B[0m\u001B[1;33m,\u001B[0m \u001B[0mtarget\u001B[0m\u001B[1;33m,\u001B[0m \u001B[0mweight\u001B[0m\u001B[1;33m,\u001B[0m \u001B[1;32mNone\u001B[0m\u001B[1;33m,\u001B[0m \u001B[0mignore_index\u001B[0m\u001B[1;33m,\u001B[0m \u001B[1;32mNone\u001B[0m\u001B[1;33m,\u001B[0m \u001B[0mreduction\u001B[0m\u001B[1;33m)\u001B[0m\u001B[1;33m\u001B[0m\u001B[1;33m\u001B[0m\u001B[0m\n\u001B[0m\u001B[0;32m   2469\u001B[0m \u001B[1;33m\u001B[0m\u001B[0m\n\u001B[0;32m   2470\u001B[0m \u001B[1;33m\u001B[0m\u001B[0m\n",
      "\u001B[1;32mc:\\users\\seray\\appdata\\local\\programs\\python\\python37\\lib\\site-packages\\torch\\nn\\functional.py\u001B[0m in \u001B[0;36mnll_loss\u001B[1;34m(input, target, weight, size_average, ignore_index, reduce, reduction)\u001B[0m\n\u001B[0;32m   2262\u001B[0m                          .format(input.size(0), target.size(0)))\n\u001B[0;32m   2263\u001B[0m     \u001B[1;32mif\u001B[0m \u001B[0mdim\u001B[0m \u001B[1;33m==\u001B[0m \u001B[1;36m2\u001B[0m\u001B[1;33m:\u001B[0m\u001B[1;33m\u001B[0m\u001B[1;33m\u001B[0m\u001B[0m\n\u001B[1;32m-> 2264\u001B[1;33m         \u001B[0mret\u001B[0m \u001B[1;33m=\u001B[0m \u001B[0mtorch\u001B[0m\u001B[1;33m.\u001B[0m\u001B[0m_C\u001B[0m\u001B[1;33m.\u001B[0m\u001B[0m_nn\u001B[0m\u001B[1;33m.\u001B[0m\u001B[0mnll_loss\u001B[0m\u001B[1;33m(\u001B[0m\u001B[0minput\u001B[0m\u001B[1;33m,\u001B[0m \u001B[0mtarget\u001B[0m\u001B[1;33m,\u001B[0m \u001B[0mweight\u001B[0m\u001B[1;33m,\u001B[0m \u001B[0m_Reduction\u001B[0m\u001B[1;33m.\u001B[0m\u001B[0mget_enum\u001B[0m\u001B[1;33m(\u001B[0m\u001B[0mreduction\u001B[0m\u001B[1;33m)\u001B[0m\u001B[1;33m,\u001B[0m \u001B[0mignore_index\u001B[0m\u001B[1;33m)\u001B[0m\u001B[1;33m\u001B[0m\u001B[1;33m\u001B[0m\u001B[0m\n\u001B[0m\u001B[0;32m   2265\u001B[0m     \u001B[1;32melif\u001B[0m \u001B[0mdim\u001B[0m \u001B[1;33m==\u001B[0m \u001B[1;36m4\u001B[0m\u001B[1;33m:\u001B[0m\u001B[1;33m\u001B[0m\u001B[1;33m\u001B[0m\u001B[0m\n\u001B[0;32m   2266\u001B[0m         \u001B[0mret\u001B[0m \u001B[1;33m=\u001B[0m \u001B[0mtorch\u001B[0m\u001B[1;33m.\u001B[0m\u001B[0m_C\u001B[0m\u001B[1;33m.\u001B[0m\u001B[0m_nn\u001B[0m\u001B[1;33m.\u001B[0m\u001B[0mnll_loss2d\u001B[0m\u001B[1;33m(\u001B[0m\u001B[0minput\u001B[0m\u001B[1;33m,\u001B[0m \u001B[0mtarget\u001B[0m\u001B[1;33m,\u001B[0m \u001B[0mweight\u001B[0m\u001B[1;33m,\u001B[0m \u001B[0m_Reduction\u001B[0m\u001B[1;33m.\u001B[0m\u001B[0mget_enum\u001B[0m\u001B[1;33m(\u001B[0m\u001B[0mreduction\u001B[0m\u001B[1;33m)\u001B[0m\u001B[1;33m,\u001B[0m \u001B[0mignore_index\u001B[0m\u001B[1;33m)\u001B[0m\u001B[1;33m\u001B[0m\u001B[1;33m\u001B[0m\u001B[0m\n",
      "\u001B[1;31mIndexError\u001B[0m: Target 25 is out of bounds."
     ]
    }
   ],
   "source": [
    "base_res = base_classifier_trainer.train(train_data, 10)"
   ]
  },
  {
   "cell_type": "code",
   "execution_count": 15,
   "metadata": {},
   "outputs": [],
   "source": [
    "# data = torchvision.datasets.MNIST(\"./../data/mnist\", download=True, train=False, transform=lambda x: torch.tensor(transform.resize(np.array(x), (10, 10))).unsqueeze(0))\n",
    "# train_data = torch.utils.data.DataLoader(data, batch_size=BATCH_SIZE, drop_last=True)"
   ]
  },
  {
   "cell_type": "code",
   "execution_count": 9,
   "metadata": {
    "id": "6Av3cMPbj9xx",
    "pycharm": {
     "name": "#%%\n"
    }
   },
   "outputs": [],
   "source": [
    "generator_model = Generator(in_channels=3, out_channels=3)\n",
    "discriminator_model = Discriminator(in_channels=3)\n",
    "attacked_model = base_classifier.eval()"
   ]
  },
  {
   "cell_type": "code",
   "execution_count": 10,
   "metadata": {
    "id": "yh6JCKopj9xy",
    "pycharm": {
     "name": "#%%\n"
    }
   },
   "outputs": [],
   "source": [
    "generator_optimizer = torch.optim.Adam(generator_model.parameters(), lr=LR, betas=BETAS)\n",
    "discriminator_optimizer = torch.optim.Adam(discriminator_model.parameters(), lr=LR, betas=BETAS)"
   ]
  },
  {
   "cell_type": "code",
   "execution_count": 11,
   "metadata": {
    "id": "7TovBOSyj9xy",
    "pycharm": {
     "name": "#%%\n"
    }
   },
   "outputs": [],
   "source": [
    "trainer = Trainer(generator_model, discriminator_model, attacked_model,\n",
    "                  GANLoss(BATCH_SIZE, 'cpu'),\n",
    "                  AttackLoss(attacked_model, BATCH_SIZE, 'cpu'),\n",
    "                  discriminator_optimizer, generator_optimizer, 'cpu')"
   ]
  },
  {
   "cell_type": "code",
   "execution_count": 12,
   "metadata": {
    "colab": {
     "base_uri": "https://localhost:8080/"
    },
    "id": "xSiCuHuGZZ0g",
    "outputId": "9adb78c1-1cd0-4d57-e6e3-753a95010c26"
   },
   "outputs": [
    {
     "name": "stdout",
     "output_type": "stream",
     "text": [
      "Epoch: 0, Generator loss: 0.6318327747777696, Discriminator loss: 1.292613765216609, ResNet loss: 0.28326572937324707,\n",
      "Epoch: 1, Generator loss: 0.6809492814908469, Discriminator loss: 1.23073195518376, ResNet loss: 0.0372972898267308,\n",
      "Epoch: 2, Generator loss: 0.6974325096029542, Discriminator loss: 1.2092793754544027, ResNet loss: 0.023362604056029593,\n",
      "Epoch: 3, Generator loss: 0.7010596294760179, Discriminator loss: 1.1964440235482439, ResNet loss: 0.01760801452207933,\n",
      "Epoch: 4, Generator loss: 0.7017352665048339, Discriminator loss: 1.184214350410495, ResNet loss: 0.013758893063218059,\n",
      "Epoch: 5, Generator loss: 0.7023214156932243, Discriminator loss: 1.1742363117865005, ResNet loss: 0.011416140236042538,\n"
     ]
    },
    {
     "ename": "KeyboardInterrupt",
     "evalue": "",
     "output_type": "error",
     "traceback": [
      "\u001B[1;31m---------------------------------------------------------------------------\u001B[0m",
      "\u001B[1;31mKeyboardInterrupt\u001B[0m                         Traceback (most recent call last)",
      "\u001B[1;32m<ipython-input-12-3326e9928562>\u001B[0m in \u001B[0;36m<module>\u001B[1;34m\u001B[0m\n\u001B[1;32m----> 1\u001B[1;33m \u001B[0mres\u001B[0m \u001B[1;33m=\u001B[0m \u001B[0mtrainer\u001B[0m\u001B[1;33m.\u001B[0m\u001B[0mtrain\u001B[0m\u001B[1;33m(\u001B[0m\u001B[0mtrain_data\u001B[0m\u001B[1;33m,\u001B[0m \u001B[1;36m10\u001B[0m\u001B[1;33m)\u001B[0m\u001B[1;33m\u001B[0m\u001B[1;33m\u001B[0m\u001B[0m\n\u001B[0m",
      "\u001B[1;32m~\\Desktop\\diplom\\Baseline\\training\\train.py\u001B[0m in \u001B[0;36mtrain\u001B[1;34m(self, train_data, epochs)\u001B[0m\n\u001B[0;32m     72\u001B[0m             \u001B[0mdiscriminator_loss_epoch\u001B[0m \u001B[1;33m=\u001B[0m \u001B[1;33m[\u001B[0m\u001B[1;33m]\u001B[0m\u001B[1;33m\u001B[0m\u001B[1;33m\u001B[0m\u001B[0m\n\u001B[0;32m     73\u001B[0m             \u001B[0mresnet_loss_epoch\u001B[0m \u001B[1;33m=\u001B[0m \u001B[1;33m[\u001B[0m\u001B[1;33m]\u001B[0m\u001B[1;33m\u001B[0m\u001B[1;33m\u001B[0m\u001B[0m\n\u001B[1;32m---> 74\u001B[1;33m             \u001B[1;32mfor\u001B[0m \u001B[0mi\u001B[0m\u001B[1;33m,\u001B[0m \u001B[0mbatch\u001B[0m \u001B[1;32min\u001B[0m \u001B[0menumerate\u001B[0m\u001B[1;33m(\u001B[0m\u001B[0mtrain_data\u001B[0m\u001B[1;33m)\u001B[0m\u001B[1;33m:\u001B[0m\u001B[1;33m\u001B[0m\u001B[1;33m\u001B[0m\u001B[0m\n\u001B[0m\u001B[0;32m     75\u001B[0m                 \u001B[0mloss\u001B[0m \u001B[1;33m=\u001B[0m \u001B[0mself\u001B[0m\u001B[1;33m.\u001B[0m\u001B[0mtrain_one_epoch\u001B[0m\u001B[1;33m(\u001B[0m\u001B[0mbatch\u001B[0m\u001B[1;33m[\u001B[0m\u001B[1;36m0\u001B[0m\u001B[1;33m]\u001B[0m\u001B[1;33m)\u001B[0m\u001B[1;33m\u001B[0m\u001B[1;33m\u001B[0m\u001B[0m\n\u001B[0;32m     76\u001B[0m                 \u001B[0mgenerator_loss_epoch\u001B[0m\u001B[1;33m.\u001B[0m\u001B[0mappend\u001B[0m\u001B[1;33m(\u001B[0m\u001B[0mloss\u001B[0m\u001B[1;33m[\u001B[0m\u001B[1;36m0\u001B[0m\u001B[1;33m]\u001B[0m\u001B[1;33m)\u001B[0m\u001B[1;33m\u001B[0m\u001B[1;33m\u001B[0m\u001B[0m\n",
      "\u001B[1;32mc:\\users\\seray\\appdata\\local\\programs\\python\\python37\\lib\\site-packages\\torch\\utils\\data\\dataloader.py\u001B[0m in \u001B[0;36m__next__\u001B[1;34m(self)\u001B[0m\n\u001B[0;32m    433\u001B[0m         \u001B[1;32mif\u001B[0m \u001B[0mself\u001B[0m\u001B[1;33m.\u001B[0m\u001B[0m_sampler_iter\u001B[0m \u001B[1;32mis\u001B[0m \u001B[1;32mNone\u001B[0m\u001B[1;33m:\u001B[0m\u001B[1;33m\u001B[0m\u001B[1;33m\u001B[0m\u001B[0m\n\u001B[0;32m    434\u001B[0m             \u001B[0mself\u001B[0m\u001B[1;33m.\u001B[0m\u001B[0m_reset\u001B[0m\u001B[1;33m(\u001B[0m\u001B[1;33m)\u001B[0m\u001B[1;33m\u001B[0m\u001B[1;33m\u001B[0m\u001B[0m\n\u001B[1;32m--> 435\u001B[1;33m         \u001B[0mdata\u001B[0m \u001B[1;33m=\u001B[0m \u001B[0mself\u001B[0m\u001B[1;33m.\u001B[0m\u001B[0m_next_data\u001B[0m\u001B[1;33m(\u001B[0m\u001B[1;33m)\u001B[0m\u001B[1;33m\u001B[0m\u001B[1;33m\u001B[0m\u001B[0m\n\u001B[0m\u001B[0;32m    436\u001B[0m         \u001B[0mself\u001B[0m\u001B[1;33m.\u001B[0m\u001B[0m_num_yielded\u001B[0m \u001B[1;33m+=\u001B[0m \u001B[1;36m1\u001B[0m\u001B[1;33m\u001B[0m\u001B[1;33m\u001B[0m\u001B[0m\n\u001B[0;32m    437\u001B[0m         \u001B[1;32mif\u001B[0m \u001B[0mself\u001B[0m\u001B[1;33m.\u001B[0m\u001B[0m_dataset_kind\u001B[0m \u001B[1;33m==\u001B[0m \u001B[0m_DatasetKind\u001B[0m\u001B[1;33m.\u001B[0m\u001B[0mIterable\u001B[0m \u001B[1;32mand\u001B[0m\u001B[0;31m \u001B[0m\u001B[0;31m\\\u001B[0m\u001B[1;33m\u001B[0m\u001B[1;33m\u001B[0m\u001B[0m\n",
      "\u001B[1;32mc:\\users\\seray\\appdata\\local\\programs\\python\\python37\\lib\\site-packages\\torch\\utils\\data\\dataloader.py\u001B[0m in \u001B[0;36m_next_data\u001B[1;34m(self)\u001B[0m\n\u001B[0;32m    473\u001B[0m     \u001B[1;32mdef\u001B[0m \u001B[0m_next_data\u001B[0m\u001B[1;33m(\u001B[0m\u001B[0mself\u001B[0m\u001B[1;33m)\u001B[0m\u001B[1;33m:\u001B[0m\u001B[1;33m\u001B[0m\u001B[1;33m\u001B[0m\u001B[0m\n\u001B[0;32m    474\u001B[0m         \u001B[0mindex\u001B[0m \u001B[1;33m=\u001B[0m \u001B[0mself\u001B[0m\u001B[1;33m.\u001B[0m\u001B[0m_next_index\u001B[0m\u001B[1;33m(\u001B[0m\u001B[1;33m)\u001B[0m  \u001B[1;31m# may raise StopIteration\u001B[0m\u001B[1;33m\u001B[0m\u001B[1;33m\u001B[0m\u001B[0m\n\u001B[1;32m--> 475\u001B[1;33m         \u001B[0mdata\u001B[0m \u001B[1;33m=\u001B[0m \u001B[0mself\u001B[0m\u001B[1;33m.\u001B[0m\u001B[0m_dataset_fetcher\u001B[0m\u001B[1;33m.\u001B[0m\u001B[0mfetch\u001B[0m\u001B[1;33m(\u001B[0m\u001B[0mindex\u001B[0m\u001B[1;33m)\u001B[0m  \u001B[1;31m# may raise StopIteration\u001B[0m\u001B[1;33m\u001B[0m\u001B[1;33m\u001B[0m\u001B[0m\n\u001B[0m\u001B[0;32m    476\u001B[0m         \u001B[1;32mif\u001B[0m \u001B[0mself\u001B[0m\u001B[1;33m.\u001B[0m\u001B[0m_pin_memory\u001B[0m\u001B[1;33m:\u001B[0m\u001B[1;33m\u001B[0m\u001B[1;33m\u001B[0m\u001B[0m\n\u001B[0;32m    477\u001B[0m             \u001B[0mdata\u001B[0m \u001B[1;33m=\u001B[0m \u001B[0m_utils\u001B[0m\u001B[1;33m.\u001B[0m\u001B[0mpin_memory\u001B[0m\u001B[1;33m.\u001B[0m\u001B[0mpin_memory\u001B[0m\u001B[1;33m(\u001B[0m\u001B[0mdata\u001B[0m\u001B[1;33m)\u001B[0m\u001B[1;33m\u001B[0m\u001B[1;33m\u001B[0m\u001B[0m\n",
      "\u001B[1;32mc:\\users\\seray\\appdata\\local\\programs\\python\\python37\\lib\\site-packages\\torch\\utils\\data\\_utils\\fetch.py\u001B[0m in \u001B[0;36mfetch\u001B[1;34m(self, possibly_batched_index)\u001B[0m\n\u001B[0;32m     42\u001B[0m     \u001B[1;32mdef\u001B[0m \u001B[0mfetch\u001B[0m\u001B[1;33m(\u001B[0m\u001B[0mself\u001B[0m\u001B[1;33m,\u001B[0m \u001B[0mpossibly_batched_index\u001B[0m\u001B[1;33m)\u001B[0m\u001B[1;33m:\u001B[0m\u001B[1;33m\u001B[0m\u001B[1;33m\u001B[0m\u001B[0m\n\u001B[0;32m     43\u001B[0m         \u001B[1;32mif\u001B[0m \u001B[0mself\u001B[0m\u001B[1;33m.\u001B[0m\u001B[0mauto_collation\u001B[0m\u001B[1;33m:\u001B[0m\u001B[1;33m\u001B[0m\u001B[1;33m\u001B[0m\u001B[0m\n\u001B[1;32m---> 44\u001B[1;33m             \u001B[0mdata\u001B[0m \u001B[1;33m=\u001B[0m \u001B[1;33m[\u001B[0m\u001B[0mself\u001B[0m\u001B[1;33m.\u001B[0m\u001B[0mdataset\u001B[0m\u001B[1;33m[\u001B[0m\u001B[0midx\u001B[0m\u001B[1;33m]\u001B[0m \u001B[1;32mfor\u001B[0m \u001B[0midx\u001B[0m \u001B[1;32min\u001B[0m \u001B[0mpossibly_batched_index\u001B[0m\u001B[1;33m]\u001B[0m\u001B[1;33m\u001B[0m\u001B[1;33m\u001B[0m\u001B[0m\n\u001B[0m\u001B[0;32m     45\u001B[0m         \u001B[1;32melse\u001B[0m\u001B[1;33m:\u001B[0m\u001B[1;33m\u001B[0m\u001B[1;33m\u001B[0m\u001B[0m\n\u001B[0;32m     46\u001B[0m             \u001B[0mdata\u001B[0m \u001B[1;33m=\u001B[0m \u001B[0mself\u001B[0m\u001B[1;33m.\u001B[0m\u001B[0mdataset\u001B[0m\u001B[1;33m[\u001B[0m\u001B[0mpossibly_batched_index\u001B[0m\u001B[1;33m]\u001B[0m\u001B[1;33m\u001B[0m\u001B[1;33m\u001B[0m\u001B[0m\n",
      "\u001B[1;32mc:\\users\\seray\\appdata\\local\\programs\\python\\python37\\lib\\site-packages\\torch\\utils\\data\\_utils\\fetch.py\u001B[0m in \u001B[0;36m<listcomp>\u001B[1;34m(.0)\u001B[0m\n\u001B[0;32m     42\u001B[0m     \u001B[1;32mdef\u001B[0m \u001B[0mfetch\u001B[0m\u001B[1;33m(\u001B[0m\u001B[0mself\u001B[0m\u001B[1;33m,\u001B[0m \u001B[0mpossibly_batched_index\u001B[0m\u001B[1;33m)\u001B[0m\u001B[1;33m:\u001B[0m\u001B[1;33m\u001B[0m\u001B[1;33m\u001B[0m\u001B[0m\n\u001B[0;32m     43\u001B[0m         \u001B[1;32mif\u001B[0m \u001B[0mself\u001B[0m\u001B[1;33m.\u001B[0m\u001B[0mauto_collation\u001B[0m\u001B[1;33m:\u001B[0m\u001B[1;33m\u001B[0m\u001B[1;33m\u001B[0m\u001B[0m\n\u001B[1;32m---> 44\u001B[1;33m             \u001B[0mdata\u001B[0m \u001B[1;33m=\u001B[0m \u001B[1;33m[\u001B[0m\u001B[0mself\u001B[0m\u001B[1;33m.\u001B[0m\u001B[0mdataset\u001B[0m\u001B[1;33m[\u001B[0m\u001B[0midx\u001B[0m\u001B[1;33m]\u001B[0m \u001B[1;32mfor\u001B[0m \u001B[0midx\u001B[0m \u001B[1;32min\u001B[0m \u001B[0mpossibly_batched_index\u001B[0m\u001B[1;33m]\u001B[0m\u001B[1;33m\u001B[0m\u001B[1;33m\u001B[0m\u001B[0m\n\u001B[0m\u001B[0;32m     45\u001B[0m         \u001B[1;32melse\u001B[0m\u001B[1;33m:\u001B[0m\u001B[1;33m\u001B[0m\u001B[1;33m\u001B[0m\u001B[0m\n\u001B[0;32m     46\u001B[0m             \u001B[0mdata\u001B[0m \u001B[1;33m=\u001B[0m \u001B[0mself\u001B[0m\u001B[1;33m.\u001B[0m\u001B[0mdataset\u001B[0m\u001B[1;33m[\u001B[0m\u001B[0mpossibly_batched_index\u001B[0m\u001B[1;33m]\u001B[0m\u001B[1;33m\u001B[0m\u001B[1;33m\u001B[0m\u001B[0m\n",
      "\u001B[1;32m~\\Desktop\\diplom\\Baseline\\training\\data.py\u001B[0m in \u001B[0;36m__getitem__\u001B[1;34m(self, idx)\u001B[0m\n\u001B[0;32m     70\u001B[0m \u001B[1;33m\u001B[0m\u001B[0m\n\u001B[0;32m     71\u001B[0m         \u001B[1;32mif\u001B[0m \u001B[0mself\u001B[0m\u001B[1;33m.\u001B[0m\u001B[0mtransform\u001B[0m\u001B[1;33m:\u001B[0m\u001B[1;33m\u001B[0m\u001B[1;33m\u001B[0m\u001B[0m\n\u001B[1;32m---> 72\u001B[1;33m             \u001B[0msample\u001B[0m \u001B[1;33m=\u001B[0m \u001B[0mself\u001B[0m\u001B[1;33m.\u001B[0m\u001B[0mtransform\u001B[0m\u001B[1;33m(\u001B[0m\u001B[0msample\u001B[0m\u001B[1;33m)\u001B[0m\u001B[1;33m\u001B[0m\u001B[1;33m\u001B[0m\u001B[0m\n\u001B[0m\u001B[0;32m     73\u001B[0m \u001B[1;33m\u001B[0m\u001B[0m\n\u001B[0;32m     74\u001B[0m         \u001B[1;32mreturn\u001B[0m \u001B[0msample\u001B[0m\u001B[1;33m\u001B[0m\u001B[1;33m\u001B[0m\u001B[0m\n",
      "\u001B[1;32m<ipython-input-3-eedf3c52d055>\u001B[0m in \u001B[0;36m<lambda>\u001B[1;34m(x)\u001B[0m\n\u001B[1;32m----> 1\u001B[1;33m \u001B[0mdata\u001B[0m \u001B[1;33m=\u001B[0m \u001B[0mFacesDataset\u001B[0m\u001B[1;33m(\u001B[0m\u001B[1;34m\"./../data/vgg_data/\"\u001B[0m\u001B[1;33m,\u001B[0m \u001B[0mtransform\u001B[0m\u001B[1;33m=\u001B[0m\u001B[1;32mlambda\u001B[0m \u001B[0mx\u001B[0m\u001B[1;33m:\u001B[0m \u001B[1;33m(\u001B[0m\u001B[0mtorch\u001B[0m\u001B[1;33m.\u001B[0m\u001B[0mtensor\u001B[0m\u001B[1;33m(\u001B[0m\u001B[0mtransform\u001B[0m\u001B[1;33m.\u001B[0m\u001B[0mresize\u001B[0m\u001B[1;33m(\u001B[0m\u001B[0mnp\u001B[0m\u001B[1;33m.\u001B[0m\u001B[0marray\u001B[0m\u001B[1;33m(\u001B[0m\u001B[0mx\u001B[0m\u001B[1;33m[\u001B[0m\u001B[1;34m'image'\u001B[0m\u001B[1;33m]\u001B[0m\u001B[1;33m)\u001B[0m\u001B[1;33m,\u001B[0m \u001B[1;33m(\u001B[0m\u001B[1;36m10\u001B[0m\u001B[1;33m,\u001B[0m \u001B[1;36m10\u001B[0m\u001B[1;33m)\u001B[0m\u001B[1;33m)\u001B[0m\u001B[1;33m)\u001B[0m\u001B[1;33m.\u001B[0m\u001B[0mpermute\u001B[0m\u001B[1;33m(\u001B[0m\u001B[1;33m(\u001B[0m\u001B[1;36m2\u001B[0m\u001B[1;33m,\u001B[0m \u001B[1;36m0\u001B[0m\u001B[1;33m,\u001B[0m \u001B[1;36m1\u001B[0m\u001B[1;33m)\u001B[0m\u001B[1;33m)\u001B[0m\u001B[1;33m,\u001B[0m \u001B[0mx\u001B[0m\u001B[1;33m[\u001B[0m\u001B[1;34m'class'\u001B[0m\u001B[1;33m]\u001B[0m\u001B[1;33m)\u001B[0m\u001B[1;33m)\u001B[0m\u001B[1;33m\u001B[0m\u001B[1;33m\u001B[0m\u001B[0m\n\u001B[0m\u001B[0;32m      2\u001B[0m \u001B[0mtrain_data\u001B[0m \u001B[1;33m=\u001B[0m \u001B[0mtorch\u001B[0m\u001B[1;33m.\u001B[0m\u001B[0mutils\u001B[0m\u001B[1;33m.\u001B[0m\u001B[0mdata\u001B[0m\u001B[1;33m.\u001B[0m\u001B[0mDataLoader\u001B[0m\u001B[1;33m(\u001B[0m\u001B[0mdata\u001B[0m\u001B[1;33m,\u001B[0m \u001B[0mbatch_size\u001B[0m\u001B[1;33m=\u001B[0m\u001B[0mBATCH_SIZE\u001B[0m\u001B[1;33m,\u001B[0m \u001B[0mdrop_last\u001B[0m\u001B[1;33m=\u001B[0m\u001B[1;32mTrue\u001B[0m\u001B[1;33m)\u001B[0m\u001B[1;33m\u001B[0m\u001B[1;33m\u001B[0m\u001B[0m\n",
      "\u001B[1;32mc:\\users\\seray\\appdata\\local\\programs\\python\\python37\\lib\\site-packages\\skimage\\transform\\_warps.py\u001B[0m in \u001B[0;36mresize\u001B[1;34m(image, output_shape, order, mode, cval, clip, preserve_range, anti_aliasing, anti_aliasing_sigma)\u001B[0m\n\u001B[0;32m    146\u001B[0m \u001B[1;33m\u001B[0m\u001B[0m\n\u001B[0;32m    147\u001B[0m         image = ndi.gaussian_filter(image, anti_aliasing_sigma,\n\u001B[1;32m--> 148\u001B[1;33m                                     cval=cval, mode=ndi_mode)\n\u001B[0m\u001B[0;32m    149\u001B[0m \u001B[1;33m\u001B[0m\u001B[0m\n\u001B[0;32m    150\u001B[0m     \u001B[1;31m# 2-dimensional interpolation\u001B[0m\u001B[1;33m\u001B[0m\u001B[1;33m\u001B[0m\u001B[1;33m\u001B[0m\u001B[0m\n",
      "\u001B[1;32m~\\AppData\\Roaming\\Python\\Python37\\site-packages\\scipy\\ndimage\\filters.py\u001B[0m in \u001B[0;36mgaussian_filter\u001B[1;34m(input, sigma, order, output, mode, cval, truncate)\u001B[0m\n\u001B[0;32m    297\u001B[0m         \u001B[1;32mfor\u001B[0m \u001B[0maxis\u001B[0m\u001B[1;33m,\u001B[0m \u001B[0msigma\u001B[0m\u001B[1;33m,\u001B[0m \u001B[0morder\u001B[0m\u001B[1;33m,\u001B[0m \u001B[0mmode\u001B[0m \u001B[1;32min\u001B[0m \u001B[0maxes\u001B[0m\u001B[1;33m:\u001B[0m\u001B[1;33m\u001B[0m\u001B[1;33m\u001B[0m\u001B[0m\n\u001B[0;32m    298\u001B[0m             gaussian_filter1d(input, sigma, axis, order, output,\n\u001B[1;32m--> 299\u001B[1;33m                               mode, cval, truncate)\n\u001B[0m\u001B[0;32m    300\u001B[0m             \u001B[0minput\u001B[0m \u001B[1;33m=\u001B[0m \u001B[0moutput\u001B[0m\u001B[1;33m\u001B[0m\u001B[1;33m\u001B[0m\u001B[0m\n\u001B[0;32m    301\u001B[0m     \u001B[1;32melse\u001B[0m\u001B[1;33m:\u001B[0m\u001B[1;33m\u001B[0m\u001B[1;33m\u001B[0m\u001B[0m\n",
      "\u001B[1;32m~\\AppData\\Roaming\\Python\\Python37\\site-packages\\scipy\\ndimage\\filters.py\u001B[0m in \u001B[0;36mgaussian_filter1d\u001B[1;34m(input, sigma, axis, order, output, mode, cval, truncate)\u001B[0m\n\u001B[0;32m    215\u001B[0m     \u001B[1;31m# Since we are calling correlate, not convolve, revert the kernel\u001B[0m\u001B[1;33m\u001B[0m\u001B[1;33m\u001B[0m\u001B[1;33m\u001B[0m\u001B[0m\n\u001B[0;32m    216\u001B[0m     \u001B[0mweights\u001B[0m \u001B[1;33m=\u001B[0m \u001B[0m_gaussian_kernel1d\u001B[0m\u001B[1;33m(\u001B[0m\u001B[0msigma\u001B[0m\u001B[1;33m,\u001B[0m \u001B[0morder\u001B[0m\u001B[1;33m,\u001B[0m \u001B[0mlw\u001B[0m\u001B[1;33m)\u001B[0m\u001B[1;33m[\u001B[0m\u001B[1;33m:\u001B[0m\u001B[1;33m:\u001B[0m\u001B[1;33m-\u001B[0m\u001B[1;36m1\u001B[0m\u001B[1;33m]\u001B[0m\u001B[1;33m\u001B[0m\u001B[1;33m\u001B[0m\u001B[0m\n\u001B[1;32m--> 217\u001B[1;33m     \u001B[1;32mreturn\u001B[0m \u001B[0mcorrelate1d\u001B[0m\u001B[1;33m(\u001B[0m\u001B[0minput\u001B[0m\u001B[1;33m,\u001B[0m \u001B[0mweights\u001B[0m\u001B[1;33m,\u001B[0m \u001B[0maxis\u001B[0m\u001B[1;33m,\u001B[0m \u001B[0moutput\u001B[0m\u001B[1;33m,\u001B[0m \u001B[0mmode\u001B[0m\u001B[1;33m,\u001B[0m \u001B[0mcval\u001B[0m\u001B[1;33m,\u001B[0m \u001B[1;36m0\u001B[0m\u001B[1;33m)\u001B[0m\u001B[1;33m\u001B[0m\u001B[1;33m\u001B[0m\u001B[0m\n\u001B[0m\u001B[0;32m    218\u001B[0m \u001B[1;33m\u001B[0m\u001B[0m\n\u001B[0;32m    219\u001B[0m \u001B[1;33m\u001B[0m\u001B[0m\n",
      "\u001B[1;32m~\\AppData\\Roaming\\Python\\Python37\\site-packages\\scipy\\ndimage\\filters.py\u001B[0m in \u001B[0;36mcorrelate1d\u001B[1;34m(input, weights, axis, output, mode, cval, origin)\u001B[0m\n\u001B[0;32m     93\u001B[0m     \u001B[0mmode\u001B[0m \u001B[1;33m=\u001B[0m \u001B[0m_ni_support\u001B[0m\u001B[1;33m.\u001B[0m\u001B[0m_extend_mode_to_code\u001B[0m\u001B[1;33m(\u001B[0m\u001B[0mmode\u001B[0m\u001B[1;33m)\u001B[0m\u001B[1;33m\u001B[0m\u001B[1;33m\u001B[0m\u001B[0m\n\u001B[0;32m     94\u001B[0m     _nd_image.correlate1d(input, weights, axis, output, mode, cval,\n\u001B[1;32m---> 95\u001B[1;33m                           origin)\n\u001B[0m\u001B[0;32m     96\u001B[0m     \u001B[1;32mreturn\u001B[0m \u001B[0moutput\u001B[0m\u001B[1;33m\u001B[0m\u001B[1;33m\u001B[0m\u001B[0m\n\u001B[0;32m     97\u001B[0m \u001B[1;33m\u001B[0m\u001B[0m\n",
      "\u001B[1;31mKeyboardInterrupt\u001B[0m: "
     ]
    }
   ],
   "source": [
    "res = trainer.train(train_data, 10)"
   ]
  },
  {
   "cell_type": "code",
   "execution_count": 25,
   "metadata": {
    "colab": {
     "base_uri": "https://localhost:8080/"
    },
    "id": "fcU9HDRG6fDs",
    "outputId": "da36b429-fb15-49ef-b594-37247330e6ca"
   },
   "outputs": [
    {
     "ename": "RuntimeError",
     "evalue": "mat1 and mat2 shapes cannot be multiplied (128x2304 and 100x51)",
     "output_type": "error",
     "traceback": [
      "\u001B[1;31m---------------------------------------------------------------------------\u001B[0m",
      "\u001B[1;31mRuntimeError\u001B[0m                              Traceback (most recent call last)",
      "\u001B[1;32m<ipython-input-25-154ad94c14a4>\u001B[0m in \u001B[0;36m<module>\u001B[1;34m\u001B[0m\n\u001B[0;32m      1\u001B[0m \u001B[0mval_batch\u001B[0m \u001B[1;33m=\u001B[0m \u001B[0miter\u001B[0m\u001B[1;33m(\u001B[0m\u001B[0mtrain_data\u001B[0m\u001B[1;33m)\u001B[0m\u001B[1;33m.\u001B[0m\u001B[0mnext\u001B[0m\u001B[1;33m(\u001B[0m\u001B[1;33m)\u001B[0m\u001B[1;33m[\u001B[0m\u001B[1;36m0\u001B[0m\u001B[1;33m]\u001B[0m\u001B[1;33m.\u001B[0m\u001B[0mfloat\u001B[0m\u001B[1;33m(\u001B[0m\u001B[1;33m)\u001B[0m\u001B[1;33m\u001B[0m\u001B[1;33m\u001B[0m\u001B[0m\n\u001B[0;32m      2\u001B[0m \u001B[1;32mfor\u001B[0m \u001B[0mi\u001B[0m \u001B[1;32min\u001B[0m \u001B[0mrange\u001B[0m\u001B[1;33m(\u001B[0m\u001B[1;36m16\u001B[0m\u001B[1;33m)\u001B[0m\u001B[1;33m:\u001B[0m\u001B[1;33m\u001B[0m\u001B[1;33m\u001B[0m\u001B[0m\n\u001B[1;32m----> 3\u001B[1;33m     \u001B[0mprint\u001B[0m\u001B[1;33m(\u001B[0m\u001B[0mF\u001B[0m\u001B[1;33m.\u001B[0m\u001B[0msoftmax\u001B[0m\u001B[1;33m(\u001B[0m\u001B[0mattacked_model\u001B[0m\u001B[1;33m(\u001B[0m\u001B[0mval_batch\u001B[0m\u001B[1;33m)\u001B[0m\u001B[1;33m,\u001B[0m \u001B[1;33m-\u001B[0m\u001B[1;36m1\u001B[0m\u001B[1;33m)\u001B[0m\u001B[1;33m.\u001B[0m\u001B[0mcpu\u001B[0m\u001B[1;33m(\u001B[0m\u001B[1;33m)\u001B[0m\u001B[1;33m.\u001B[0m\u001B[0mdetach\u001B[0m\u001B[1;33m(\u001B[0m\u001B[1;33m)\u001B[0m\u001B[1;33m.\u001B[0m\u001B[0mnumpy\u001B[0m\u001B[1;33m(\u001B[0m\u001B[1;33m)\u001B[0m\u001B[1;33m[\u001B[0m\u001B[0mi\u001B[0m\u001B[1;33m,\u001B[0m \u001B[1;36m0\u001B[0m\u001B[1;33m]\u001B[0m\u001B[1;33m,\u001B[0m \u001B[0mF\u001B[0m\u001B[1;33m.\u001B[0m\u001B[0msoftmax\u001B[0m\u001B[1;33m(\u001B[0m\u001B[0mattacked_model\u001B[0m\u001B[1;33m(\u001B[0m\u001B[0mval_batch\u001B[0m \u001B[1;33m+\u001B[0m \u001B[0mgenerator_model\u001B[0m\u001B[1;33m(\u001B[0m\u001B[0mval_batch\u001B[0m\u001B[1;33m)\u001B[0m\u001B[1;33m)\u001B[0m\u001B[1;33m,\u001B[0m \u001B[1;33m-\u001B[0m\u001B[1;36m1\u001B[0m\u001B[1;33m)\u001B[0m\u001B[1;33m.\u001B[0m\u001B[0mcpu\u001B[0m\u001B[1;33m(\u001B[0m\u001B[1;33m)\u001B[0m\u001B[1;33m.\u001B[0m\u001B[0mdetach\u001B[0m\u001B[1;33m(\u001B[0m\u001B[1;33m)\u001B[0m\u001B[1;33m.\u001B[0m\u001B[0mnumpy\u001B[0m\u001B[1;33m(\u001B[0m\u001B[1;33m)\u001B[0m\u001B[1;33m[\u001B[0m\u001B[0mi\u001B[0m\u001B[1;33m,\u001B[0m \u001B[1;36m0\u001B[0m\u001B[1;33m]\u001B[0m\u001B[1;33m)\u001B[0m\u001B[1;33m\u001B[0m\u001B[1;33m\u001B[0m\u001B[0m\n\u001B[0m",
      "\u001B[1;32mc:\\users\\seray\\appdata\\local\\programs\\python\\python37\\lib\\site-packages\\torch\\nn\\modules\\module.py\u001B[0m in \u001B[0;36m_call_impl\u001B[1;34m(self, *input, **kwargs)\u001B[0m\n\u001B[0;32m    725\u001B[0m             \u001B[0mresult\u001B[0m \u001B[1;33m=\u001B[0m \u001B[0mself\u001B[0m\u001B[1;33m.\u001B[0m\u001B[0m_slow_forward\u001B[0m\u001B[1;33m(\u001B[0m\u001B[1;33m*\u001B[0m\u001B[0minput\u001B[0m\u001B[1;33m,\u001B[0m \u001B[1;33m**\u001B[0m\u001B[0mkwargs\u001B[0m\u001B[1;33m)\u001B[0m\u001B[1;33m\u001B[0m\u001B[1;33m\u001B[0m\u001B[0m\n\u001B[0;32m    726\u001B[0m         \u001B[1;32melse\u001B[0m\u001B[1;33m:\u001B[0m\u001B[1;33m\u001B[0m\u001B[1;33m\u001B[0m\u001B[0m\n\u001B[1;32m--> 727\u001B[1;33m             \u001B[0mresult\u001B[0m \u001B[1;33m=\u001B[0m \u001B[0mself\u001B[0m\u001B[1;33m.\u001B[0m\u001B[0mforward\u001B[0m\u001B[1;33m(\u001B[0m\u001B[1;33m*\u001B[0m\u001B[0minput\u001B[0m\u001B[1;33m,\u001B[0m \u001B[1;33m**\u001B[0m\u001B[0mkwargs\u001B[0m\u001B[1;33m)\u001B[0m\u001B[1;33m\u001B[0m\u001B[1;33m\u001B[0m\u001B[0m\n\u001B[0m\u001B[0;32m    728\u001B[0m         for hook in itertools.chain(\n\u001B[0;32m    729\u001B[0m                 \u001B[0m_global_forward_hooks\u001B[0m\u001B[1;33m.\u001B[0m\u001B[0mvalues\u001B[0m\u001B[1;33m(\u001B[0m\u001B[1;33m)\u001B[0m\u001B[1;33m,\u001B[0m\u001B[1;33m\u001B[0m\u001B[1;33m\u001B[0m\u001B[0m\n",
      "\u001B[1;32m~\\Desktop\\diplom\\Baseline\\models\\classifier.py\u001B[0m in \u001B[0;36mforward\u001B[1;34m(self, batch)\u001B[0m\n\u001B[0;32m     18\u001B[0m \u001B[1;33m\u001B[0m\u001B[0m\n\u001B[0;32m     19\u001B[0m     \u001B[1;32mdef\u001B[0m \u001B[0mforward\u001B[0m\u001B[1;33m(\u001B[0m\u001B[0mself\u001B[0m\u001B[1;33m,\u001B[0m \u001B[0mbatch\u001B[0m\u001B[1;33m)\u001B[0m\u001B[1;33m:\u001B[0m\u001B[1;33m\u001B[0m\u001B[1;33m\u001B[0m\u001B[0m\n\u001B[1;32m---> 20\u001B[1;33m         \u001B[1;32mreturn\u001B[0m \u001B[0mself\u001B[0m\u001B[1;33m.\u001B[0m\u001B[0mmodel\u001B[0m\u001B[1;33m(\u001B[0m\u001B[0mbatch\u001B[0m\u001B[1;33m)\u001B[0m\u001B[1;33m\u001B[0m\u001B[1;33m\u001B[0m\u001B[0m\n\u001B[0m",
      "\u001B[1;32mc:\\users\\seray\\appdata\\local\\programs\\python\\python37\\lib\\site-packages\\torch\\nn\\modules\\module.py\u001B[0m in \u001B[0;36m_call_impl\u001B[1;34m(self, *input, **kwargs)\u001B[0m\n\u001B[0;32m    725\u001B[0m             \u001B[0mresult\u001B[0m \u001B[1;33m=\u001B[0m \u001B[0mself\u001B[0m\u001B[1;33m.\u001B[0m\u001B[0m_slow_forward\u001B[0m\u001B[1;33m(\u001B[0m\u001B[1;33m*\u001B[0m\u001B[0minput\u001B[0m\u001B[1;33m,\u001B[0m \u001B[1;33m**\u001B[0m\u001B[0mkwargs\u001B[0m\u001B[1;33m)\u001B[0m\u001B[1;33m\u001B[0m\u001B[1;33m\u001B[0m\u001B[0m\n\u001B[0;32m    726\u001B[0m         \u001B[1;32melse\u001B[0m\u001B[1;33m:\u001B[0m\u001B[1;33m\u001B[0m\u001B[1;33m\u001B[0m\u001B[0m\n\u001B[1;32m--> 727\u001B[1;33m             \u001B[0mresult\u001B[0m \u001B[1;33m=\u001B[0m \u001B[0mself\u001B[0m\u001B[1;33m.\u001B[0m\u001B[0mforward\u001B[0m\u001B[1;33m(\u001B[0m\u001B[1;33m*\u001B[0m\u001B[0minput\u001B[0m\u001B[1;33m,\u001B[0m \u001B[1;33m**\u001B[0m\u001B[0mkwargs\u001B[0m\u001B[1;33m)\u001B[0m\u001B[1;33m\u001B[0m\u001B[1;33m\u001B[0m\u001B[0m\n\u001B[0m\u001B[0;32m    728\u001B[0m         for hook in itertools.chain(\n\u001B[0;32m    729\u001B[0m                 \u001B[0m_global_forward_hooks\u001B[0m\u001B[1;33m.\u001B[0m\u001B[0mvalues\u001B[0m\u001B[1;33m(\u001B[0m\u001B[1;33m)\u001B[0m\u001B[1;33m,\u001B[0m\u001B[1;33m\u001B[0m\u001B[1;33m\u001B[0m\u001B[0m\n",
      "\u001B[1;32mc:\\users\\seray\\appdata\\local\\programs\\python\\python37\\lib\\site-packages\\torch\\nn\\modules\\container.py\u001B[0m in \u001B[0;36mforward\u001B[1;34m(self, input)\u001B[0m\n\u001B[0;32m    115\u001B[0m     \u001B[1;32mdef\u001B[0m \u001B[0mforward\u001B[0m\u001B[1;33m(\u001B[0m\u001B[0mself\u001B[0m\u001B[1;33m,\u001B[0m \u001B[0minput\u001B[0m\u001B[1;33m)\u001B[0m\u001B[1;33m:\u001B[0m\u001B[1;33m\u001B[0m\u001B[1;33m\u001B[0m\u001B[0m\n\u001B[0;32m    116\u001B[0m         \u001B[1;32mfor\u001B[0m \u001B[0mmodule\u001B[0m \u001B[1;32min\u001B[0m \u001B[0mself\u001B[0m\u001B[1;33m:\u001B[0m\u001B[1;33m\u001B[0m\u001B[1;33m\u001B[0m\u001B[0m\n\u001B[1;32m--> 117\u001B[1;33m             \u001B[0minput\u001B[0m \u001B[1;33m=\u001B[0m \u001B[0mmodule\u001B[0m\u001B[1;33m(\u001B[0m\u001B[0minput\u001B[0m\u001B[1;33m)\u001B[0m\u001B[1;33m\u001B[0m\u001B[1;33m\u001B[0m\u001B[0m\n\u001B[0m\u001B[0;32m    118\u001B[0m         \u001B[1;32mreturn\u001B[0m \u001B[0minput\u001B[0m\u001B[1;33m\u001B[0m\u001B[1;33m\u001B[0m\u001B[0m\n\u001B[0;32m    119\u001B[0m \u001B[1;33m\u001B[0m\u001B[0m\n",
      "\u001B[1;32mc:\\users\\seray\\appdata\\local\\programs\\python\\python37\\lib\\site-packages\\torch\\nn\\modules\\module.py\u001B[0m in \u001B[0;36m_call_impl\u001B[1;34m(self, *input, **kwargs)\u001B[0m\n\u001B[0;32m    725\u001B[0m             \u001B[0mresult\u001B[0m \u001B[1;33m=\u001B[0m \u001B[0mself\u001B[0m\u001B[1;33m.\u001B[0m\u001B[0m_slow_forward\u001B[0m\u001B[1;33m(\u001B[0m\u001B[1;33m*\u001B[0m\u001B[0minput\u001B[0m\u001B[1;33m,\u001B[0m \u001B[1;33m**\u001B[0m\u001B[0mkwargs\u001B[0m\u001B[1;33m)\u001B[0m\u001B[1;33m\u001B[0m\u001B[1;33m\u001B[0m\u001B[0m\n\u001B[0;32m    726\u001B[0m         \u001B[1;32melse\u001B[0m\u001B[1;33m:\u001B[0m\u001B[1;33m\u001B[0m\u001B[1;33m\u001B[0m\u001B[0m\n\u001B[1;32m--> 727\u001B[1;33m             \u001B[0mresult\u001B[0m \u001B[1;33m=\u001B[0m \u001B[0mself\u001B[0m\u001B[1;33m.\u001B[0m\u001B[0mforward\u001B[0m\u001B[1;33m(\u001B[0m\u001B[1;33m*\u001B[0m\u001B[0minput\u001B[0m\u001B[1;33m,\u001B[0m \u001B[1;33m**\u001B[0m\u001B[0mkwargs\u001B[0m\u001B[1;33m)\u001B[0m\u001B[1;33m\u001B[0m\u001B[1;33m\u001B[0m\u001B[0m\n\u001B[0m\u001B[0;32m    728\u001B[0m         for hook in itertools.chain(\n\u001B[0;32m    729\u001B[0m                 \u001B[0m_global_forward_hooks\u001B[0m\u001B[1;33m.\u001B[0m\u001B[0mvalues\u001B[0m\u001B[1;33m(\u001B[0m\u001B[1;33m)\u001B[0m\u001B[1;33m,\u001B[0m\u001B[1;33m\u001B[0m\u001B[1;33m\u001B[0m\u001B[0m\n",
      "\u001B[1;32mc:\\users\\seray\\appdata\\local\\programs\\python\\python37\\lib\\site-packages\\torch\\nn\\modules\\linear.py\u001B[0m in \u001B[0;36mforward\u001B[1;34m(self, input)\u001B[0m\n\u001B[0;32m     91\u001B[0m \u001B[1;33m\u001B[0m\u001B[0m\n\u001B[0;32m     92\u001B[0m     \u001B[1;32mdef\u001B[0m \u001B[0mforward\u001B[0m\u001B[1;33m(\u001B[0m\u001B[0mself\u001B[0m\u001B[1;33m,\u001B[0m \u001B[0minput\u001B[0m\u001B[1;33m:\u001B[0m \u001B[0mTensor\u001B[0m\u001B[1;33m)\u001B[0m \u001B[1;33m->\u001B[0m \u001B[0mTensor\u001B[0m\u001B[1;33m:\u001B[0m\u001B[1;33m\u001B[0m\u001B[1;33m\u001B[0m\u001B[0m\n\u001B[1;32m---> 93\u001B[1;33m         \u001B[1;32mreturn\u001B[0m \u001B[0mF\u001B[0m\u001B[1;33m.\u001B[0m\u001B[0mlinear\u001B[0m\u001B[1;33m(\u001B[0m\u001B[0minput\u001B[0m\u001B[1;33m,\u001B[0m \u001B[0mself\u001B[0m\u001B[1;33m.\u001B[0m\u001B[0mweight\u001B[0m\u001B[1;33m,\u001B[0m \u001B[0mself\u001B[0m\u001B[1;33m.\u001B[0m\u001B[0mbias\u001B[0m\u001B[1;33m)\u001B[0m\u001B[1;33m\u001B[0m\u001B[1;33m\u001B[0m\u001B[0m\n\u001B[0m\u001B[0;32m     94\u001B[0m \u001B[1;33m\u001B[0m\u001B[0m\n\u001B[0;32m     95\u001B[0m     \u001B[1;32mdef\u001B[0m \u001B[0mextra_repr\u001B[0m\u001B[1;33m(\u001B[0m\u001B[0mself\u001B[0m\u001B[1;33m)\u001B[0m \u001B[1;33m->\u001B[0m \u001B[0mstr\u001B[0m\u001B[1;33m:\u001B[0m\u001B[1;33m\u001B[0m\u001B[1;33m\u001B[0m\u001B[0m\n",
      "\u001B[1;32mc:\\users\\seray\\appdata\\local\\programs\\python\\python37\\lib\\site-packages\\torch\\nn\\functional.py\u001B[0m in \u001B[0;36mlinear\u001B[1;34m(input, weight, bias)\u001B[0m\n\u001B[0;32m   1688\u001B[0m     \u001B[1;32mif\u001B[0m \u001B[0minput\u001B[0m\u001B[1;33m.\u001B[0m\u001B[0mdim\u001B[0m\u001B[1;33m(\u001B[0m\u001B[1;33m)\u001B[0m \u001B[1;33m==\u001B[0m \u001B[1;36m2\u001B[0m \u001B[1;32mand\u001B[0m \u001B[0mbias\u001B[0m \u001B[1;32mis\u001B[0m \u001B[1;32mnot\u001B[0m \u001B[1;32mNone\u001B[0m\u001B[1;33m:\u001B[0m\u001B[1;33m\u001B[0m\u001B[1;33m\u001B[0m\u001B[0m\n\u001B[0;32m   1689\u001B[0m         \u001B[1;31m# fused op is marginally faster\u001B[0m\u001B[1;33m\u001B[0m\u001B[1;33m\u001B[0m\u001B[1;33m\u001B[0m\u001B[0m\n\u001B[1;32m-> 1690\u001B[1;33m         \u001B[0mret\u001B[0m \u001B[1;33m=\u001B[0m \u001B[0mtorch\u001B[0m\u001B[1;33m.\u001B[0m\u001B[0maddmm\u001B[0m\u001B[1;33m(\u001B[0m\u001B[0mbias\u001B[0m\u001B[1;33m,\u001B[0m \u001B[0minput\u001B[0m\u001B[1;33m,\u001B[0m \u001B[0mweight\u001B[0m\u001B[1;33m.\u001B[0m\u001B[0mt\u001B[0m\u001B[1;33m(\u001B[0m\u001B[1;33m)\u001B[0m\u001B[1;33m)\u001B[0m\u001B[1;33m\u001B[0m\u001B[1;33m\u001B[0m\u001B[0m\n\u001B[0m\u001B[0;32m   1691\u001B[0m     \u001B[1;32melse\u001B[0m\u001B[1;33m:\u001B[0m\u001B[1;33m\u001B[0m\u001B[1;33m\u001B[0m\u001B[0m\n\u001B[0;32m   1692\u001B[0m         \u001B[0moutput\u001B[0m \u001B[1;33m=\u001B[0m \u001B[0minput\u001B[0m\u001B[1;33m.\u001B[0m\u001B[0mmatmul\u001B[0m\u001B[1;33m(\u001B[0m\u001B[0mweight\u001B[0m\u001B[1;33m.\u001B[0m\u001B[0mt\u001B[0m\u001B[1;33m(\u001B[0m\u001B[1;33m)\u001B[0m\u001B[1;33m)\u001B[0m\u001B[1;33m\u001B[0m\u001B[1;33m\u001B[0m\u001B[0m\n",
      "\u001B[1;31mRuntimeError\u001B[0m: mat1 and mat2 shapes cannot be multiplied (128x2304 and 100x51)"
     ]
    }
   ],
   "source": [
    "val_batch = iter(train_data).next()[0].float()\n",
    "for i in range(16):\n",
    "    print(F.softmax(attacked_model(val_batch), -1).cpu().detach().numpy()[i, 0], F.softmax(attacked_model(val_batch + generator_model(val_batch)), -1).cpu().detach().numpy()[i, 0])"
   ]
  },
  {
   "cell_type": "code",
   "execution_count": 26,
   "metadata": {},
   "outputs": [
    {
     "data": {
      "text/plain": [
       "Text(0.5, 1.0, 'Fake: Prediction: 0, confidence: 0.9990413784980774')"
      ]
     },
     "execution_count": 26,
     "metadata": {},
     "output_type": "execute_result"
    },
    {
     "data": {
      "image/png": "[encoded data removed]",
      "text/plain": [
       "<Figure size 216x216 with 1 Axes>"
      ]
     },
     "metadata": {
      "needs_background": "light"
     },
     "output_type": "display_data"
    },
    {
     "data": {
      "image/png": "[encoded data removed]",
      "text/plain": [
       "<Figure size 216x216 with 1 Axes>"
      ]
     },
     "metadata": {
      "needs_background": "light"
     },
     "output_type": "display_data"
    }
   ],
   "source": [
    "test_img = val_batch[15:16]\n",
    "#true_confs = F.softmax(attacked_model(test_img), -1).cpu().detach().numpy()[0]\n",
    "#fake_confs = F.softmax(attacked_model(test_img + generator_model(test_img)), -1).cpu().detach().numpy()[0]\n",
    "\n",
    "plt.figure(figsize=(3,3))\n",
    "plt.imshow(test_img[0].permute((1, 2, 0)), cmap='gray')\n",
    "plt.title(\"Truth: Prediction: {}, confidence: {}\".format(np.argmax(true_confs), true_confs.max()))\n",
    "\n",
    "plt.figure(figsize=(3,3))\n",
    "plt.imshow(((test_img + generator_model(test_img).cpu().detach().numpy()) / 2)[0].permute((1, 2, 0)), cmap='gray')\n",
    "plt.title(\"Fake: Prediction: {}, confidence: {}\".format(np.argmax(fake_confs), fake_confs.max()))"
   ]
  },
  {
   "cell_type": "code",
   "execution_count": null,
   "metadata": {
    "colab": {
     "base_uri": "https://localhost:8080/",
     "height": 350
    },
    "id": "dFrk7pyQj9x0",
    "outputId": "6e93d5b2-59c9-4bc9-b970-520a6629e52b",
    "pycharm": {
     "name": "#%%\n"
    }
   },
   "outputs": [],
   "source": [
    "plt.figure(figsize=(10,5))\n",
    "plt.title(\"Loss\")\n",
    "plt.plot(res[0],label=\"Generator loss\")\n",
    "plt.plot(res[1],label=\"Discriminator loss\")\n",
    "plt.plot(res[2],label=\"Attack loss\")\n",
    "plt.xlabel(\"Epoch\")\n",
    "plt.ylabel(\"Loss\")\n",
    "plt.legend()\n",
    "plt.show()"
   ]
  }
 ],
 "metadata": {
  "accelerator": "GPU",
  "colab": {
   "collapsed_sections": [],
   "name": "main.ipynb",
   "provenance": []
  },
  "kernelspec": {
   "display_name": "Python 3",
   "language": "python",
   "name": "python3"
  },
  "language_info": {
   "codemirror_mode": {
    "name": "ipython",
    "version": 3
   },
   "file_extension": ".py",
   "mimetype": "text/x-python",
   "name": "python",
   "nbconvert_exporter": "python",
   "pygments_lexer": "ipython3",
   "version": "3.7.9"
  }
 },
 "nbformat": 4,
 "nbformat_minor": 1
}