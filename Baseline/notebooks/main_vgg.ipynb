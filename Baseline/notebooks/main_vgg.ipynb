{
 "cells": [
  {
   "cell_type": "code",
   "execution_count": 2,
   "metadata": {
    "id": "cTrN0E3pj9xd",
    "pycharm": {
     "name": "#%%\n"
    }
   },
   "outputs": [],
   "source": [
    "import torch\n",
    "import torchvision\n",
    "from torchvision import transforms\n",
    "from skimage import io, transform\n",
    "from torch import nn\n",
    "\n",
    "import json\n",
    "\n",
    "import numpy as np\n",
    "\n",
    "from training.losses import *\n",
    "from training.train import *\n",
    "from training.plots import *\n",
    "from models.gan import *\n",
    "from models.classifier import *\n",
    "from training.data import *\n",
    "\n",
    "import matplotlib.pyplot as plt\n",
    "from PIL import Image"
   ]
  },
  {
   "cell_type": "code",
   "execution_count": 2,
   "metadata": {
    "id": "VFtrr2XNj9xr"
   },
   "outputs": [],
   "source": [
    "BATCH_SIZE = 128\n",
    "LR = 3e-4\n",
    "BETAS = 0.9, 0.999"
   ]
  },
  {
   "cell_type": "code",
   "execution_count": 3,
   "metadata": {
    "colab": {
     "base_uri": "https://localhost:8080/"
    },
    "id": "XYOGsn2rj9xv",
    "outputId": "49e9b3ac-5c3f-40ba-9cce-efa581c0b5be",
    "pycharm": {
     "name": "#%%\n"
    }
   },
   "outputs": [
    {
     "name": "stdout",
     "output_type": "stream",
     "text": [
      "./../data/vgg_data/Bingbing_Fan\\794.jpg\n",
      "./../data/vgg_data/Andrew_Buchan\\295.jpg\n",
      "./../data/vgg_data/Thad_Luckinbill\\405.jpg\n",
      "./../data/vgg_data/Nelly\\757.jpg\n"
     ]
    }
   ],
   "source": [
    "data = FacesDataset(\"./../data/vgg_data/\", transform=lambda x: (torch.tensor(transform.resize(np.array(x['image']), (48, 48))).permute((2, 0, 1)), x['class']))\n",
    "train_data = torch.utils.data.DataLoader(data, batch_size=BATCH_SIZE, drop_last=True)"
   ]
  },
  {
   "cell_type": "code",
   "execution_count": 4,
   "metadata": {},
   "outputs": [
    {
     "name": "stdout",
     "output_type": "stream",
     "text": [
      "0\n",
      "[tensor([[[[0.2696, 0.0971, 0.0304,  ..., 0.0176, 0.0284, 0.1402],\n",
      "          [0.2696, 0.0951, 0.0284,  ..., 0.0216, 0.0275, 0.0843],\n",
      "          [0.2392, 0.0882, 0.0333,  ..., 0.0157, 0.0392, 0.0931],\n",
      "          ...,\n",
      "          [0.4627, 0.4627, 0.4931,  ..., 0.1343, 0.1235, 0.0971],\n",
      "          [0.4549, 0.4559, 0.4873,  ..., 0.1794, 0.1039, 0.0892],\n",
      "          [0.4627, 0.4637, 0.4853,  ..., 0.3990, 0.1098, 0.0873]],\n",
      "\n",
      "         [[0.2235, 0.0627, 0.0137,  ..., 0.0206, 0.0206, 0.1167],\n",
      "          [0.2265, 0.0637, 0.0127,  ..., 0.0255, 0.0196, 0.0618],\n",
      "          [0.1990, 0.0598, 0.0186,  ..., 0.0147, 0.0324, 0.0755],\n",
      "          ...,\n",
      "          [0.4265, 0.4157, 0.4392,  ..., 0.1127, 0.1176, 0.1127],\n",
      "          [0.4020, 0.3941, 0.4206,  ..., 0.1627, 0.1078, 0.1225],\n",
      "          [0.3931, 0.3912, 0.4069,  ..., 0.3902, 0.1206, 0.1324]],\n",
      "\n",
      "         [[0.2000, 0.0529, 0.0049,  ..., 0.0324, 0.0118, 0.0990],\n",
      "          [0.2029, 0.0520, 0.0039,  ..., 0.0294, 0.0127, 0.0451],\n",
      "          [0.1745, 0.0441, 0.0039,  ..., 0.0137, 0.0216, 0.0598],\n",
      "          ...,\n",
      "          [0.3314, 0.3186, 0.3363,  ..., 0.1265, 0.1196, 0.1020],\n",
      "          [0.3167, 0.3049, 0.3294,  ..., 0.1863, 0.1216, 0.1255],\n",
      "          [0.3343, 0.3284, 0.3392,  ..., 0.4216, 0.1431, 0.1461]]],\n",
      "\n",
      "\n",
      "        [[[0.0990, 0.0255, 0.0039,  ..., 0.3980, 0.3824, 0.3706],\n",
      "          [0.0392, 0.0020, 0.0039,  ..., 0.3088, 0.3029, 0.2951],\n",
      "          [0.0147, 0.0000, 0.0235,  ..., 0.2529, 0.2667, 0.2686],\n",
      "          ...,\n",
      "          [0.2637, 0.2686, 0.1402,  ..., 0.0755, 0.0647, 0.1627],\n",
      "          [0.2588, 0.2686, 0.1608,  ..., 0.0902, 0.0765, 0.0618],\n",
      "          [0.2490, 0.2588, 0.1892,  ..., 0.0922, 0.0941, 0.0804]],\n",
      "\n",
      "         [[0.0902, 0.0382, 0.0196,  ..., 0.2745, 0.2735, 0.2706],\n",
      "          [0.0324, 0.0088, 0.0078,  ..., 0.3196, 0.3167, 0.3137],\n",
      "          [0.0098, 0.0000, 0.0137,  ..., 0.2824, 0.2882, 0.2843],\n",
      "          ...,\n",
      "          [0.4461, 0.4275, 0.2637,  ..., 0.1578, 0.1490, 0.2490],\n",
      "          [0.4373, 0.4216, 0.2765,  ..., 0.1618, 0.1569, 0.1490],\n",
      "          [0.4245, 0.4059, 0.2990,  ..., 0.1569, 0.1716, 0.1686]],\n",
      "\n",
      "         [[0.0775, 0.0216, 0.0049,  ..., 0.3843, 0.3863, 0.3902],\n",
      "          [0.0304, 0.0000, 0.0000,  ..., 0.4431, 0.4510, 0.4510],\n",
      "          [0.0196, 0.0000, 0.0029,  ..., 0.3853, 0.4010, 0.4039],\n",
      "          ...,\n",
      "          [0.6627, 0.5971, 0.3676,  ..., 0.2588, 0.2647, 0.3735],\n",
      "          [0.6235, 0.5716, 0.3725,  ..., 0.2451, 0.2765, 0.2951],\n",
      "          [0.5902, 0.5412, 0.3853,  ..., 0.2284, 0.2941, 0.3255]]],\n",
      "\n",
      "\n",
      "        [[[0.7159, 0.7029, 0.6797,  ..., 0.6451, 0.6580, 0.6771],\n",
      "          [0.7362, 0.7183, 0.6907,  ..., 0.6627, 0.6741, 0.6913],\n",
      "          [0.7592, 0.7273, 0.6854,  ..., 0.6874, 0.6938, 0.7058],\n",
      "          ...,\n",
      "          [0.5367, 0.5443, 0.5364,  ..., 0.4915, 0.5619, 0.6308],\n",
      "          [0.4759, 0.4871, 0.4892,  ..., 0.4996, 0.5662, 0.6211],\n",
      "          [0.4430, 0.4562, 0.4649,  ..., 0.5109, 0.5525, 0.5760]],\n",
      "\n",
      "         [[0.4857, 0.4675, 0.4357,  ..., 0.5510, 0.5638, 0.5830],\n",
      "          [0.5009, 0.4808, 0.4453,  ..., 0.5686, 0.5800, 0.5972],\n",
      "          [0.5170, 0.4852, 0.4354,  ..., 0.5962, 0.6026, 0.6146],\n",
      "          ...,\n",
      "          [0.2161, 0.2237, 0.2143,  ..., 0.2729, 0.3433, 0.4134],\n",
      "          [0.1612, 0.1724, 0.1719,  ..., 0.2824, 0.3490, 0.4051],\n",
      "          [0.1322, 0.1455, 0.1501,  ..., 0.2949, 0.3365, 0.3602]],\n",
      "\n",
      "         [[0.3002, 0.2875, 0.2704,  ..., 0.4490, 0.4619, 0.4810],\n",
      "          [0.3208, 0.3042, 0.2834,  ..., 0.4667, 0.4781, 0.4952],\n",
      "          [0.3442, 0.3150, 0.2799,  ..., 0.4972, 0.5036, 0.5156],\n",
      "          ...,\n",
      "          [0.1509, 0.1585, 0.1565,  ..., 0.1661, 0.2365, 0.3014],\n",
      "          [0.0945, 0.1058, 0.1126,  ..., 0.1694, 0.2359, 0.2884],\n",
      "          [0.0656, 0.0788, 0.0907,  ..., 0.1782, 0.2197, 0.2428]]],\n",
      "\n",
      "\n",
      "        ...,\n",
      "\n",
      "\n",
      "        [[[0.3938, 0.1386, 0.0000,  ..., 0.0845, 0.2375, 0.3474],\n",
      "          [0.4133, 0.0786, 0.0061,  ..., 0.0564, 0.0705, 0.3842],\n",
      "          [0.3958, 0.0195, 0.0286,  ..., 0.0227, 0.0521, 0.3006],\n",
      "          ...,\n",
      "          [0.4859, 0.0284, 0.0226,  ..., 0.3445, 0.4860, 0.5538],\n",
      "          [0.3511, 0.0035, 0.0279,  ..., 0.3822, 0.5237, 0.5999],\n",
      "          [0.1587, 0.0106, 0.0254,  ..., 0.3799, 0.4543, 0.4976]],\n",
      "\n",
      "         [[0.5269, 0.2247, 0.0190,  ..., 0.0902, 0.2943, 0.4538],\n",
      "          [0.5329, 0.1517, 0.0223,  ..., 0.0491, 0.1135, 0.4789],\n",
      "          [0.4888, 0.0739, 0.0336,  ..., 0.0095, 0.0841, 0.3807],\n",
      "          ...,\n",
      "          [0.6057, 0.1051, 0.0776,  ..., 0.5237, 0.6582, 0.7144],\n",
      "          [0.4278, 0.0745, 0.0953,  ..., 0.5350, 0.6737, 0.7571],\n",
      "          [0.2254, 0.0772, 0.0869,  ..., 0.5322, 0.6033, 0.6545]],\n",
      "\n",
      "         [[0.5115, 0.2150, 0.0224,  ..., 0.0693, 0.2892, 0.4401],\n",
      "          [0.5150, 0.1476, 0.0258,  ..., 0.0351, 0.1054, 0.4636],\n",
      "          [0.4756, 0.0730, 0.0399,  ..., 0.0081, 0.0736, 0.3582],\n",
      "          ...,\n",
      "          [0.6235, 0.1516, 0.1499,  ..., 0.5045, 0.6539, 0.7213],\n",
      "          [0.4924, 0.1472, 0.1729,  ..., 0.5427, 0.6841, 0.7583],\n",
      "          [0.2960, 0.1557, 0.1673,  ..., 0.5407, 0.6151, 0.6550]]],\n",
      "\n",
      "\n",
      "        [[[0.3422, 0.3401, 0.3330,  ..., 0.5580, 0.5639, 0.5656],\n",
      "          [0.3401, 0.3384, 0.3324,  ..., 0.5472, 0.5525, 0.5540],\n",
      "          [0.3309, 0.3307, 0.3298,  ..., 0.4985, 0.5012, 0.5020],\n",
      "          ...,\n",
      "          [0.2759, 0.2739, 0.2668,  ..., 0.5444, 0.5444, 0.5444],\n",
      "          [0.2754, 0.2731, 0.2647,  ..., 0.5400, 0.5400, 0.5400],\n",
      "          [0.2753, 0.2729, 0.2642,  ..., 0.5390, 0.5390, 0.5390]],\n",
      "\n",
      "         [[0.0919, 0.0916, 0.0903,  ..., 0.5070, 0.5129, 0.5146],\n",
      "          [0.0912, 0.0910, 0.0902,  ..., 0.4962, 0.5015, 0.5030],\n",
      "          [0.0877, 0.0882, 0.0901,  ..., 0.4475, 0.4502, 0.4510],\n",
      "          ...,\n",
      "          [0.1302, 0.1307, 0.1328,  ..., 0.4228, 0.4228, 0.4228],\n",
      "          [0.1297, 0.1299, 0.1307,  ..., 0.4184, 0.4184, 0.4184],\n",
      "          [0.1296, 0.1297, 0.1302,  ..., 0.4174, 0.4174, 0.4174]],\n",
      "\n",
      "         [[0.1140, 0.1131, 0.1100,  ..., 0.4818, 0.4877, 0.4893],\n",
      "          [0.1128, 0.1122, 0.1100,  ..., 0.4700, 0.4753, 0.4768],\n",
      "          [0.1076, 0.1080, 0.1097,  ..., 0.4169, 0.4196, 0.4204],\n",
      "          ...,\n",
      "          [0.0949, 0.0955, 0.0975,  ..., 0.3522, 0.3522, 0.3522],\n",
      "          [0.0944, 0.0946, 0.0954,  ..., 0.3478, 0.3478, 0.3478],\n",
      "          [0.0943, 0.0944, 0.0949,  ..., 0.3468, 0.3468, 0.3468]]],\n",
      "\n",
      "\n",
      "        [[[0.0118, 0.0118, 0.0508,  ..., 0.1849, 0.1986, 0.2031],\n",
      "          [0.0078, 0.0174, 0.0321,  ..., 0.1574, 0.1749, 0.1287],\n",
      "          [0.0104, 0.0248, 0.0297,  ..., 0.0859, 0.1341, 0.1167],\n",
      "          ...,\n",
      "          [0.1325, 0.0545, 0.0407,  ..., 0.8375, 0.7745, 0.6174],\n",
      "          [0.0891, 0.0599, 0.0475,  ..., 0.8384, 0.7497, 0.5923],\n",
      "          [0.0712, 0.0530, 0.0440,  ..., 0.8327, 0.7103, 0.6105]],\n",
      "\n",
      "         [[0.0078, 0.0078, 0.0468,  ..., 0.1810, 0.1947, 0.1992],\n",
      "          [0.0039, 0.0135, 0.0281,  ..., 0.1535, 0.1710, 0.1248],\n",
      "          [0.0065, 0.0209, 0.0258,  ..., 0.0820, 0.1302, 0.1128],\n",
      "          ...,\n",
      "          [0.0904, 0.0291, 0.0283,  ..., 0.6559, 0.6046, 0.4717],\n",
      "          [0.0538, 0.0341, 0.0308,  ..., 0.6580, 0.5864, 0.4538],\n",
      "          [0.0362, 0.0247, 0.0244,  ..., 0.6525, 0.5481, 0.4753]],\n",
      "\n",
      "         [[0.0000, 0.0000, 0.0392,  ..., 0.1653, 0.1790, 0.1835],\n",
      "          [0.0000, 0.0064, 0.0232,  ..., 0.1378, 0.1553, 0.1091],\n",
      "          [0.0000, 0.0140, 0.0206,  ..., 0.0668, 0.1145, 0.0971],\n",
      "          ...,\n",
      "          [0.0796, 0.0269, 0.0270,  ..., 0.5736, 0.5142, 0.3962],\n",
      "          [0.0369, 0.0200, 0.0184,  ..., 0.5700, 0.4982, 0.3796],\n",
      "          [0.0117, 0.0039, 0.0056,  ..., 0.5630, 0.4657, 0.4031]]]],\n",
      "       dtype=torch.float64), tensor([35,  1, 24, 45, 43, 12, 13, 44,  2, 33, 44, 28, 48, 26, 10, 36, 22, 10,\n",
      "         0, 15,  2, 11,  6, 19, 21,  3, 44,  9, 14, 21, 19, 13, 47, 32, 23, 36,\n",
      "        22, 50,  6, 24, 46, 16, 43, 31,  9, 36, 34, 29, 22, 28, 14, 15, 42,  2,\n",
      "        31,  6, 48, 21,  5, 31, 36, 44,  8,  0,  0, 46, 31, 45, 11, 24,  5, 47,\n",
      "         9,  7, 34, 22,  2,  0, 27, 24, 20, 32, 31, 31, 11, 28, 21, 32, 19, 32,\n",
      "         6, 14, 16, 16, 18,  9, 38, 15, 13, 23,  1, 12, 47, 15, 46, 43, 44, 34,\n",
      "        25, 42, 13, 47, 33, 50, 43, 29, 22, 39,  5, 38,  0, 31, 15, 38, 34, 13,\n",
      "        31,  3])]\n",
      "torch.Size([128, 3, 48, 48])\n"
     ]
    }
   ],
   "source": [
    "for batch in train_data:\n",
    "    print(0)\n",
    "    print(batch)\n",
    "    print(batch[0].shape)\n",
    "    break"
   ]
  },
  {
   "cell_type": "code",
   "execution_count": 5,
   "metadata": {},
   "outputs": [],
   "source": [
    "base_classifier = SimpleClassifier(in_channels=3, image_size=48, num_classes=51)"
   ]
  },
  {
   "cell_type": "code",
   "execution_count": 6,
   "metadata": {},
   "outputs": [],
   "source": [
    "optimizer = torch.optim.Adam(base_classifier.parameters(), lr=LR, betas=BETAS)\n",
    "criterion = nn.CrossEntropyLoss()"
   ]
  },
  {
   "cell_type": "code",
   "execution_count": 7,
   "metadata": {},
   "outputs": [],
   "source": [
    "base_classifier_trainer = BaseClassifierTrainer(base_classifier, criterion, optimizer, 'cpu')"
   ]
  },
  {
   "cell_type": "code",
   "execution_count": 13,
   "metadata": {},
   "outputs": [
    {
     "name": "stdout",
     "output_type": "stream",
     "text": [
      "Epoch: 0, Loss: 3.0785147723647466\n",
      "Epoch: 1, Loss: 2.270444853190283\n",
      "Epoch: 2, Loss: 1.9863585905881704\n",
      "Epoch: 3, Loss: 1.8108895512929573\n",
      "Epoch: 4, Loss: 1.6749636039859923\n"
     ]
    }
   ],
   "source": [
    "base_res = base_classifier_trainer.train(train_data, 5)"
   ]
  },
  {
   "cell_type": "code",
   "execution_count": 14,
   "metadata": {},
   "outputs": [],
   "source": [
    "# data = torchvision.datasets.MNIST(\"./../data/mnist\", download=True, train=False, transform=lambda x: torch.tensor(transform.resize(np.array(x), (10, 10))).unsqueeze(0))\n",
    "# train_data = torch.utils.data.DataLoader(data, batch_size=BATCH_SIZE, drop_last=True)"
   ]
  },
  {
   "cell_type": "code",
   "execution_count": 15,
   "metadata": {
    "id": "6Av3cMPbj9xx",
    "pycharm": {
     "name": "#%%\n"
    }
   },
   "outputs": [],
   "source": [
    "generator_model = Generator(in_channels=3, out_channels=3)\n",
    "discriminator_model = Discriminator(in_channels=3, image_size=48)\n",
    "attacked_model = base_classifier.eval()"
   ]
  },
  {
   "cell_type": "code",
   "execution_count": 16,
   "metadata": {
    "id": "yh6JCKopj9xy",
    "pycharm": {
     "name": "#%%\n"
    }
   },
   "outputs": [],
   "source": [
    "generator_optimizer = torch.optim.Adam(generator_model.parameters(), lr=LR, betas=BETAS)\n",
    "discriminator_optimizer = torch.optim.Adam(discriminator_model.parameters(), lr=LR, betas=BETAS)"
   ]
  },
  {
   "cell_type": "code",
   "execution_count": 17,
   "metadata": {
    "id": "7TovBOSyj9xy",
    "pycharm": {
     "name": "#%%\n"
    }
   },
   "outputs": [],
   "source": [
    "trainer = Trainer(generator_model, discriminator_model, attacked_model,\n",
    "                  GANLoss(BATCH_SIZE, 'cpu'),\n",
    "                  AttackLoss(attacked_model, 'cpu'),\n",
    "                  HingeLoss(attacked_model, BATCH_SIZE, 'cpu'),\n",
    "                  discriminator_optimizer, generator_optimizer, 'cpu')"
   ]
  },
  {
   "cell_type": "code",
   "execution_count": 18,
   "metadata": {
    "colab": {
     "base_uri": "https://localhost:8080/"
    },
    "id": "xSiCuHuGZZ0g",
    "outputId": "9adb78c1-1cd0-4d57-e6e3-753a95010c26"
   },
   "outputs": [
    {
     "ename": "KeyboardInterrupt",
     "evalue": "",
     "output_type": "error",
     "traceback": [
      "\u001B[1;31m---------------------------------------------------------------------------\u001B[0m",
      "\u001B[1;31mKeyboardInterrupt\u001B[0m                         Traceback (most recent call last)",
      "\u001B[1;32m<ipython-input-18-1255aa21d0cc>\u001B[0m in \u001B[0;36m<module>\u001B[1;34m\u001B[0m\n\u001B[1;32m----> 1\u001B[1;33m \u001B[0mres\u001B[0m \u001B[1;33m=\u001B[0m \u001B[0mtrainer\u001B[0m\u001B[1;33m.\u001B[0m\u001B[0mtrain\u001B[0m\u001B[1;33m(\u001B[0m\u001B[0mtrain_data\u001B[0m\u001B[1;33m,\u001B[0m \u001B[1;36m5\u001B[0m\u001B[1;33m)\u001B[0m\u001B[1;33m\u001B[0m\u001B[1;33m\u001B[0m\u001B[0m\n\u001B[0m",
      "\u001B[1;32m~\\Desktop\\diplom\\Baseline\\training\\train.py\u001B[0m in \u001B[0;36mtrain\u001B[1;34m(self, train_data, epochs)\u001B[0m\n\u001B[0;32m     72\u001B[0m             \u001B[0mhinge_loss_epoch\u001B[0m \u001B[1;33m=\u001B[0m \u001B[1;33m[\u001B[0m\u001B[1;33m]\u001B[0m\u001B[1;33m\u001B[0m\u001B[1;33m\u001B[0m\u001B[0m\n\u001B[0;32m     73\u001B[0m             \u001B[1;32mfor\u001B[0m \u001B[0mi\u001B[0m\u001B[1;33m,\u001B[0m \u001B[0mbatch\u001B[0m \u001B[1;32min\u001B[0m \u001B[0menumerate\u001B[0m\u001B[1;33m(\u001B[0m\u001B[0mtrain_data\u001B[0m\u001B[1;33m)\u001B[0m\u001B[1;33m:\u001B[0m\u001B[1;33m\u001B[0m\u001B[1;33m\u001B[0m\u001B[0m\n\u001B[1;32m---> 74\u001B[1;33m                 \u001B[0mloss\u001B[0m \u001B[1;33m=\u001B[0m \u001B[0mself\u001B[0m\u001B[1;33m.\u001B[0m\u001B[0mtrain_one_epoch\u001B[0m\u001B[1;33m(\u001B[0m\u001B[0mbatch\u001B[0m\u001B[1;33m[\u001B[0m\u001B[1;36m0\u001B[0m\u001B[1;33m]\u001B[0m\u001B[1;33m,\u001B[0m \u001B[0mbatch\u001B[0m\u001B[1;33m[\u001B[0m\u001B[1;36m1\u001B[0m\u001B[1;33m]\u001B[0m\u001B[1;33m)\u001B[0m\u001B[1;33m\u001B[0m\u001B[1;33m\u001B[0m\u001B[0m\n\u001B[0m\u001B[0;32m     75\u001B[0m                 \u001B[0mgenerator_loss_epoch\u001B[0m\u001B[1;33m.\u001B[0m\u001B[0mappend\u001B[0m\u001B[1;33m(\u001B[0m\u001B[0mloss\u001B[0m\u001B[1;33m[\u001B[0m\u001B[1;36m0\u001B[0m\u001B[1;33m]\u001B[0m\u001B[1;33m)\u001B[0m\u001B[1;33m\u001B[0m\u001B[1;33m\u001B[0m\u001B[0m\n\u001B[0;32m     76\u001B[0m                 \u001B[0mdiscriminator_loss_epoch\u001B[0m\u001B[1;33m.\u001B[0m\u001B[0mappend\u001B[0m\u001B[1;33m(\u001B[0m\u001B[0mloss\u001B[0m\u001B[1;33m[\u001B[0m\u001B[1;36m1\u001B[0m\u001B[1;33m]\u001B[0m\u001B[1;33m)\u001B[0m\u001B[1;33m\u001B[0m\u001B[1;33m\u001B[0m\u001B[0m\n",
      "\u001B[1;32m~\\Desktop\\diplom\\Baseline\\training\\train.py\u001B[0m in \u001B[0;36mtrain_one_epoch\u001B[1;34m(self, batch, labels)\u001B[0m\n\u001B[0;32m     55\u001B[0m         \u001B[0mgen_loss\u001B[0m \u001B[1;33m=\u001B[0m \u001B[0mself\u001B[0m\u001B[1;33m.\u001B[0m\u001B[0mgan_loss\u001B[0m\u001B[1;33m.\u001B[0m\u001B[0mgenerator_loss\u001B[0m\u001B[1;33m(\u001B[0m\u001B[0mgenerator_fake\u001B[0m\u001B[1;33m)\u001B[0m\u001B[1;33m.\u001B[0m\u001B[0mitem\u001B[0m\u001B[1;33m(\u001B[0m\u001B[1;33m)\u001B[0m\u001B[1;33m\u001B[0m\u001B[1;33m\u001B[0m\u001B[0m\n\u001B[0;32m     56\u001B[0m         \u001B[0mattack_loss\u001B[0m \u001B[1;33m=\u001B[0m \u001B[0mself\u001B[0m\u001B[1;33m.\u001B[0m\u001B[0mattack_loss\u001B[0m\u001B[1;33m.\u001B[0m\u001B[0mloss\u001B[0m\u001B[1;33m(\u001B[0m\u001B[1;33m(\u001B[0m\u001B[0mbatch\u001B[0m \u001B[1;33m+\u001B[0m \u001B[0mself\u001B[0m\u001B[1;33m.\u001B[0m\u001B[0mgenerator\u001B[0m\u001B[1;33m(\u001B[0m\u001B[0mbatch\u001B[0m\u001B[1;33m)\u001B[0m\u001B[1;33m)\u001B[0m \u001B[1;33m/\u001B[0m \u001B[1;36m2\u001B[0m\u001B[1;33m,\u001B[0m \u001B[0mlabels\u001B[0m\u001B[1;33m)\u001B[0m\u001B[1;33m.\u001B[0m\u001B[0mitem\u001B[0m\u001B[1;33m(\u001B[0m\u001B[1;33m)\u001B[0m\u001B[1;33m\u001B[0m\u001B[1;33m\u001B[0m\u001B[0m\n\u001B[1;32m---> 57\u001B[1;33m         \u001B[0mhinge_loss\u001B[0m \u001B[1;33m=\u001B[0m \u001B[0mself\u001B[0m\u001B[1;33m.\u001B[0m\u001B[0mhinge_loss\u001B[0m\u001B[1;33m.\u001B[0m\u001B[0mloss\u001B[0m\u001B[1;33m(\u001B[0m\u001B[0mself\u001B[0m\u001B[1;33m.\u001B[0m\u001B[0mgenerator\u001B[0m\u001B[1;33m(\u001B[0m\u001B[0mbatch\u001B[0m\u001B[1;33m)\u001B[0m\u001B[1;33m)\u001B[0m\u001B[1;33m.\u001B[0m\u001B[0mitem\u001B[0m\u001B[1;33m(\u001B[0m\u001B[1;33m)\u001B[0m\u001B[1;33m\u001B[0m\u001B[1;33m\u001B[0m\u001B[0m\n\u001B[0m\u001B[0;32m     58\u001B[0m \u001B[1;33m\u001B[0m\u001B[0m\n\u001B[0;32m     59\u001B[0m         \u001B[0mself\u001B[0m\u001B[1;33m.\u001B[0m\u001B[0mgenerator_optimizer\u001B[0m\u001B[1;33m.\u001B[0m\u001B[0mstep\u001B[0m\u001B[1;33m(\u001B[0m\u001B[1;33m)\u001B[0m\u001B[1;33m\u001B[0m\u001B[1;33m\u001B[0m\u001B[0m\n",
      "\u001B[1;32m~\\Desktop\\diplom\\Baseline\\training\\losses.py\u001B[0m in \u001B[0;36mloss\u001B[1;34m(self, generated_output)\u001B[0m\n\u001B[0;32m     54\u001B[0m                                                       \u001B[1;33m-\u001B[0m\u001B[1;36m1\u001B[0m\u001B[1;33m,\u001B[0m \u001B[0mdtype\u001B[0m\u001B[1;33m=\u001B[0m\u001B[0mtorch\u001B[0m\u001B[1;33m.\u001B[0m\u001B[0mlong\u001B[0m\u001B[1;33m,\u001B[0m\u001B[1;33m\u001B[0m\u001B[1;33m\u001B[0m\u001B[0m\n\u001B[0;32m     55\u001B[0m                                                       device=self.device).squeeze())\n\u001B[1;32m---> 56\u001B[1;33m         \u001B[0mloss\u001B[0m\u001B[1;33m.\u001B[0m\u001B[0mbackward\u001B[0m\u001B[1;33m(\u001B[0m\u001B[1;33m)\u001B[0m\u001B[1;33m\u001B[0m\u001B[1;33m\u001B[0m\u001B[0m\n\u001B[0m\u001B[0;32m     57\u001B[0m         \u001B[1;32mreturn\u001B[0m \u001B[0mloss\u001B[0m\u001B[1;33m.\u001B[0m\u001B[0mmean\u001B[0m\u001B[1;33m(\u001B[0m\u001B[1;33m)\u001B[0m\u001B[1;33m\u001B[0m\u001B[1;33m\u001B[0m\u001B[0m\n",
      "\u001B[1;32mc:\\users\\seray\\appdata\\local\\programs\\python\\python37\\lib\\site-packages\\torch\\tensor.py\u001B[0m in \u001B[0;36mbackward\u001B[1;34m(self, gradient, retain_graph, create_graph)\u001B[0m\n\u001B[0;32m    219\u001B[0m                 \u001B[0mretain_graph\u001B[0m\u001B[1;33m=\u001B[0m\u001B[0mretain_graph\u001B[0m\u001B[1;33m,\u001B[0m\u001B[1;33m\u001B[0m\u001B[1;33m\u001B[0m\u001B[0m\n\u001B[0;32m    220\u001B[0m                 create_graph=create_graph)\n\u001B[1;32m--> 221\u001B[1;33m         \u001B[0mtorch\u001B[0m\u001B[1;33m.\u001B[0m\u001B[0mautograd\u001B[0m\u001B[1;33m.\u001B[0m\u001B[0mbackward\u001B[0m\u001B[1;33m(\u001B[0m\u001B[0mself\u001B[0m\u001B[1;33m,\u001B[0m \u001B[0mgradient\u001B[0m\u001B[1;33m,\u001B[0m \u001B[0mretain_graph\u001B[0m\u001B[1;33m,\u001B[0m \u001B[0mcreate_graph\u001B[0m\u001B[1;33m)\u001B[0m\u001B[1;33m\u001B[0m\u001B[1;33m\u001B[0m\u001B[0m\n\u001B[0m\u001B[0;32m    222\u001B[0m \u001B[1;33m\u001B[0m\u001B[0m\n\u001B[0;32m    223\u001B[0m     \u001B[1;32mdef\u001B[0m \u001B[0mregister_hook\u001B[0m\u001B[1;33m(\u001B[0m\u001B[0mself\u001B[0m\u001B[1;33m,\u001B[0m \u001B[0mhook\u001B[0m\u001B[1;33m)\u001B[0m\u001B[1;33m:\u001B[0m\u001B[1;33m\u001B[0m\u001B[1;33m\u001B[0m\u001B[0m\n",
      "\u001B[1;32mc:\\users\\seray\\appdata\\local\\programs\\python\\python37\\lib\\site-packages\\torch\\autograd\\__init__.py\u001B[0m in \u001B[0;36mbackward\u001B[1;34m(tensors, grad_tensors, retain_graph, create_graph, grad_variables)\u001B[0m\n\u001B[0;32m    130\u001B[0m     Variable._execution_engine.run_backward(\n\u001B[0;32m    131\u001B[0m         \u001B[0mtensors\u001B[0m\u001B[1;33m,\u001B[0m \u001B[0mgrad_tensors_\u001B[0m\u001B[1;33m,\u001B[0m \u001B[0mretain_graph\u001B[0m\u001B[1;33m,\u001B[0m \u001B[0mcreate_graph\u001B[0m\u001B[1;33m,\u001B[0m\u001B[1;33m\u001B[0m\u001B[1;33m\u001B[0m\u001B[0m\n\u001B[1;32m--> 132\u001B[1;33m         allow_unreachable=True)  # allow_unreachable flag\n\u001B[0m\u001B[0;32m    133\u001B[0m \u001B[1;33m\u001B[0m\u001B[0m\n\u001B[0;32m    134\u001B[0m \u001B[1;33m\u001B[0m\u001B[0m\n",
      "\u001B[1;31mKeyboardInterrupt\u001B[0m: "
     ]
    }
   ],
   "source": [
    "res = trainer.train(train_data, 5)"
   ]
  },
  {
   "cell_type": "code",
   "execution_count": 19,
   "metadata": {
    "colab": {
     "base_uri": "https://localhost:8080/"
    },
    "id": "fcU9HDRG6fDs",
    "outputId": "da36b429-fb15-49ef-b594-37247330e6ca"
   },
   "outputs": [
    {
     "name": "stdout",
     "output_type": "stream",
     "text": [
      "0.73071116 0.00069232355\n",
      "tensor(35)\n",
      "0.07303468 0.004350687\n",
      "tensor(1)\n",
      "0.10981087 0.006639615\n",
      "tensor(24)\n",
      "0.51980984 0.0007606941\n",
      "tensor(45)\n",
      "0.52565295 3.2145433e-06\n",
      "tensor(43)\n",
      "0.0046192626 0.00011197415\n",
      "tensor(12)\n",
      "0.10771791 0.009881951\n",
      "tensor(13)\n",
      "0.39592317 0.08411043\n",
      "tensor(44)\n",
      "0.65253955 0.020222953\n",
      "tensor(2)\n",
      "0.034099698 0.002457294\n",
      "tensor(33)\n",
      "0.36903393 0.0568663\n",
      "tensor(44)\n",
      "0.023842378 0.0047578523\n",
      "tensor(28)\n",
      "0.49975497 0.0006171475\n",
      "tensor(48)\n",
      "0.85261357 0.00035540308\n",
      "tensor(26)\n",
      "0.091961354 0.9436447\n",
      "tensor(10)\n",
      "0.6203308 0.15613921\n",
      "tensor(36)\n"
     ]
    }
   ],
   "source": [
    "val_batch = iter(train_data).next()\n",
    "for i in range(16):\n",
    "    print(F.softmax(attacked_model(val_batch[0].float()), -1).cpu().detach().numpy()[i, val_batch[1][i]], F.softmax(attacked_model(val_batch[0].float() + generator_model(val_batch[0].float())), -1).cpu().detach().numpy()[i, val_batch[1][i]])\n",
    "    print(val_batch[1][i])"
   ]
  },
  {
   "cell_type": "code",
   "execution_count": 21,
   "metadata": {},
   "outputs": [
    {
     "data": {
      "text/plain": [
       "Text(0.5, 1.0, 'Fake: Prediction: 10, confidence: 0.4021652936935425')"
      ]
     },
     "execution_count": 21,
     "metadata": {},
     "output_type": "execute_result"
    },
    {
     "data": {
      "image/png": "[encoded data removed]",
      "text/plain": [
       "<Figure size 216x216 with 1 Axes>"
      ]
     },
     "metadata": {
      "needs_background": "light"
     },
     "output_type": "display_data"
    },
    {
     "data": {
      "image/png": "[encoded data removed]",
      "text/plain": [
       "<Figure size 216x216 with 1 Axes>"
      ]
     },
     "metadata": {
      "needs_background": "light"
     },
     "output_type": "display_data"
    }
   ],
   "source": [
    "test_img = val_batch[0].float()[15:16]\n",
    "true_confs = F.softmax(attacked_model(test_img), -1).cpu().detach().numpy()[0]\n",
    "fake_confs = F.softmax(attacked_model(test_img + generator_model(test_img)), -1).cpu().detach().numpy()[0]\n",
    "\n",
    "plt.figure(figsize=(3,3))\n",
    "plt.imshow(test_img[0].permute((1, 2, 0)), cmap='gray')\n",
    "plt.title(\"Truth: Prediction: {}, confidence: {}\".format(np.argmax(true_confs), true_confs.max()))\n",
    "\n",
    "plt.figure(figsize=(3,3))\n",
    "plt.imshow(((test_img + generator_model(test_img).cpu().detach().numpy()) / 2)[0].permute((1, 2, 0)), cmap='gray')\n",
    "plt.title(\"Fake: Prediction: {}, confidence: {}\".format(np.argmax(fake_confs), fake_confs.max()))"
   ]
  },
  {
   "cell_type": "code",
   "execution_count": 22,
   "metadata": {
    "colab": {
     "base_uri": "https://localhost:8080/",
     "height": 350
    },
    "id": "dFrk7pyQj9x0",
    "outputId": "6e93d5b2-59c9-4bc9-b970-520a6629e52b",
    "pycharm": {
     "name": "#%%\n"
    }
   },
   "outputs": [
    {
     "ename": "NameError",
     "evalue": "name 'res' is not defined",
     "output_type": "error",
     "traceback": [
      "\u001B[1;31m---------------------------------------------------------------------------\u001B[0m",
      "\u001B[1;31mNameError\u001B[0m                                 Traceback (most recent call last)",
      "\u001B[1;32m<ipython-input-22-20230ca991a5>\u001B[0m in \u001B[0;36m<module>\u001B[1;34m\u001B[0m\n\u001B[0;32m      1\u001B[0m \u001B[0mplt\u001B[0m\u001B[1;33m.\u001B[0m\u001B[0mfigure\u001B[0m\u001B[1;33m(\u001B[0m\u001B[0mfigsize\u001B[0m\u001B[1;33m=\u001B[0m\u001B[1;33m(\u001B[0m\u001B[1;36m10\u001B[0m\u001B[1;33m,\u001B[0m\u001B[1;36m5\u001B[0m\u001B[1;33m)\u001B[0m\u001B[1;33m)\u001B[0m\u001B[1;33m\u001B[0m\u001B[1;33m\u001B[0m\u001B[0m\n\u001B[0;32m      2\u001B[0m \u001B[0mplt\u001B[0m\u001B[1;33m.\u001B[0m\u001B[0mtitle\u001B[0m\u001B[1;33m(\u001B[0m\u001B[1;34m\"Loss\"\u001B[0m\u001B[1;33m)\u001B[0m\u001B[1;33m\u001B[0m\u001B[1;33m\u001B[0m\u001B[0m\n\u001B[1;32m----> 3\u001B[1;33m \u001B[0mplt\u001B[0m\u001B[1;33m.\u001B[0m\u001B[0mplot\u001B[0m\u001B[1;33m(\u001B[0m\u001B[0mres\u001B[0m\u001B[1;33m[\u001B[0m\u001B[1;36m0\u001B[0m\u001B[1;33m]\u001B[0m\u001B[1;33m,\u001B[0m\u001B[0mlabel\u001B[0m\u001B[1;33m=\u001B[0m\u001B[1;34m\"Generator loss\"\u001B[0m\u001B[1;33m)\u001B[0m\u001B[1;33m\u001B[0m\u001B[1;33m\u001B[0m\u001B[0m\n\u001B[0m\u001B[0;32m      4\u001B[0m \u001B[0mplt\u001B[0m\u001B[1;33m.\u001B[0m\u001B[0mplot\u001B[0m\u001B[1;33m(\u001B[0m\u001B[0mres\u001B[0m\u001B[1;33m[\u001B[0m\u001B[1;36m1\u001B[0m\u001B[1;33m]\u001B[0m\u001B[1;33m,\u001B[0m\u001B[0mlabel\u001B[0m\u001B[1;33m=\u001B[0m\u001B[1;34m\"Discriminator loss\"\u001B[0m\u001B[1;33m)\u001B[0m\u001B[1;33m\u001B[0m\u001B[1;33m\u001B[0m\u001B[0m\n\u001B[0;32m      5\u001B[0m \u001B[0mplt\u001B[0m\u001B[1;33m.\u001B[0m\u001B[0mplot\u001B[0m\u001B[1;33m(\u001B[0m\u001B[0mres\u001B[0m\u001B[1;33m[\u001B[0m\u001B[1;36m2\u001B[0m\u001B[1;33m]\u001B[0m\u001B[1;33m,\u001B[0m\u001B[0mlabel\u001B[0m\u001B[1;33m=\u001B[0m\u001B[1;34m\"Attack loss\"\u001B[0m\u001B[1;33m)\u001B[0m\u001B[1;33m\u001B[0m\u001B[1;33m\u001B[0m\u001B[0m\n",
      "\u001B[1;31mNameError\u001B[0m: name 'res' is not defined"
     ]
    },
    {
     "data": {
      "image/png": "[encoded data removed]",
      "text/plain": [
       "<Figure size 720x360 with 1 Axes>"
      ]
     },
     "metadata": {
      "needs_background": "light"
     },
     "output_type": "display_data"
    }
   ],
   "source": [
    "plt.figure(figsize=(10,5))\n",
    "plt.title(\"Loss\")\n",
    "plt.plot(res[0],label=\"Generator loss\")\n",
    "plt.plot(res[1],label=\"Discriminator loss\")\n",
    "plt.plot(res[2],label=\"Attack loss\")\n",
    "plt.xlabel(\"Epoch\")\n",
    "plt.ylabel(\"Loss\")\n",
    "plt.legend()\n",
    "plt.show()"
   ]
  },
  {
   "cell_type": "code",
   "execution_count": null,
   "outputs": [],
   "source": [],
   "metadata": {
    "collapsed": false,
    "pycharm": {
     "name": "#%%\n"
    }
   }
  },
  {
   "cell_type": "code",
   "execution_count": null,
   "metadata": {},
   "outputs": [],
   "source": []
  }
 ],
 "metadata": {
  "accelerator": "GPU",
  "colab": {
   "collapsed_sections": [],
   "name": "main.ipynb",
   "provenance": []
  },
  "kernelspec": {
   "display_name": "Python 3",
   "language": "python",
   "name": "python3"
  },
  "language_info": {
   "codemirror_mode": {
    "name": "ipython",
    "version": 3
   },
   "file_extension": ".py",
   "mimetype": "text/x-python",
   "name": "python",
   "nbconvert_exporter": "python",
   "pygments_lexer": "ipython3",
   "version": "3.7.9"
  }
 },
 "nbformat": 4,
 "nbformat_minor": 1
}