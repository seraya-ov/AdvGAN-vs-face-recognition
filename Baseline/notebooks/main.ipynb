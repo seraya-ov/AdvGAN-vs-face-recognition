{
 "cells": [
  {
   "cell_type": "code",
   "execution_count": 18,
   "metadata": {
    "id": "cTrN0E3pj9xd",
    "pycharm": {
     "is_executing": true,
     "name": "#%%\n"
    }
   },
   "outputs": [],
   "source": [
    "import torch\n",
    "import torchvision\n",
    "from torchvision import transforms\n",
    "from skimage import io, transform\n",
    "from torch import nn\n",
    "\n",
    "import json\n",
    "\n",
    "import numpy as np\n",
    "\n",
    "from losses import *\n",
    "from train import *\n",
    "from plots import *\n",
    "from gan import *\n",
    "\n",
    "import matplotlib.pyplot as plt\n",
    "from PIL import Image"
   ]
  },
  {
   "cell_type": "code",
   "execution_count": 19,
   "metadata": {
    "id": "VFtrr2XNj9xr"
   },
   "outputs": [],
   "source": [
    "BATCH_SIZE = 32\n",
    "LR = 3e-4\n",
    "BETAS = 0.9, 0.999\n",
    "class_idx = json.load(open(\"imagenet_class_index.json\"))\n",
    "idx2label = [class_idx[str(k)][1] for k in range(len(class_idx))]"
   ]
  },
  {
   "cell_type": "code",
   "execution_count": 20,
   "metadata": {
    "colab": {
     "base_uri": "https://localhost:8080/",
     "height": 35
    },
    "id": "oWLVUrE6j9xs",
    "outputId": "ee289ce5-9f61-43ab-a0c7-3e7cbe736208"
   },
   "outputs": [
    {
     "data": {
      "application/vnd.google.colaboratory.intrinsic+json": {
       "type": "string"
      },
      "text/plain": [
       "'garbage_truck'"
      ]
     },
     "execution_count": 20,
     "metadata": {
      "tags": []
     },
     "output_type": "execute_result"
    }
   ],
   "source": [
    "idx2label[569] #target class"
   ]
  },
  {
   "cell_type": "code",
   "execution_count": 21,
   "metadata": {
    "id": "p_OCP9hCj9xu"
   },
   "outputs": [],
   "source": [
    "preprocess = transforms.Compose([\n",
    "    transforms.Resize(256),\n",
    "    transforms.CenterCrop(224),\n",
    "    transforms.ToTensor(),\n",
    "    transforms.Normalize(mean=[0.485, 0.456, 0.406], std=[0.229, 0.224, 0.225]),\n",
    "])"
   ]
  },
  {
   "cell_type": "code",
   "execution_count": 49,
   "metadata": {
    "colab": {
     "base_uri": "https://localhost:8080/"
    },
    "id": "XYOGsn2rj9xv",
    "outputId": "49e9b3ac-5c3f-40ba-9cce-efa581c0b5be",
    "pycharm": {
     "name": "#%%\n"
    }
   },
   "outputs": [
    {
     "name": "stderr",
     "output_type": "stream",
     "text": [
      "Using cache found in /root/.cache/torch/hub/pytorch_vision_v0.6.0\n"
     ]
    }
   ],
   "source": [
    "data = torchvision.datasets.ImageFolder(\"/content/drive/MyDrive/cars_test\", transform=preprocess)#torch.tensor(transform.resize(np.array(x), (224, 224, 3))))\n",
    "train_data = torch.utils.data.DataLoader(data, batch_size=BATCH_SIZE, drop_last=True)\n",
    "attacked_model = torch.hub.load('pytorch/vision:v0.6.0', 'squeezenet1_1', pretrained=True).eval()\n",
    "for param in attacked_model.parameters():\n",
    "    param.requires_grad = False"
   ]
  },
  {
   "cell_type": "code",
   "execution_count": 50,
   "metadata": {
    "id": "6Av3cMPbj9xx",
    "pycharm": {
     "name": "#%%\n"
    }
   },
   "outputs": [],
   "source": [
    "generator_model = Generator().to(device='cuda')\n",
    "discriminator_model = Discriminator().to(device='cuda')\n",
    "attacked_model = attacked_model.to(device='cuda')"
   ]
  },
  {
   "cell_type": "code",
   "execution_count": 55,
   "metadata": {
    "id": "yh6JCKopj9xy",
    "pycharm": {
     "name": "#%%\n"
    }
   },
   "outputs": [],
   "source": [
    "generator_optimizer = torch.optim.Adam(generator_model.parameters(), lr=LR, betas=BETAS)\n",
    "discriminator_optimizer = torch.optim.Adam(discriminator_model.parameters(), lr=LR, betas=BETAS)"
   ]
  },
  {
   "cell_type": "code",
   "execution_count": 56,
   "metadata": {
    "id": "7TovBOSyj9xy",
    "pycharm": {
     "name": "#%%\n"
    }
   },
   "outputs": [],
   "source": [
    "trainer = Trainer(generator_model, discriminator_model, attacked_model,\n",
    "                  GANLoss(BATCH_SIZE, 'cuda'),\n",
    "                  ResNetLoss(attacked_model, BATCH_SIZE, 'cuda'),\n",
    "                  discriminator_optimizer, generator_optimizer, 'cuda')"
   ]
  },
  {
   "cell_type": "code",
   "execution_count": 57,
   "metadata": {
    "colab": {
     "base_uri": "https://localhost:8080/"
    },
    "id": "xSiCuHuGZZ0g",
    "outputId": "9adb78c1-1cd0-4d57-e6e3-753a95010c26"
   },
   "outputs": [
    {
     "name": "stdout",
     "output_type": "stream",
     "text": [
      "Epoch: 0, Generator loss: 0.6153385643940048, Discriminator loss: 1.384235933957347, ResNet loss: 7.911424410770614,\n",
      "Epoch: 1, Generator loss: 0.6389894573337054, Discriminator loss: 1.370736960870811, ResNet loss: 6.668593102717304,\n",
      "Epoch: 2, Generator loss: 0.6514806604955301, Discriminator loss: 1.3648399741526145, ResNet loss: 6.258717854184458,\n",
      "Epoch: 3, Generator loss: 0.6651371444363993, Discriminator loss: 1.3552116497579323, ResNet loss: 6.010816617790922,\n",
      "Epoch: 4, Generator loss: 0.6721719028465302, Discriminator loss: 1.3451273151602878, ResNet loss: 5.838297869579725,\n",
      "Epoch: 5, Generator loss: 0.6868837264429526, Discriminator loss: 1.3062290409171724, ResNet loss: 5.6865202003266235,\n",
      "Epoch: 6, Generator loss: 0.6966290082114627, Discriminator loss: 1.2809632118954601, ResNet loss: 5.559252197523991,\n",
      "Epoch: 7, Generator loss: 0.7071263647649393, Discriminator loss: 1.2517227979295282, ResNet loss: 5.461937972748897,\n",
      "Epoch: 8, Generator loss: 0.7103807204273117, Discriminator loss: 1.2371689475390066, ResNet loss: 5.3565081495687785,\n",
      "Epoch: 9, Generator loss: 0.7168553048870953, Discriminator loss: 1.2148605048418994, ResNet loss: 5.279993612927744,\n"
     ]
    }
   ],
   "source": [
    "res = trainer.train(train_data, 10)"
   ]
  },
  {
   "cell_type": "code",
   "execution_count": 68,
   "metadata": {
    "colab": {
     "base_uri": "https://localhost:8080/"
    },
    "id": "fcU9HDRG6fDs",
    "outputId": "da36b429-fb15-49ef-b594-37247330e6ca"
   },
   "outputs": [
    {
     "name": "stdout",
     "output_type": "stream",
     "text": [
      "2.1690586e-05 0.0072291302\n",
      "1.6241105e-05 0.0008383989\n",
      "0.0001554314 0.010263194\n",
      "1.1655947e-06 8.515314e-05\n",
      "2.4787485e-05 0.00048066265\n",
      "6.4872197e-06 0.011773566\n",
      "5.4675947e-06 0.00412581\n",
      "0.00012424006 0.0255543\n",
      "2.4453451e-05 0.0018201976\n",
      "0.0001048882 0.009703852\n",
      "5.823809e-07 0.0013326175\n",
      "1.0945947e-07 0.0004696957\n",
      "0.004268675 0.06318641\n",
      "2.4495303e-05 0.019276181\n",
      "1.01240885e-05 0.0013008106\n",
      "7.3127035e-06 0.00083928555\n"
     ]
    }
   ],
   "source": [
    "for i in range(16):\n",
    "    print(F.softmax(attacked_model(val_batch), -1).cpu().detach().numpy()[i, 569], F.softmax(attacked_model(val_batch + generator_model(val_batch)), -1).cpu().detach().numpy()[i, 569])"
   ]
  },
  {
   "cell_type": "code",
   "execution_count": 59,
   "metadata": {
    "colab": {
     "base_uri": "https://localhost:8080/",
     "height": 350
    },
    "id": "dFrk7pyQj9x0",
    "outputId": "6e93d5b2-59c9-4bc9-b970-520a6629e52b"
   },
   "outputs": [
    {
     "data": {
      "image/png": "[encoded data removed]",
      "text/plain": [
       "<Figure size 720x360 with 1 Axes>"
      ]
     },
     "metadata": {
      "needs_background": "light",
      "tags": []
     },
     "output_type": "display_data"
    }
   ],
   "source": [
    "plt.figure(figsize=(10,5))\n",
    "plt.title(\"Loss\")\n",
    "plt.plot(res[0],label=\"Generator loss\")\n",
    "plt.plot(res[1],label=\"Discriminator loss\")\n",
    "plt.plot(res[2],label=\"Attack loss\")\n",
    "plt.xlabel(\"Epoch\")\n",
    "plt.ylabel(\"Loss\")\n",
    "plt.legend()\n",
    "plt.show()"
   ]
  }
 ],
 "metadata": {
  "accelerator": "GPU",
  "colab": {
   "collapsed_sections": [],
   "name": "main.ipynb",
   "provenance": []
  },
  "kernelspec": {
   "display_name": "Python 3",
   "language": "python",
   "name": "python3"
  },
  "language_info": {
   "codemirror_mode": {
    "name": "ipython",
    "version": 3
   },
   "file_extension": ".py",
   "mimetype": "text/x-python",
   "name": "python",
   "nbconvert_exporter": "python",
   "pygments_lexer": "ipython3",
   "version": "3.7.9"
  }
 },
 "nbformat": 4,
 "nbformat_minor": 1
}
