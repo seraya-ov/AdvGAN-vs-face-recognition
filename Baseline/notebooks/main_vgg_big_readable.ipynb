{
 "cells": [
  {
   "cell_type": "code",
   "execution_count": 1,
   "metadata": {
    "id": "cTrN0E3pj9xd",
    "pycharm": {
     "is_executing": true,
     "name": "#%%\n"
    }
   },
   "outputs": [],
   "source": [
    "import torch\n",
    "import torchvision\n",
    "from torchvision import transforms\n",
    "from skimage import io, transform\n",
    "from torch import nn\n",
    "\n",
    "import json\n",
    "\n",
    "import numpy as np\n",
    "import pandas as pd\n",
    "\n",
    "from losses import *\n",
    "from train import *\n",
    "from plots import *\n",
    "from gan import *\n",
    "from data import *\n",
    "\n",
    "from PIL import Image\n",
    "from facenet_pytorch import MTCNN, InceptionResnetV1\n",
    "\n",
    "import matplotlib.pyplot as plt"
   ]
  },
  {
   "cell_type": "code",
   "execution_count": 2,
   "metadata": {
    "id": "VFtrr2XNj9xr"
   },
   "outputs": [],
   "source": [
    "BATCH_SIZE = 16\n",
    "LR = 3e-4\n",
    "BETAS = 0.9, 0.999\n",
    "LOGS_DIR = F\"/content/drive/MyDrive/gan_logdir\"\n",
    "DEVICE='cuda'\n",
    "LAMBDA = 0.5"
   ]
  },
  {
   "cell_type": "code",
   "execution_count": 3,
   "metadata": {
    "colab": {
     "base_uri": "https://localhost:8080/"
    },
    "id": "XYOGsn2rj9xv",
    "outputId": "5580e036-be9c-469f-91ac-ee51f70d64dd",
    "pycharm": {
     "name": "#%%\n"
    }
   },
   "outputs": [
    {
     "name": "stdout",
     "output_type": "stream",
     "text": [
      "/content/drive/MyDrive/vgg_data/Nelly/757.jpg\n",
      "/content/drive/MyDrive/vgg_data/Bingbing_Fan/794.jpg\n",
      "/content/drive/MyDrive/vgg_data/Thad_Luckinbill/405.jpg\n",
      "/content/drive/MyDrive/vgg_data/Andrew_Buchan/295.jpg\n"
     ]
    }
   ],
   "source": [
    "data = FacesDataset(\"/content/drive/MyDrive/vgg_data/\", transform=lambda x: (torch.tensor(transform.resize(np.array(x['image']), (160, 160))).permute((2, 0, 1)), x['class']))\n",
    "train_data = torch.utils.data.DataLoader(data, batch_size=BATCH_SIZE, drop_last=True)"
   ]
  },
  {
   "cell_type": "code",
   "execution_count": 4,
   "metadata": {
    "id": "nLqTQ0pCPmxF"
   },
   "outputs": [],
   "source": [
    "classifier = InceptionResnetV1(pretrained='casia-webface', device=DEVICE).eval()\n",
    "classifier.classify = True"
   ]
  },
  {
   "cell_type": "code",
   "execution_count": 9,
   "metadata": {
    "id": "S1cKG5RXJSQc"
   },
   "outputs": [],
   "source": [
    "model = {\"generator\": Generator(in_channels=3, out_channels=3), \n",
    "         \"discriminator\": Discriminator(in_channels=3, image_size=160)}\n",
    "attacked_model = classifier.eval()\n",
    "criterion = {\"generator_loss\": WGANGeneratorLoss(), #GeneratorLoss(BATCH_SIZE, DEVICE), \n",
    "             \"discriminator_loss\": WGANDiscriminatorLoss(LAMBDA, DEVICE), #DiscriminatorLoss(BATCH_SIZE, DEVICE), \n",
    "             \"attack_loss\": AttackLoss(),\n",
    "             \"hinge_loss\": HingeLoss(BATCH_SIZE, DEVICE)}\n",
    "optimizer = {\n",
    "    \"generator_optimizer\": torch.optim.Adam(model['generator'].parameters(), lr=LR, betas=BETAS),\n",
    "    \"discriminator_optimizer\": torch.optim.Adam(model['discriminator'].parameters(), lr=LR, betas=BETAS),\n",
    "}\n",
    "loaders = {\n",
    "    \"train\": torch.utils.data.DataLoader(data, batch_size=BATCH_SIZE, drop_last=True),\n",
    "}"
   ]
  },
  {
   "cell_type": "code",
   "execution_count": 10,
   "metadata": {
    "id": "RUk-1eO5mRCW"
   },
   "outputs": [],
   "source": [
    "runner = GANRunner(attacked_model, BATCH_SIZE, DEVICE, LOGS_DIR)"
   ]
  },
  {
   "cell_type": "code",
   "execution_count": 11,
   "metadata": {
    "colab": {
     "base_uri": "https://localhost:8080/",
     "height": 807,
     "referenced_widgets": [
      "ce9a535ef2e945018a096a4352b86fe1",
      "da9487b351614538b8bc54995018713b",
      "c7463331d1a54ed799ca250a2405357c",
      "be77592d1021490ebe1bb99f139c482f",
      "226693f03279431eacfe8de7224159da",
      "e18469d970dc4d2aa7898875da04784f",
      "22436467fe8647d3902d33723f52bffe",
      "000b239e0ec442699afdb4ed8907a0d9",
      "422738bf64f441dca7a2ab530632fff6",
      "b41a644f248e425c88babd495e67cf3b",
      "f7160295acc645c98d5c057e8326629f",
      "1e1d3125422a446193eb5a79fb0b3695",
      "e41ac37f835049509faabb7010767c01",
      "faf9b04ff48b4bb3b212d218ecafc15a",
      "dd7f263c35b849e5a95d2bd19a27a67d",
      "6d0119f4f32843a692f6a4a2e5949301",
      "79379908591d4f718b79742f1470eb14",
      "33ca02d6517644c6a1cf092983ea3924",
      "6f71aabd2284465aa71d0d70354cdf60",
      "d44e6892decc46ebac6b2e34d96ffb29",
      "5d0a53bb4a8d41f287a53b29e9a3d04e",
      "5d59fa79e0e74d61b7fbdbbc666e5ffe",
      "37f859e79beb4c2fb2a85ca775dff83d",
      "ea5615ec9d1c4fdfa058a8a5b3637913",
      "b8dc5eea96cc45329f65fc0ff12961fe",
      "4fafae685dbb4b149a7e4888f51d9984",
      "263b328d0b834150a34faf2ee1890558",
      "9da4686e07c94125a801ed12c2dfa507",
      "2721064c80604a3190b42c162d506e4b",
      "c8a2b82ec44d4c7b9d712497f2471495",
      "ca7379b91a4f423e87934a075909a858",
      "a063aea6cc974ce3bb5a46579577c6e9",
      "81af98c78a834642b0e4fd937599ff79",
      "be9bb314d18b44dd9ea6b7cfa622f128",
      "1298b4d6873e4597a5415f9049813391",
      "e19cd1eb55f446169d0d614e3b9db8b3",
      "453b9a77771e49da9298b0a8838c8013",
      "bcd7ddfcbfc14fabbe380e2f6b08a4d4",
      "2259876273344b60b9f33833ee026b5a",
      "c96875eaf5944741b0486f37200e5506"
     ]
    },
    "id": "AiGxI24DmUWa",
    "outputId": "068f092c-d30b-4607-dd27-03d9202924ca"
   },
   "outputs": [
    {
     "data": {
      "application/vnd.jupyter.widget-view+json": {
       "model_id": "ce9a535ef2e945018a096a4352b86fe1",
       "version_major": 2,
       "version_minor": 0
      },
      "text/plain": [
       "HBox(children=(FloatProgress(value=0.0, description='1/5 * Epoch (train)', max=1819.0, style=ProgressStyle(des…"
      ]
     },
     "metadata": {
      "tags": []
     },
     "output_type": "display_data"
    },
    {
     "name": "stderr",
     "output_type": "stream",
     "text": [
      "/usr/local/lib/python3.7/dist-packages/catalyst/core/runner.py:568: UserWarning: To copy construct from a tensor, it is recommended to use sourceTensor.clone().detach() or sourceTensor.clone().detach().requires_grad_(True), rather than torch.tensor(sourceTensor).\n",
      "  for k, v in self.batch_metrics.items()\n"
     ]
    },
    {
     "name": "stdout",
     "output_type": "stream",
     "text": [
      "\r\n",
      "train (1/5) attack loss: -6.231558322906494 | attack loss/mean: -6.231558322906494 | attack loss/std: 0.3200409904832005 | discriminator loss: 0.21313956379890442 | discriminator loss/mean: 0.21313956379890442 | discriminator loss/std: 0.19777051926724312 | generator loss: -0.653541624546051 | generator loss/mean: -0.653541624546051 | generator loss/std: 0.03286265464154707 | hinge loss: 83.8476791381836 | hinge loss/mean: 83.8476791381836 | hinge loss/std: 0.6388199588389987 | lr/discriminator_discriminator_optimizer: 0.0003 | lr/generator_generator_optimizer: 0.0003 | momentum/discriminator_discriminator_optimizer: 0.9 | momentum/generator_generator_optimizer: 0.9\n",
      "* Epoch (1/5) \n"
     ]
    },
    {
     "data": {
      "application/vnd.jupyter.widget-view+json": {
       "model_id": "422738bf64f441dca7a2ab530632fff6",
       "version_major": 2,
       "version_minor": 0
      },
      "text/plain": [
       "HBox(children=(FloatProgress(value=0.0, description='2/5 * Epoch (train)', max=1819.0, style=ProgressStyle(des…"
      ]
     },
     "metadata": {
      "tags": []
     },
     "output_type": "display_data"
    },
    {
     "name": "stdout",
     "output_type": "stream",
     "text": [
      "\r\n",
      "train (2/5) attack loss: -6.2237548828125 | attack loss/mean: -6.2237548828125 | attack loss/std: 0.32608341451184947 | discriminator loss: -0.05939532816410065 | discriminator loss/mean: -0.05939532816410065 | discriminator loss/std: 0.04158201751872019 | generator loss: -0.7509051561355591 | generator loss/mean: -0.7509051561355591 | generator loss/std: 0.024179578662108906 | hinge loss: 83.96170806884766 | hinge loss/mean: 83.96170806884766 | hinge loss/std: 0.5249214168885648 | lr/discriminator_discriminator_optimizer: 0.0003 | lr/generator_generator_optimizer: 0.0003 | momentum/discriminator_discriminator_optimizer: 0.9 | momentum/generator_generator_optimizer: 0.9\n",
      "* Epoch (2/5) \n"
     ]
    },
    {
     "data": {
      "application/vnd.jupyter.widget-view+json": {
       "model_id": "79379908591d4f718b79742f1470eb14",
       "version_major": 2,
       "version_minor": 0
      },
      "text/plain": [
       "HBox(children=(FloatProgress(value=0.0, description='3/5 * Epoch (train)', max=1819.0, style=ProgressStyle(des…"
      ]
     },
     "metadata": {
      "tags": []
     },
     "output_type": "display_data"
    },
    {
     "name": "stdout",
     "output_type": "stream",
     "text": [
      "\r\n",
      "train (3/5) attack loss: -6.139534950256348 | attack loss/mean: -6.139534950256348 | attack loss/std: 0.32084754318745384 | discriminator loss: -0.07795842736959457 | discriminator loss/mean: -0.07795842736959457 | discriminator loss/std: 0.05822073987593043 | generator loss: -0.8212783932685852 | generator loss/mean: -0.8212783932685852 | generator loss/std: 0.016117159608939616 | hinge loss: 84.79170989990234 | hinge loss/mean: 84.79170989990234 | hinge loss/std: 0.21711239479954136 | lr/discriminator_discriminator_optimizer: 0.0003 | lr/generator_generator_optimizer: 0.0003 | momentum/discriminator_discriminator_optimizer: 0.9 | momentum/generator_generator_optimizer: 0.9\n",
      "* Epoch (3/5) \n"
     ]
    },
    {
     "data": {
      "application/vnd.jupyter.widget-view+json": {
       "model_id": "b8dc5eea96cc45329f65fc0ff12961fe",
       "version_major": 2,
       "version_minor": 0
      },
      "text/plain": [
       "HBox(children=(FloatProgress(value=0.0, description='4/5 * Epoch (train)', max=1819.0, style=ProgressStyle(des…"
      ]
     },
     "metadata": {
      "tags": []
     },
     "output_type": "display_data"
    },
    {
     "name": "stdout",
     "output_type": "stream",
     "text": [
      "\r\n",
      "train (4/5) attack loss: -6.1344523429870605 | attack loss/mean: -6.1344523429870605 | attack loss/std: 0.3220454900799916 | discriminator loss: -0.13329507410526276 | discriminator loss/mean: -0.13329507410526276 | discriminator loss/std: 0.03963287153616351 | generator loss: -0.8639845252037048 | generator loss/mean: -0.8639845252037048 | generator loss/std: 0.009750151215083007 | hinge loss: 84.56341552734375 | hinge loss/mean: 84.56341552734375 | hinge loss/std: 0.19661726242487979 | lr/discriminator_discriminator_optimizer: 0.0003 | lr/generator_generator_optimizer: 0.0003 | momentum/discriminator_discriminator_optimizer: 0.9 | momentum/generator_generator_optimizer: 0.9\n",
      "* Epoch (4/5) \n"
     ]
    },
    {
     "data": {
      "application/vnd.jupyter.widget-view+json": {
       "model_id": "81af98c78a834642b0e4fd937599ff79",
       "version_major": 2,
       "version_minor": 0
      },
      "text/plain": [
       "HBox(children=(FloatProgress(value=0.0, description='5/5 * Epoch (train)', max=1819.0, style=ProgressStyle(des…"
      ]
     },
     "metadata": {
      "tags": []
     },
     "output_type": "display_data"
    },
    {
     "name": "stdout",
     "output_type": "stream",
     "text": [
      "\r\n",
      "train (5/5) attack loss: -6.125096321105957 | attack loss/mean: -6.125096321105957 | attack loss/std: 0.3212013738130022 | discriminator loss: -0.16873133182525635 | discriminator loss/mean: -0.16873133182525635 | discriminator loss/std: 0.04025255625052783 | generator loss: -0.889493465423584 | generator loss/mean: -0.889493465423584 | generator loss/std: 0.006052594154096605 | hinge loss: 84.42371368408203 | hinge loss/mean: 84.42371368408203 | hinge loss/std: 0.20871327362942968 | lr/discriminator_discriminator_optimizer: 0.0003 | lr/generator_generator_optimizer: 0.0003 | momentum/discriminator_discriminator_optimizer: 0.9 | momentum/generator_generator_optimizer: 0.9\n",
      "* Epoch (5/5) \n",
      "Top best models:\n",
      "/content/drive/MyDrive/gan_logdir/train.5.pth\t5.0000\n"
     ]
    }
   ],
   "source": [
    "runner.train(\n",
    "    model=model,\n",
    "    criterion=criterion,\n",
    "    optimizer=optimizer,\n",
    "    loaders=loaders,\n",
    "    num_epochs=5,\n",
    "    verbose=True,\n",
    "    logdir=LOGS_DIR,\n",
    ")"
   ]
  },
  {
   "cell_type": "code",
   "execution_count": 13,
   "metadata": {
    "id": "Zvo5xS7_xKKz"
   },
   "outputs": [],
   "source": [
    "attacked_model = classifier \n",
    "generator_model = model['generator']"
   ]
  },
  {
   "cell_type": "code",
   "execution_count": 24,
   "metadata": {
    "colab": {
     "base_uri": "https://localhost:8080/",
     "height": 455
    },
    "id": "9txUMfy5PmxI",
    "outputId": "ac8d5bf3-6c2c-4509-812f-e358976ae5b0"
   },
   "outputs": [
    {
     "data": {
      "text/plain": [
       "Text(0.5, 1.0, 'Fake: Prediction: 819, confidence: 0.9565532803535461')"
      ]
     },
     "execution_count": 24,
     "metadata": {
      "tags": []
     },
     "output_type": "execute_result"
    },
    {
     "data": {
      "image/png": "[encoded data removed]",
      "text/plain": [
       "<Figure size 216x216 with 1 Axes>"
      ]
     },
     "metadata": {
      "needs_background": "light",
      "tags": []
     },
     "output_type": "display_data"
    },
    {
     "data": {
      "image/png": "[encoded data removed]",
      "text/plain": [
       "<Figure size 216x216 with 1 Axes>"
      ]
     },
     "metadata": {
      "needs_background": "light",
      "tags": []
     },
     "output_type": "display_data"
    }
   ],
   "source": [
    "test_tensor =  torch.tensor(transform.resize(np.array(Image.open('./10.jpg')), (160, 160)), device='cuda', dtype=torch.float).permute((2, 0, 1)).unsqueeze(0)\n",
    "test_img = test_tensor.cpu().detach().numpy()\n",
    "\n",
    "true_confs = F.softmax(attacked_model(test_tensor), -1).cpu().detach().numpy()[0]\n",
    "fake_confs = F.softmax(attacked_model((test_tensor + generator_model(test_tensor)) / 2), -1).cpu().detach().numpy()[0]\n",
    "\n",
    "plt.figure(figsize=(3,3))\n",
    "true_image = test_img[0].transpose((1, 2, 0))\n",
    "plt.imshow(true_image, cmap='gray')\n",
    "plt.title(\"Truth: Prediction: {}, confidence: {}\".format(np.argmax(true_confs), true_confs.max()))\n",
    "\n",
    "plt.figure(figsize=(3,3))\n",
    "false_image = ((test_img + generator_model(test_tensor).cpu().detach().numpy()) / 2)[0].transpose((1, 2, 0))\n",
    "plt.imshow(false_image, cmap='gray')\n",
    "plt.title(\"Fake: Prediction: {}, confidence: {}\".format(np.argmax(fake_confs), fake_confs.max()))"
   ]
  },
  {
   "cell_type": "code",
   "execution_count": 21,
   "metadata": {
    "colab": {
     "base_uri": "https://localhost:8080/",
     "height": 239
    },
    "id": "7bSLVVjbqAlM",
    "outputId": "9fdd7059-244f-46ea-8874-f1e2861a2162"
   },
   "outputs": [
    {
     "data": {
      "text/html": [
       "<div>\n",
       "<style scoped>\n",
       "    .dataframe tbody tr th:only-of-type {\n",
       "        vertical-align: middle;\n",
       "    }\n",
       "\n",
       "    .dataframe tbody tr th {\n",
       "        vertical-align: top;\n",
       "    }\n",
       "\n",
       "    .dataframe thead th {\n",
       "        text-align: right;\n",
       "    }\n",
       "</style>\n",
       "<table border=\"1\" class=\"dataframe\">\n",
       "  <thead>\n",
       "    <tr style=\"text-align: right;\">\n",
       "      <th></th>\n",
       "      <th>attack loss</th>\n",
       "      <th>attack loss/mean</th>\n",
       "      <th>attack loss/std</th>\n",
       "      <th>discriminator loss</th>\n",
       "      <th>discriminator loss/mean</th>\n",
       "      <th>discriminator loss/std</th>\n",
       "      <th>generator loss</th>\n",
       "      <th>generator loss/mean</th>\n",
       "      <th>generator loss/std</th>\n",
       "      <th>hinge loss</th>\n",
       "      <th>hinge loss/mean</th>\n",
       "      <th>hinge loss/std</th>\n",
       "      <th>lr/discriminator_discriminator_optimizer</th>\n",
       "      <th>lr/generator_generator_optimizer</th>\n",
       "      <th>momentum/discriminator_discriminator_optimizer</th>\n",
       "      <th>momentum/generator_generator_optimizer</th>\n",
       "    </tr>\n",
       "  </thead>\n",
       "  <tbody>\n",
       "    <tr>\n",
       "      <th>0</th>\n",
       "      <td>-6.231558</td>\n",
       "      <td>-6.231558</td>\n",
       "      <td>0.320041</td>\n",
       "      <td>0.213140</td>\n",
       "      <td>0.213140</td>\n",
       "      <td>0.197771</td>\n",
       "      <td>-0.653542</td>\n",
       "      <td>-0.653542</td>\n",
       "      <td>0.032863</td>\n",
       "      <td>83.847679</td>\n",
       "      <td>83.847679</td>\n",
       "      <td>0.638820</td>\n",
       "      <td>0.0003</td>\n",
       "      <td>0.0003</td>\n",
       "      <td>0.9</td>\n",
       "      <td>0.9</td>\n",
       "    </tr>\n",
       "    <tr>\n",
       "      <th>1</th>\n",
       "      <td>-6.223755</td>\n",
       "      <td>-6.223755</td>\n",
       "      <td>0.326083</td>\n",
       "      <td>-0.059395</td>\n",
       "      <td>-0.059395</td>\n",
       "      <td>0.041582</td>\n",
       "      <td>-0.750905</td>\n",
       "      <td>-0.750905</td>\n",
       "      <td>0.024180</td>\n",
       "      <td>83.961708</td>\n",
       "      <td>83.961708</td>\n",
       "      <td>0.524921</td>\n",
       "      <td>0.0003</td>\n",
       "      <td>0.0003</td>\n",
       "      <td>0.9</td>\n",
       "      <td>0.9</td>\n",
       "    </tr>\n",
       "    <tr>\n",
       "      <th>2</th>\n",
       "      <td>-6.139535</td>\n",
       "      <td>-6.139535</td>\n",
       "      <td>0.320848</td>\n",
       "      <td>-0.077958</td>\n",
       "      <td>-0.077958</td>\n",
       "      <td>0.058221</td>\n",
       "      <td>-0.821278</td>\n",
       "      <td>-0.821278</td>\n",
       "      <td>0.016117</td>\n",
       "      <td>84.791710</td>\n",
       "      <td>84.791710</td>\n",
       "      <td>0.217112</td>\n",
       "      <td>0.0003</td>\n",
       "      <td>0.0003</td>\n",
       "      <td>0.9</td>\n",
       "      <td>0.9</td>\n",
       "    </tr>\n",
       "    <tr>\n",
       "      <th>3</th>\n",
       "      <td>-6.134452</td>\n",
       "      <td>-6.134452</td>\n",
       "      <td>0.322045</td>\n",
       "      <td>-0.133295</td>\n",
       "      <td>-0.133295</td>\n",
       "      <td>0.039633</td>\n",
       "      <td>-0.863985</td>\n",
       "      <td>-0.863985</td>\n",
       "      <td>0.009750</td>\n",
       "      <td>84.563416</td>\n",
       "      <td>84.563416</td>\n",
       "      <td>0.196617</td>\n",
       "      <td>0.0003</td>\n",
       "      <td>0.0003</td>\n",
       "      <td>0.9</td>\n",
       "      <td>0.9</td>\n",
       "    </tr>\n",
       "    <tr>\n",
       "      <th>4</th>\n",
       "      <td>-6.125096</td>\n",
       "      <td>-6.125096</td>\n",
       "      <td>0.321201</td>\n",
       "      <td>-0.168731</td>\n",
       "      <td>-0.168731</td>\n",
       "      <td>0.040253</td>\n",
       "      <td>-0.889493</td>\n",
       "      <td>-0.889493</td>\n",
       "      <td>0.006053</td>\n",
       "      <td>84.423714</td>\n",
       "      <td>84.423714</td>\n",
       "      <td>0.208713</td>\n",
       "      <td>0.0003</td>\n",
       "      <td>0.0003</td>\n",
       "      <td>0.9</td>\n",
       "      <td>0.9</td>\n",
       "    </tr>\n",
       "  </tbody>\n",
       "</table>\n",
       "</div>"
      ],
      "text/plain": [
       "   attack loss  ...  momentum/generator_generator_optimizer\n",
       "0    -6.231558  ...                                     0.9\n",
       "1    -6.223755  ...                                     0.9\n",
       "2    -6.139535  ...                                     0.9\n",
       "3    -6.134452  ...                                     0.9\n",
       "4    -6.125096  ...                                     0.9\n",
       "\n",
       "[5 rows x 16 columns]"
      ]
     },
     "execution_count": 21,
     "metadata": {
      "tags": []
     },
     "output_type": "execute_result"
    }
   ],
   "source": [
    "results = pd.read_csv(F\"/content/drive/MyDrive/gan_logdir/train.csv\", error_bad_lines=False, delimiter=',').drop(columns=['step']).astype(np.float64)\n",
    "results"
   ]
  },
  {
   "cell_type": "code",
   "execution_count": 22,
   "metadata": {
    "colab": {
     "base_uri": "https://localhost:8080/",
     "height": 591
    },
    "id": "MhSyR_FhqKSY",
    "outputId": "3c2af2e2-ed01-4106-bf0c-b2723b37a294"
   },
   "outputs": [
    {
     "data": {
      "text/plain": [
       "<matplotlib.axes._subplots.AxesSubplot at 0x7f90a43219d0>"
      ]
     },
     "execution_count": 22,
     "metadata": {
      "tags": []
     },
     "output_type": "execute_result"
    },
    {
     "data": {
      "image/png": "[encoded data removed]",
      "text/plain": [
       "<Figure size 1080x720 with 1 Axes>"
      ]
     },
     "metadata": {
      "needs_background": "light",
      "tags": []
     },
     "output_type": "display_data"
    }
   ],
   "source": [
    "results[['attack loss']].plot(figsize=(15, 10))"
   ]
  },
  {
   "cell_type": "code",
   "execution_count": 23,
   "metadata": {
    "colab": {
     "base_uri": "https://localhost:8080/",
     "height": 337
    },
    "id": "PN-iprkWqXo-",
    "outputId": "d93b2a72-dfdc-4a98-ace6-b5776b251084",
    "pycharm": {
     "name": "#%%\n"
    }
   },
   "outputs": [
    {
     "data": {
      "text/plain": [
       "<matplotlib.axes._subplots.AxesSubplot at 0x7f8dac3f9450>"
      ]
     },
     "execution_count": 23,
     "metadata": {
      "tags": []
     },
     "output_type": "execute_result"
    },
    {
     "data": {
      "image/png": "[encoded data removed]",
      "text/plain": [
       "<Figure size 720x360 with 1 Axes>"
      ]
     },
     "metadata": {
      "needs_background": "light",
      "tags": []
     },
     "output_type": "display_data"
    }
   ],
   "source": [
    "results[['generator loss', 'discriminator loss']].plot(figsize=(10, 5))"
   ]
  }
 ],
 "metadata": {
  "accelerator": "GPU",
  "colab": {
   "collapsed_sections": [],
   "name": "main_vgg_big_readable.ipynb",
   "provenance": []
  },
  "kernelspec": {
   "display_name": "Python 3",
   "language": "python",
   "name": "python3"
  },
  "language_info": {
   "codemirror_mode": {
    "name": "ipython",
    "version": 3
   },
   "file_extension": ".py",
   "mimetype": "text/x-python",
   "name": "python",
   "nbconvert_exporter": "python",
   "pygments_lexer": "ipython3",
   "version": "3.7.9"
  },
  "widgets": {
   "application/vnd.jupyter.widget-state+json": {
    "000b239e0ec442699afdb4ed8907a0d9": {
     "model_module": "@jupyter-widgets/base",
     "model_name": "LayoutModel",
     "state": {
      "_model_module": "@jupyter-widgets/base",
      "_model_module_version": "1.2.0",
      "_model_name": "LayoutModel",
      "_view_count": null,
      "_view_module": "@jupyter-widgets/base",
      "_view_module_version": "1.2.0",
      "_view_name": "LayoutView",
      "align_content": null,
      "align_items": null,
      "align_self": null,
      "border": null,
      "bottom": null,
      "display": null,
      "flex": null,
      "flex_flow": null,
      "grid_area": null,
      "grid_auto_columns": null,
      "grid_auto_flow": null,
      "grid_auto_rows": null,
      "grid_column": null,
      "grid_gap": null,
      "grid_row": null,
      "grid_template_areas": null,
      "grid_template_columns": null,
      "grid_template_rows": null,
      "height": null,
      "justify_content": null,
      "justify_items": null,
      "left": null,
      "margin": null,
      "max_height": null,
      "max_width": null,
      "min_height": null,
      "min_width": null,
      "object_fit": null,
      "object_position": null,
      "order": null,
      "overflow": null,
      "overflow_x": null,
      "overflow_y": null,
      "padding": null,
      "right": null,
      "top": null,
      "visibility": null,
      "width": null
     }
    },
    "1298b4d6873e4597a5415f9049813391": {
     "model_module": "@jupyter-widgets/controls",
     "model_name": "FloatProgressModel",
     "state": {
      "_dom_classes": [],
      "_model_module": "@jupyter-widgets/controls",
      "_model_module_version": "1.5.0",
      "_model_name": "FloatProgressModel",
      "_view_count": null,
      "_view_module": "@jupyter-widgets/controls",
      "_view_module_version": "1.5.0",
      "_view_name": "ProgressView",
      "bar_style": "success",
      "description": "5/5 * Epoch (train): 100%",
      "description_tooltip": null,
      "layout": "IPY_MODEL_bcd7ddfcbfc14fabbe380e2f6b08a4d4",
      "max": 1819,
      "min": 0,
      "orientation": "horizontal",
      "style": "IPY_MODEL_453b9a77771e49da9298b0a8838c8013",
      "value": 1819
     }
    },
    "1e1d3125422a446193eb5a79fb0b3695": {
     "model_module": "@jupyter-widgets/controls",
     "model_name": "HTMLModel",
     "state": {
      "_dom_classes": [],
      "_model_module": "@jupyter-widgets/controls",
      "_model_module_version": "1.5.0",
      "_model_name": "HTMLModel",
      "_view_count": null,
      "_view_module": "@jupyter-widgets/controls",
      "_view_module_version": "1.5.0",
      "_view_name": "HTMLView",
      "description": "",
      "description_tooltip": null,
      "layout": "IPY_MODEL_6d0119f4f32843a692f6a4a2e5949301",
      "placeholder": "​",
      "style": "IPY_MODEL_dd7f263c35b849e5a95d2bd19a27a67d",
      "value": " 1819/1819 [42:56&lt;00:00,  1.42s/it, attack loss=-6.268e+00, discriminator loss=-9.678e-02, generator loss=-7.902e-01, hinge loss=84.724, lr/discriminator_discriminator_optimizer=3.000e-04, lr/generator_generator_optimizer=3.000e-04, momentum/discriminator_discriminator_optimizer=0.900, momentum/generator_generator_optimizer=0.900]"
     }
    },
    "22436467fe8647d3902d33723f52bffe": {
     "model_module": "@jupyter-widgets/controls",
     "model_name": "DescriptionStyleModel",
     "state": {
      "_model_module": "@jupyter-widgets/controls",
      "_model_module_version": "1.5.0",
      "_model_name": "DescriptionStyleModel",
      "_view_count": null,
      "_view_module": "@jupyter-widgets/base",
      "_view_module_version": "1.2.0",
      "_view_name": "StyleView",
      "description_width": ""
     }
    },
    "2259876273344b60b9f33833ee026b5a": {
     "model_module": "@jupyter-widgets/controls",
     "model_name": "DescriptionStyleModel",
     "state": {
      "_model_module": "@jupyter-widgets/controls",
      "_model_module_version": "1.5.0",
      "_model_name": "DescriptionStyleModel",
      "_view_count": null,
      "_view_module": "@jupyter-widgets/base",
      "_view_module_version": "1.2.0",
      "_view_name": "StyleView",
      "description_width": ""
     }
    },
    "226693f03279431eacfe8de7224159da": {
     "model_module": "@jupyter-widgets/controls",
     "model_name": "ProgressStyleModel",
     "state": {
      "_model_module": "@jupyter-widgets/controls",
      "_model_module_version": "1.5.0",
      "_model_name": "ProgressStyleModel",
      "_view_count": null,
      "_view_module": "@jupyter-widgets/base",
      "_view_module_version": "1.2.0",
      "_view_name": "StyleView",
      "bar_color": null,
      "description_width": "initial"
     }
    },
    "263b328d0b834150a34faf2ee1890558": {
     "model_module": "@jupyter-widgets/controls",
     "model_name": "FloatProgressModel",
     "state": {
      "_dom_classes": [],
      "_model_module": "@jupyter-widgets/controls",
      "_model_module_version": "1.5.0",
      "_model_name": "FloatProgressModel",
      "_view_count": null,
      "_view_module": "@jupyter-widgets/controls",
      "_view_module_version": "1.5.0",
      "_view_name": "ProgressView",
      "bar_style": "success",
      "description": "4/5 * Epoch (train): 100%",
      "description_tooltip": null,
      "layout": "IPY_MODEL_c8a2b82ec44d4c7b9d712497f2471495",
      "max": 1819,
      "min": 0,
      "orientation": "horizontal",
      "style": "IPY_MODEL_2721064c80604a3190b42c162d506e4b",
      "value": 1819
     }
    },
    "2721064c80604a3190b42c162d506e4b": {
     "model_module": "@jupyter-widgets/controls",
     "model_name": "ProgressStyleModel",
     "state": {
      "_model_module": "@jupyter-widgets/controls",
      "_model_module_version": "1.5.0",
      "_model_name": "ProgressStyleModel",
      "_view_count": null,
      "_view_module": "@jupyter-widgets/base",
      "_view_module_version": "1.2.0",
      "_view_name": "StyleView",
      "bar_color": null,
      "description_width": "initial"
     }
    },
    "33ca02d6517644c6a1cf092983ea3924": {
     "model_module": "@jupyter-widgets/base",
     "model_name": "LayoutModel",
     "state": {
      "_model_module": "@jupyter-widgets/base",
      "_model_module_version": "1.2.0",
      "_model_name": "LayoutModel",
      "_view_count": null,
      "_view_module": "@jupyter-widgets/base",
      "_view_module_version": "1.2.0",
      "_view_name": "LayoutView",
      "align_content": null,
      "align_items": null,
      "align_self": null,
      "border": null,
      "bottom": null,
      "display": null,
      "flex": null,
      "flex_flow": null,
      "grid_area": null,
      "grid_auto_columns": null,
      "grid_auto_flow": null,
      "grid_auto_rows": null,
      "grid_column": null,
      "grid_gap": null,
      "grid_row": null,
      "grid_template_areas": null,
      "grid_template_columns": null,
      "grid_template_rows": null,
      "height": null,
      "justify_content": null,
      "justify_items": null,
      "left": null,
      "margin": null,
      "max_height": null,
      "max_width": null,
      "min_height": null,
      "min_width": null,
      "object_fit": null,
      "object_position": null,
      "order": null,
      "overflow": null,
      "overflow_x": null,
      "overflow_y": null,
      "padding": null,
      "right": null,
      "top": null,
      "visibility": null,
      "width": null
     }
    },
    "37f859e79beb4c2fb2a85ca775dff83d": {
     "model_module": "@jupyter-widgets/controls",
     "model_name": "DescriptionStyleModel",
     "state": {
      "_model_module": "@jupyter-widgets/controls",
      "_model_module_version": "1.5.0",
      "_model_name": "DescriptionStyleModel",
      "_view_count": null,
      "_view_module": "@jupyter-widgets/base",
      "_view_module_version": "1.2.0",
      "_view_name": "StyleView",
      "description_width": ""
     }
    },
    "422738bf64f441dca7a2ab530632fff6": {
     "model_module": "@jupyter-widgets/controls",
     "model_name": "HBoxModel",
     "state": {
      "_dom_classes": [],
      "_model_module": "@jupyter-widgets/controls",
      "_model_module_version": "1.5.0",
      "_model_name": "HBoxModel",
      "_view_count": null,
      "_view_module": "@jupyter-widgets/controls",
      "_view_module_version": "1.5.0",
      "_view_name": "HBoxView",
      "box_style": "",
      "children": [
       "IPY_MODEL_f7160295acc645c98d5c057e8326629f",
       "IPY_MODEL_1e1d3125422a446193eb5a79fb0b3695"
      ],
      "layout": "IPY_MODEL_b41a644f248e425c88babd495e67cf3b"
     }
    },
    "453b9a77771e49da9298b0a8838c8013": {
     "model_module": "@jupyter-widgets/controls",
     "model_name": "ProgressStyleModel",
     "state": {
      "_model_module": "@jupyter-widgets/controls",
      "_model_module_version": "1.5.0",
      "_model_name": "ProgressStyleModel",
      "_view_count": null,
      "_view_module": "@jupyter-widgets/base",
      "_view_module_version": "1.2.0",
      "_view_name": "StyleView",
      "bar_color": null,
      "description_width": "initial"
     }
    },
    "4fafae685dbb4b149a7e4888f51d9984": {
     "model_module": "@jupyter-widgets/base",
     "model_name": "LayoutModel",
     "state": {
      "_model_module": "@jupyter-widgets/base",
      "_model_module_version": "1.2.0",
      "_model_name": "LayoutModel",
      "_view_count": null,
      "_view_module": "@jupyter-widgets/base",
      "_view_module_version": "1.2.0",
      "_view_name": "LayoutView",
      "align_content": null,
      "align_items": null,
      "align_self": null,
      "border": null,
      "bottom": null,
      "display": null,
      "flex": null,
      "flex_flow": null,
      "grid_area": null,
      "grid_auto_columns": null,
      "grid_auto_flow": null,
      "grid_auto_rows": null,
      "grid_column": null,
      "grid_gap": null,
      "grid_row": null,
      "grid_template_areas": null,
      "grid_template_columns": null,
      "grid_template_rows": null,
      "height": null,
      "justify_content": null,
      "justify_items": null,
      "left": null,
      "margin": null,
      "max_height": null,
      "max_width": null,
      "min_height": null,
      "min_width": null,
      "object_fit": null,
      "object_position": null,
      "order": null,
      "overflow": null,
      "overflow_x": null,
      "overflow_y": null,
      "padding": null,
      "right": null,
      "top": null,
      "visibility": null,
      "width": null
     }
    },
    "5d0a53bb4a8d41f287a53b29e9a3d04e": {
     "model_module": "@jupyter-widgets/controls",
     "model_name": "ProgressStyleModel",
     "state": {
      "_model_module": "@jupyter-widgets/controls",
      "_model_module_version": "1.5.0",
      "_model_name": "ProgressStyleModel",
      "_view_count": null,
      "_view_module": "@jupyter-widgets/base",
      "_view_module_version": "1.2.0",
      "_view_name": "StyleView",
      "bar_color": null,
      "description_width": "initial"
     }
    },
    "5d59fa79e0e74d61b7fbdbbc666e5ffe": {
     "model_module": "@jupyter-widgets/base",
     "model_name": "LayoutModel",
     "state": {
      "_model_module": "@jupyter-widgets/base",
      "_model_module_version": "1.2.0",
      "_model_name": "LayoutModel",
      "_view_count": null,
      "_view_module": "@jupyter-widgets/base",
      "_view_module_version": "1.2.0",
      "_view_name": "LayoutView",
      "align_content": null,
      "align_items": null,
      "align_self": null,
      "border": null,
      "bottom": null,
      "display": null,
      "flex": null,
      "flex_flow": null,
      "grid_area": null,
      "grid_auto_columns": null,
      "grid_auto_flow": null,
      "grid_auto_rows": null,
      "grid_column": null,
      "grid_gap": null,
      "grid_row": null,
      "grid_template_areas": null,
      "grid_template_columns": null,
      "grid_template_rows": null,
      "height": null,
      "justify_content": null,
      "justify_items": null,
      "left": null,
      "margin": null,
      "max_height": null,
      "max_width": null,
      "min_height": null,
      "min_width": null,
      "object_fit": null,
      "object_position": null,
      "order": null,
      "overflow": null,
      "overflow_x": null,
      "overflow_y": null,
      "padding": null,
      "right": null,
      "top": null,
      "visibility": null,
      "width": null
     }
    },
    "6d0119f4f32843a692f6a4a2e5949301": {
     "model_module": "@jupyter-widgets/base",
     "model_name": "LayoutModel",
     "state": {
      "_model_module": "@jupyter-widgets/base",
      "_model_module_version": "1.2.0",
      "_model_name": "LayoutModel",
      "_view_count": null,
      "_view_module": "@jupyter-widgets/base",
      "_view_module_version": "1.2.0",
      "_view_name": "LayoutView",
      "align_content": null,
      "align_items": null,
      "align_self": null,
      "border": null,
      "bottom": null,
      "display": null,
      "flex": null,
      "flex_flow": null,
      "grid_area": null,
      "grid_auto_columns": null,
      "grid_auto_flow": null,
      "grid_auto_rows": null,
      "grid_column": null,
      "grid_gap": null,
      "grid_row": null,
      "grid_template_areas": null,
      "grid_template_columns": null,
      "grid_template_rows": null,
      "height": null,
      "justify_content": null,
      "justify_items": null,
      "left": null,
      "margin": null,
      "max_height": null,
      "max_width": null,
      "min_height": null,
      "min_width": null,
      "object_fit": null,
      "object_position": null,
      "order": null,
      "overflow": null,
      "overflow_x": null,
      "overflow_y": null,
      "padding": null,
      "right": null,
      "top": null,
      "visibility": null,
      "width": null
     }
    },
    "6f71aabd2284465aa71d0d70354cdf60": {
     "model_module": "@jupyter-widgets/controls",
     "model_name": "FloatProgressModel",
     "state": {
      "_dom_classes": [],
      "_model_module": "@jupyter-widgets/controls",
      "_model_module_version": "1.5.0",
      "_model_name": "FloatProgressModel",
      "_view_count": null,
      "_view_module": "@jupyter-widgets/controls",
      "_view_module_version": "1.5.0",
      "_view_name": "ProgressView",
      "bar_style": "success",
      "description": "3/5 * Epoch (train): 100%",
      "description_tooltip": null,
      "layout": "IPY_MODEL_5d59fa79e0e74d61b7fbdbbc666e5ffe",
      "max": 1819,
      "min": 0,
      "orientation": "horizontal",
      "style": "IPY_MODEL_5d0a53bb4a8d41f287a53b29e9a3d04e",
      "value": 1819
     }
    },
    "79379908591d4f718b79742f1470eb14": {
     "model_module": "@jupyter-widgets/controls",
     "model_name": "HBoxModel",
     "state": {
      "_dom_classes": [],
      "_model_module": "@jupyter-widgets/controls",
      "_model_module_version": "1.5.0",
      "_model_name": "HBoxModel",
      "_view_count": null,
      "_view_module": "@jupyter-widgets/controls",
      "_view_module_version": "1.5.0",
      "_view_name": "HBoxView",
      "box_style": "",
      "children": [
       "IPY_MODEL_6f71aabd2284465aa71d0d70354cdf60",
       "IPY_MODEL_d44e6892decc46ebac6b2e34d96ffb29"
      ],
      "layout": "IPY_MODEL_33ca02d6517644c6a1cf092983ea3924"
     }
    },
    "81af98c78a834642b0e4fd937599ff79": {
     "model_module": "@jupyter-widgets/controls",
     "model_name": "HBoxModel",
     "state": {
      "_dom_classes": [],
      "_model_module": "@jupyter-widgets/controls",
      "_model_module_version": "1.5.0",
      "_model_name": "HBoxModel",
      "_view_count": null,
      "_view_module": "@jupyter-widgets/controls",
      "_view_module_version": "1.5.0",
      "_view_name": "HBoxView",
      "box_style": "",
      "children": [
       "IPY_MODEL_1298b4d6873e4597a5415f9049813391",
       "IPY_MODEL_e19cd1eb55f446169d0d614e3b9db8b3"
      ],
      "layout": "IPY_MODEL_be9bb314d18b44dd9ea6b7cfa622f128"
     }
    },
    "9da4686e07c94125a801ed12c2dfa507": {
     "model_module": "@jupyter-widgets/controls",
     "model_name": "HTMLModel",
     "state": {
      "_dom_classes": [],
      "_model_module": "@jupyter-widgets/controls",
      "_model_module_version": "1.5.0",
      "_model_name": "HTMLModel",
      "_view_count": null,
      "_view_module": "@jupyter-widgets/controls",
      "_view_module_version": "1.5.0",
      "_view_name": "HTMLView",
      "description": "",
      "description_tooltip": null,
      "layout": "IPY_MODEL_a063aea6cc974ce3bb5a46579577c6e9",
      "placeholder": "​",
      "style": "IPY_MODEL_ca7379b91a4f423e87934a075909a858",
      "value": " 1819/1819 [43:07&lt;00:00,  1.42s/it, attack loss=-6.199e+00, discriminator loss=-1.026e-01, generator loss=-8.777e-01, hinge loss=84.652, lr/discriminator_discriminator_optimizer=3.000e-04, lr/generator_generator_optimizer=3.000e-04, momentum/discriminator_discriminator_optimizer=0.900, momentum/generator_generator_optimizer=0.900]"
     }
    },
    "a063aea6cc974ce3bb5a46579577c6e9": {
     "model_module": "@jupyter-widgets/base",
     "model_name": "LayoutModel",
     "state": {
      "_model_module": "@jupyter-widgets/base",
      "_model_module_version": "1.2.0",
      "_model_name": "LayoutModel",
      "_view_count": null,
      "_view_module": "@jupyter-widgets/base",
      "_view_module_version": "1.2.0",
      "_view_name": "LayoutView",
      "align_content": null,
      "align_items": null,
      "align_self": null,
      "border": null,
      "bottom": null,
      "display": null,
      "flex": null,
      "flex_flow": null,
      "grid_area": null,
      "grid_auto_columns": null,
      "grid_auto_flow": null,
      "grid_auto_rows": null,
      "grid_column": null,
      "grid_gap": null,
      "grid_row": null,
      "grid_template_areas": null,
      "grid_template_columns": null,
      "grid_template_rows": null,
      "height": null,
      "justify_content": null,
      "justify_items": null,
      "left": null,
      "margin": null,
      "max_height": null,
      "max_width": null,
      "min_height": null,
      "min_width": null,
      "object_fit": null,
      "object_position": null,
      "order": null,
      "overflow": null,
      "overflow_x": null,
      "overflow_y": null,
      "padding": null,
      "right": null,
      "top": null,
      "visibility": null,
      "width": null
     }
    },
    "b41a644f248e425c88babd495e67cf3b": {
     "model_module": "@jupyter-widgets/base",
     "model_name": "LayoutModel",
     "state": {
      "_model_module": "@jupyter-widgets/base",
      "_model_module_version": "1.2.0",
      "_model_name": "LayoutModel",
      "_view_count": null,
      "_view_module": "@jupyter-widgets/base",
      "_view_module_version": "1.2.0",
      "_view_name": "LayoutView",
      "align_content": null,
      "align_items": null,
      "align_self": null,
      "border": null,
      "bottom": null,
      "display": null,
      "flex": null,
      "flex_flow": null,
      "grid_area": null,
      "grid_auto_columns": null,
      "grid_auto_flow": null,
      "grid_auto_rows": null,
      "grid_column": null,
      "grid_gap": null,
      "grid_row": null,
      "grid_template_areas": null,
      "grid_template_columns": null,
      "grid_template_rows": null,
      "height": null,
      "justify_content": null,
      "justify_items": null,
      "left": null,
      "margin": null,
      "max_height": null,
      "max_width": null,
      "min_height": null,
      "min_width": null,
      "object_fit": null,
      "object_position": null,
      "order": null,
      "overflow": null,
      "overflow_x": null,
      "overflow_y": null,
      "padding": null,
      "right": null,
      "top": null,
      "visibility": null,
      "width": null
     }
    },
    "b8dc5eea96cc45329f65fc0ff12961fe": {
     "model_module": "@jupyter-widgets/controls",
     "model_name": "HBoxModel",
     "state": {
      "_dom_classes": [],
      "_model_module": "@jupyter-widgets/controls",
      "_model_module_version": "1.5.0",
      "_model_name": "HBoxModel",
      "_view_count": null,
      "_view_module": "@jupyter-widgets/controls",
      "_view_module_version": "1.5.0",
      "_view_name": "HBoxView",
      "box_style": "",
      "children": [
       "IPY_MODEL_263b328d0b834150a34faf2ee1890558",
       "IPY_MODEL_9da4686e07c94125a801ed12c2dfa507"
      ],
      "layout": "IPY_MODEL_4fafae685dbb4b149a7e4888f51d9984"
     }
    },
    "bcd7ddfcbfc14fabbe380e2f6b08a4d4": {
     "model_module": "@jupyter-widgets/base",
     "model_name": "LayoutModel",
     "state": {
      "_model_module": "@jupyter-widgets/base",
      "_model_module_version": "1.2.0",
      "_model_name": "LayoutModel",
      "_view_count": null,
      "_view_module": "@jupyter-widgets/base",
      "_view_module_version": "1.2.0",
      "_view_name": "LayoutView",
      "align_content": null,
      "align_items": null,
      "align_self": null,
      "border": null,
      "bottom": null,
      "display": null,
      "flex": null,
      "flex_flow": null,
      "grid_area": null,
      "grid_auto_columns": null,
      "grid_auto_flow": null,
      "grid_auto_rows": null,
      "grid_column": null,
      "grid_gap": null,
      "grid_row": null,
      "grid_template_areas": null,
      "grid_template_columns": null,
      "grid_template_rows": null,
      "height": null,
      "justify_content": null,
      "justify_items": null,
      "left": null,
      "margin": null,
      "max_height": null,
      "max_width": null,
      "min_height": null,
      "min_width": null,
      "object_fit": null,
      "object_position": null,
      "order": null,
      "overflow": null,
      "overflow_x": null,
      "overflow_y": null,
      "padding": null,
      "right": null,
      "top": null,
      "visibility": null,
      "width": null
     }
    },
    "be77592d1021490ebe1bb99f139c482f": {
     "model_module": "@jupyter-widgets/controls",
     "model_name": "HTMLModel",
     "state": {
      "_dom_classes": [],
      "_model_module": "@jupyter-widgets/controls",
      "_model_module_version": "1.5.0",
      "_model_name": "HTMLModel",
      "_view_count": null,
      "_view_module": "@jupyter-widgets/controls",
      "_view_module_version": "1.5.0",
      "_view_name": "HTMLView",
      "description": "",
      "description_tooltip": null,
      "layout": "IPY_MODEL_000b239e0ec442699afdb4ed8907a0d9",
      "placeholder": "​",
      "style": "IPY_MODEL_22436467fe8647d3902d33723f52bffe",
      "value": " 1819/1819 [42:52&lt;00:00,  1.41s/it, attack loss=-6.442e+00, discriminator loss=-2.869e-02, generator loss=-7.071e-01, hinge loss=83.452, lr/discriminator_discriminator_optimizer=3.000e-04, lr/generator_generator_optimizer=3.000e-04, momentum/discriminator_discriminator_optimizer=0.900, momentum/generator_generator_optimizer=0.900]"
     }
    },
    "be9bb314d18b44dd9ea6b7cfa622f128": {
     "model_module": "@jupyter-widgets/base",
     "model_name": "LayoutModel",
     "state": {
      "_model_module": "@jupyter-widgets/base",
      "_model_module_version": "1.2.0",
      "_model_name": "LayoutModel",
      "_view_count": null,
      "_view_module": "@jupyter-widgets/base",
      "_view_module_version": "1.2.0",
      "_view_name": "LayoutView",
      "align_content": null,
      "align_items": null,
      "align_self": null,
      "border": null,
      "bottom": null,
      "display": null,
      "flex": null,
      "flex_flow": null,
      "grid_area": null,
      "grid_auto_columns": null,
      "grid_auto_flow": null,
      "grid_auto_rows": null,
      "grid_column": null,
      "grid_gap": null,
      "grid_row": null,
      "grid_template_areas": null,
      "grid_template_columns": null,
      "grid_template_rows": null,
      "height": null,
      "justify_content": null,
      "justify_items": null,
      "left": null,
      "margin": null,
      "max_height": null,
      "max_width": null,
      "min_height": null,
      "min_width": null,
      "object_fit": null,
      "object_position": null,
      "order": null,
      "overflow": null,
      "overflow_x": null,
      "overflow_y": null,
      "padding": null,
      "right": null,
      "top": null,
      "visibility": null,
      "width": null
     }
    },
    "c7463331d1a54ed799ca250a2405357c": {
     "model_module": "@jupyter-widgets/controls",
     "model_name": "FloatProgressModel",
     "state": {
      "_dom_classes": [],
      "_model_module": "@jupyter-widgets/controls",
      "_model_module_version": "1.5.0",
      "_model_name": "FloatProgressModel",
      "_view_count": null,
      "_view_module": "@jupyter-widgets/controls",
      "_view_module_version": "1.5.0",
      "_view_name": "ProgressView",
      "bar_style": "success",
      "description": "1/5 * Epoch (train): 100%",
      "description_tooltip": null,
      "layout": "IPY_MODEL_e18469d970dc4d2aa7898875da04784f",
      "max": 1819,
      "min": 0,
      "orientation": "horizontal",
      "style": "IPY_MODEL_226693f03279431eacfe8de7224159da",
      "value": 1819
     }
    },
    "c8a2b82ec44d4c7b9d712497f2471495": {
     "model_module": "@jupyter-widgets/base",
     "model_name": "LayoutModel",
     "state": {
      "_model_module": "@jupyter-widgets/base",
      "_model_module_version": "1.2.0",
      "_model_name": "LayoutModel",
      "_view_count": null,
      "_view_module": "@jupyter-widgets/base",
      "_view_module_version": "1.2.0",
      "_view_name": "LayoutView",
      "align_content": null,
      "align_items": null,
      "align_self": null,
      "border": null,
      "bottom": null,
      "display": null,
      "flex": null,
      "flex_flow": null,
      "grid_area": null,
      "grid_auto_columns": null,
      "grid_auto_flow": null,
      "grid_auto_rows": null,
      "grid_column": null,
      "grid_gap": null,
      "grid_row": null,
      "grid_template_areas": null,
      "grid_template_columns": null,
      "grid_template_rows": null,
      "height": null,
      "justify_content": null,
      "justify_items": null,
      "left": null,
      "margin": null,
      "max_height": null,
      "max_width": null,
      "min_height": null,
      "min_width": null,
      "object_fit": null,
      "object_position": null,
      "order": null,
      "overflow": null,
      "overflow_x": null,
      "overflow_y": null,
      "padding": null,
      "right": null,
      "top": null,
      "visibility": null,
      "width": null
     }
    },
    "c96875eaf5944741b0486f37200e5506": {
     "model_module": "@jupyter-widgets/base",
     "model_name": "LayoutModel",
     "state": {
      "_model_module": "@jupyter-widgets/base",
      "_model_module_version": "1.2.0",
      "_model_name": "LayoutModel",
      "_view_count": null,
      "_view_module": "@jupyter-widgets/base",
      "_view_module_version": "1.2.0",
      "_view_name": "LayoutView",
      "align_content": null,
      "align_items": null,
      "align_self": null,
      "border": null,
      "bottom": null,
      "display": null,
      "flex": null,
      "flex_flow": null,
      "grid_area": null,
      "grid_auto_columns": null,
      "grid_auto_flow": null,
      "grid_auto_rows": null,
      "grid_column": null,
      "grid_gap": null,
      "grid_row": null,
      "grid_template_areas": null,
      "grid_template_columns": null,
      "grid_template_rows": null,
      "height": null,
      "justify_content": null,
      "justify_items": null,
      "left": null,
      "margin": null,
      "max_height": null,
      "max_width": null,
      "min_height": null,
      "min_width": null,
      "object_fit": null,
      "object_position": null,
      "order": null,
      "overflow": null,
      "overflow_x": null,
      "overflow_y": null,
      "padding": null,
      "right": null,
      "top": null,
      "visibility": null,
      "width": null
     }
    },
    "ca7379b91a4f423e87934a075909a858": {
     "model_module": "@jupyter-widgets/controls",
     "model_name": "DescriptionStyleModel",
     "state": {
      "_model_module": "@jupyter-widgets/controls",
      "_model_module_version": "1.5.0",
      "_model_name": "DescriptionStyleModel",
      "_view_count": null,
      "_view_module": "@jupyter-widgets/base",
      "_view_module_version": "1.2.0",
      "_view_name": "StyleView",
      "description_width": ""
     }
    },
    "ce9a535ef2e945018a096a4352b86fe1": {
     "model_module": "@jupyter-widgets/controls",
     "model_name": "HBoxModel",
     "state": {
      "_dom_classes": [],
      "_model_module": "@jupyter-widgets/controls",
      "_model_module_version": "1.5.0",
      "_model_name": "HBoxModel",
      "_view_count": null,
      "_view_module": "@jupyter-widgets/controls",
      "_view_module_version": "1.5.0",
      "_view_name": "HBoxView",
      "box_style": "",
      "children": [
       "IPY_MODEL_c7463331d1a54ed799ca250a2405357c",
       "IPY_MODEL_be77592d1021490ebe1bb99f139c482f"
      ],
      "layout": "IPY_MODEL_da9487b351614538b8bc54995018713b"
     }
    },
    "d44e6892decc46ebac6b2e34d96ffb29": {
     "model_module": "@jupyter-widgets/controls",
     "model_name": "HTMLModel",
     "state": {
      "_dom_classes": [],
      "_model_module": "@jupyter-widgets/controls",
      "_model_module_version": "1.5.0",
      "_model_name": "HTMLModel",
      "_view_count": null,
      "_view_module": "@jupyter-widgets/controls",
      "_view_module_version": "1.5.0",
      "_view_name": "HTMLView",
      "description": "",
      "description_tooltip": null,
      "layout": "IPY_MODEL_ea5615ec9d1c4fdfa058a8a5b3637913",
      "placeholder": "​",
      "style": "IPY_MODEL_37f859e79beb4c2fb2a85ca775dff83d",
      "value": " 1819/1819 [42:59&lt;00:00,  1.42s/it, attack loss=-6.226e+00, discriminator loss=-1.260e-01, generator loss=-8.457e-01, hinge loss=84.797, lr/discriminator_discriminator_optimizer=3.000e-04, lr/generator_generator_optimizer=3.000e-04, momentum/discriminator_discriminator_optimizer=0.900, momentum/generator_generator_optimizer=0.900]"
     }
    },
    "da9487b351614538b8bc54995018713b": {
     "model_module": "@jupyter-widgets/base",
     "model_name": "LayoutModel",
     "state": {
      "_model_module": "@jupyter-widgets/base",
      "_model_module_version": "1.2.0",
      "_model_name": "LayoutModel",
      "_view_count": null,
      "_view_module": "@jupyter-widgets/base",
      "_view_module_version": "1.2.0",
      "_view_name": "LayoutView",
      "align_content": null,
      "align_items": null,
      "align_self": null,
      "border": null,
      "bottom": null,
      "display": null,
      "flex": null,
      "flex_flow": null,
      "grid_area": null,
      "grid_auto_columns": null,
      "grid_auto_flow": null,
      "grid_auto_rows": null,
      "grid_column": null,
      "grid_gap": null,
      "grid_row": null,
      "grid_template_areas": null,
      "grid_template_columns": null,
      "grid_template_rows": null,
      "height": null,
      "justify_content": null,
      "justify_items": null,
      "left": null,
      "margin": null,
      "max_height": null,
      "max_width": null,
      "min_height": null,
      "min_width": null,
      "object_fit": null,
      "object_position": null,
      "order": null,
      "overflow": null,
      "overflow_x": null,
      "overflow_y": null,
      "padding": null,
      "right": null,
      "top": null,
      "visibility": null,
      "width": null
     }
    },
    "dd7f263c35b849e5a95d2bd19a27a67d": {
     "model_module": "@jupyter-widgets/controls",
     "model_name": "DescriptionStyleModel",
     "state": {
      "_model_module": "@jupyter-widgets/controls",
      "_model_module_version": "1.5.0",
      "_model_name": "DescriptionStyleModel",
      "_view_count": null,
      "_view_module": "@jupyter-widgets/base",
      "_view_module_version": "1.2.0",
      "_view_name": "StyleView",
      "description_width": ""
     }
    },
    "e18469d970dc4d2aa7898875da04784f": {
     "model_module": "@jupyter-widgets/base",
     "model_name": "LayoutModel",
     "state": {
      "_model_module": "@jupyter-widgets/base",
      "_model_module_version": "1.2.0",
      "_model_name": "LayoutModel",
      "_view_count": null,
      "_view_module": "@jupyter-widgets/base",
      "_view_module_version": "1.2.0",
      "_view_name": "LayoutView",
      "align_content": null,
      "align_items": null,
      "align_self": null,
      "border": null,
      "bottom": null,
      "display": null,
      "flex": null,
      "flex_flow": null,
      "grid_area": null,
      "grid_auto_columns": null,
      "grid_auto_flow": null,
      "grid_auto_rows": null,
      "grid_column": null,
      "grid_gap": null,
      "grid_row": null,
      "grid_template_areas": null,
      "grid_template_columns": null,
      "grid_template_rows": null,
      "height": null,
      "justify_content": null,
      "justify_items": null,
      "left": null,
      "margin": null,
      "max_height": null,
      "max_width": null,
      "min_height": null,
      "min_width": null,
      "object_fit": null,
      "object_position": null,
      "order": null,
      "overflow": null,
      "overflow_x": null,
      "overflow_y": null,
      "padding": null,
      "right": null,
      "top": null,
      "visibility": null,
      "width": null
     }
    },
    "e19cd1eb55f446169d0d614e3b9db8b3": {
     "model_module": "@jupyter-widgets/controls",
     "model_name": "HTMLModel",
     "state": {
      "_dom_classes": [],
      "_model_module": "@jupyter-widgets/controls",
      "_model_module_version": "1.5.0",
      "_model_name": "HTMLModel",
      "_view_count": null,
      "_view_module": "@jupyter-widgets/controls",
      "_view_module_version": "1.5.0",
      "_view_name": "HTMLView",
      "description": "",
      "description_tooltip": null,
      "layout": "IPY_MODEL_c96875eaf5944741b0486f37200e5506",
      "placeholder": "​",
      "style": "IPY_MODEL_2259876273344b60b9f33833ee026b5a",
      "value": " 1819/1819 [43:09&lt;00:00,  1.42s/it, attack loss=-6.117e+00, discriminator loss=-1.665e-01, generator loss=-8.984e-01, hinge loss=84.606, lr/discriminator_discriminator_optimizer=3.000e-04, lr/generator_generator_optimizer=3.000e-04, momentum/discriminator_discriminator_optimizer=0.900, momentum/generator_generator_optimizer=0.900]"
     }
    },
    "e41ac37f835049509faabb7010767c01": {
     "model_module": "@jupyter-widgets/controls",
     "model_name": "ProgressStyleModel",
     "state": {
      "_model_module": "@jupyter-widgets/controls",
      "_model_module_version": "1.5.0",
      "_model_name": "ProgressStyleModel",
      "_view_count": null,
      "_view_module": "@jupyter-widgets/base",
      "_view_module_version": "1.2.0",
      "_view_name": "StyleView",
      "bar_color": null,
      "description_width": "initial"
     }
    },
    "ea5615ec9d1c4fdfa058a8a5b3637913": {
     "model_module": "@jupyter-widgets/base",
     "model_name": "LayoutModel",
     "state": {
      "_model_module": "@jupyter-widgets/base",
      "_model_module_version": "1.2.0",
      "_model_name": "LayoutModel",
      "_view_count": null,
      "_view_module": "@jupyter-widgets/base",
      "_view_module_version": "1.2.0",
      "_view_name": "LayoutView",
      "align_content": null,
      "align_items": null,
      "align_self": null,
      "border": null,
      "bottom": null,
      "display": null,
      "flex": null,
      "flex_flow": null,
      "grid_area": null,
      "grid_auto_columns": null,
      "grid_auto_flow": null,
      "grid_auto_rows": null,
      "grid_column": null,
      "grid_gap": null,
      "grid_row": null,
      "grid_template_areas": null,
      "grid_template_columns": null,
      "grid_template_rows": null,
      "height": null,
      "justify_content": null,
      "justify_items": null,
      "left": null,
      "margin": null,
      "max_height": null,
      "max_width": null,
      "min_height": null,
      "min_width": null,
      "object_fit": null,
      "object_position": null,
      "order": null,
      "overflow": null,
      "overflow_x": null,
      "overflow_y": null,
      "padding": null,
      "right": null,
      "top": null,
      "visibility": null,
      "width": null
     }
    },
    "f7160295acc645c98d5c057e8326629f": {
     "model_module": "@jupyter-widgets/controls",
     "model_name": "FloatProgressModel",
     "state": {
      "_dom_classes": [],
      "_model_module": "@jupyter-widgets/controls",
      "_model_module_version": "1.5.0",
      "_model_name": "FloatProgressModel",
      "_view_count": null,
      "_view_module": "@jupyter-widgets/controls",
      "_view_module_version": "1.5.0",
      "_view_name": "ProgressView",
      "bar_style": "success",
      "description": "2/5 * Epoch (train): 100%",
      "description_tooltip": null,
      "layout": "IPY_MODEL_faf9b04ff48b4bb3b212d218ecafc15a",
      "max": 1819,
      "min": 0,
      "orientation": "horizontal",
      "style": "IPY_MODEL_e41ac37f835049509faabb7010767c01",
      "value": 1819
     }
    },
    "faf9b04ff48b4bb3b212d218ecafc15a": {
     "model_module": "@jupyter-widgets/base",
     "model_name": "LayoutModel",
     "state": {
      "_model_module": "@jupyter-widgets/base",
      "_model_module_version": "1.2.0",
      "_model_name": "LayoutModel",
      "_view_count": null,
      "_view_module": "@jupyter-widgets/base",
      "_view_module_version": "1.2.0",
      "_view_name": "LayoutView",
      "align_content": null,
      "align_items": null,
      "align_self": null,
      "border": null,
      "bottom": null,
      "display": null,
      "flex": null,
      "flex_flow": null,
      "grid_area": null,
      "grid_auto_columns": null,
      "grid_auto_flow": null,
      "grid_auto_rows": null,
      "grid_column": null,
      "grid_gap": null,
      "grid_row": null,
      "grid_template_areas": null,
      "grid_template_columns": null,
      "grid_template_rows": null,
      "height": null,
      "justify_content": null,
      "justify_items": null,
      "left": null,
      "margin": null,
      "max_height": null,
      "max_width": null,
      "min_height": null,
      "min_width": null,
      "object_fit": null,
      "object_position": null,
      "order": null,
      "overflow": null,
      "overflow_x": null,
      "overflow_y": null,
      "padding": null,
      "right": null,
      "top": null,
      "visibility": null,
      "width": null
     }
    }
   }
  }
 },
 "nbformat": 4,
 "nbformat_minor": 1
}