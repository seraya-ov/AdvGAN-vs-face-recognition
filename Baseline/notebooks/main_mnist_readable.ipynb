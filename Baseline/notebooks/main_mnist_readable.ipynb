{
 "cells": [
  {
   "cell_type": "code",
   "execution_count": 1,
   "metadata": {
    "id": "cTrN0E3pj9xd",
    "pycharm": {
     "name": "#%%\n"
    }
   },
   "outputs": [],
   "source": [
    "import torch\n",
    "import torchvision\n",
    "from torchvision import transforms\n",
    "from skimage import io, transform\n",
    "from torch import nn\n",
    "\n",
    "import json\n",
    "\n",
    "import numpy as np\n",
    "import pandas as pd\n",
    "\n",
    "from training.losses import *\n",
    "from training.train import *\n",
    "from training.plots import *\n",
    "from models.gan import *\n",
    "from models.classifier import *\n",
    "\n",
    "import matplotlib.pyplot as plt\n",
    "from PIL import Image\n",
    "from importlib import reload\n",
    "\n",
    "torch.autograd.set_detect_anomaly(True)\n",
    "\n",
    "%matplotlib inline"
   ]
  },
  {
   "cell_type": "code",
   "execution_count": 2,
   "metadata": {
    "id": "VFtrr2XNj9xr"
   },
   "outputs": [],
   "source": [
    "BATCH_SIZE = 128\n",
    "LR = 3e-4\n",
    "BETAS = 0.9, 0.999\n",
    "LOGS_DIR = \"./attack_gan_logdir\"\n",
    "DEVICE='cpu'\n",
    "LAMBDA = 0.5"
   ]
  },
  {
   "cell_type": "code",
   "execution_count": 3,
   "metadata": {
    "colab": {
     "base_uri": "https://localhost:8080/"
    },
    "id": "XYOGsn2rj9xv",
    "outputId": "49e9b3ac-5c3f-40ba-9cce-efa581c0b5be",
    "pycharm": {
     "name": "#%%\n"
    }
   },
   "outputs": [],
   "source": [
    "train_data = torchvision.datasets.MNIST(\"./../data/mnist\", download=True, train=True, transform=lambda x: torch.tensor(transform.resize(np.array(x), (10, 10))).unsqueeze(0).to(dtype=torch.float32))\n",
    "valid_data = torchvision.datasets.MNIST(\"./../data/mnist\", download=True, train=False, transform=lambda x: torch.tensor(transform.resize(np.array(x), (10, 10))).unsqueeze(0).to(dtype=torch.float32))"
   ]
  },
  {
   "cell_type": "code",
   "execution_count": 4,
   "metadata": {},
   "outputs": [
    {
     "data": {
      "application/vnd.jupyter.widget-view+json": {
       "model_id": "0fa23fc42e5944fa95a07a598434ba5b",
       "version_major": 2,
       "version_minor": 0
      },
      "text/plain": [
       "HBox(children=(HTML(value='1/3 * Epoch (train)'), FloatProgress(value=0.0, max=468.0), HTML(value='')))"
      ]
     },
     "metadata": {},
     "output_type": "display_data"
    },
    {
     "name": "stderr",
     "output_type": "stream",
     "text": [
      "c:\\users\\seray\\appdata\\local\\programs\\python\\python37\\lib\\site-packages\\catalyst\\core\\runner.py:567: UserWarning: To copy construct from a tensor, it is recommended to use sourceTensor.clone().detach() or sourceTensor.clone().detach().requires_grad_(True), rather than torch.tensor(sourceTensor).\n",
      "  for k, v in self.batch_metrics.items()\n"
     ]
    },
    {
     "name": "stdout",
     "output_type": "stream",
     "text": [
      "\r\n",
      "train (1/3) accuracy: 0.884231448173523 | accuracy/std: 0.11543679123056626 | accuracy01: 0.884231448173523 | accuracy01/std: 0.11543679123056626 | accuracy03: 0.9629406929016113 | accuracy03/std: 0.06754037069869209 | accuracy05: 0.9841579794883728 | accuracy05/std: 0.04076301812779023 | loss: 0.6482267379760742 | loss/mean: 0.6482267379760742 | loss/std: 0.4372152394135142 | lr: 0.0003 | momentum: 0.9\n"
     ]
    },
    {
     "data": {
      "application/vnd.jupyter.widget-view+json": {
       "model_id": "5edbe4e5cd294e93ae8090c5a243e96f",
       "version_major": 2,
       "version_minor": 0
      },
      "text/plain": [
       "HBox(children=(HTML(value='1/3 * Epoch (valid)'), FloatProgress(value=0.0, max=78.0), HTML(value='')))"
      ]
     },
     "metadata": {},
     "output_type": "display_data"
    },
    {
     "name": "stdout",
     "output_type": "stream",
     "text": [
      "\r\n",
      "valid (1/3) accuracy: 0.957932710647583 | accuracy/std: 0.030522644889817426 | accuracy01: 0.957932710647583 | accuracy01/std: 0.030522644889817426 | accuracy03: 0.9933894276618958 | accuracy03/std: 0.008674567084394782 | accuracy05: 0.9988982081413269 | accuracy05/std: 0.0034770481253021505 | loss: 0.2351805716753006 | loss/mean: 0.2351805716753006 | loss/std: 0.09770285679211647 | lr: 0.0003 | momentum: 0.9\n",
      "* Epoch (1/3) \n"
     ]
    },
    {
     "data": {
      "application/vnd.jupyter.widget-view+json": {
       "model_id": "cac966d63e084568a6c529d93fbd66eb",
       "version_major": 2,
       "version_minor": 0
      },
      "text/plain": [
       "HBox(children=(HTML(value='2/3 * Epoch (train)'), FloatProgress(value=0.0, max=468.0), HTML(value='')))"
      ]
     },
     "metadata": {},
     "output_type": "display_data"
    },
    {
     "name": "stdout",
     "output_type": "stream",
     "text": [
      "\r\n",
      "train (2/3) accuracy: 0.9614049196243286 | accuracy/std: 0.019938906988731474 | accuracy01: 0.9614049196243286 | accuracy01/std: 0.019938906988731474 | accuracy03: 0.9944244027137756 | accuracy03/std: 0.006980604602343799 | accuracy05: 0.9985476732254028 | accuracy05/std: 0.003516710014875033 | loss: 0.17868296802043915 | loss/mean: 0.17868296802043915 | loss/std: 0.058125541955656175 | lr: 0.0003 | momentum: 0.9\n"
     ]
    },
    {
     "data": {
      "application/vnd.jupyter.widget-view+json": {
       "model_id": "c40a85a2dfa34c6ea4560615c213f9dc",
       "version_major": 2,
       "version_minor": 0
      },
      "text/plain": [
       "HBox(children=(HTML(value='2/3 * Epoch (valid)'), FloatProgress(value=0.0, max=78.0), HTML(value='')))"
      ]
     },
     "metadata": {},
     "output_type": "display_data"
    },
    {
     "name": "stdout",
     "output_type": "stream",
     "text": [
      "\r\n",
      "valid (2/3) accuracy: 0.9676482081413269 | accuracy/std: 0.02526171357987263 | accuracy01: 0.9676482081413269 | accuracy01/std: 0.02526171357987263 | accuracy03: 0.9962940812110901 | accuracy03/std: 0.006467450684670552 | accuracy05: 0.9995993375778198 | accuracy05/std: 0.0017233085146153488 | loss: 0.13631899654865265 | loss/mean: 0.13631899654865265 | loss/std: 0.07301607759536155 | lr: 0.0003 | momentum: 0.9\n",
      "* Epoch (2/3) \n"
     ]
    },
    {
     "data": {
      "application/vnd.jupyter.widget-view+json": {
       "model_id": "f4ad9fd311554e77adffda6298ab6846",
       "version_major": 2,
       "version_minor": 0
      },
      "text/plain": [
       "HBox(children=(HTML(value='3/3 * Epoch (train)'), FloatProgress(value=0.0, max=468.0), HTML(value='')))"
      ]
     },
     "metadata": {},
     "output_type": "display_data"
    },
    {
     "name": "stdout",
     "output_type": "stream",
     "text": [
      "\r\n",
      "train (3/3) accuracy: 0.9697515964508057 | accuracy/std: 0.017920160278375927 | accuracy01: 0.9697515964508057 | accuracy01/std: 0.017920160278375927 | accuracy03: 0.9960770606994629 | accuracy03/std: 0.005811909182292895 | accuracy05: 0.9990317821502686 | accuracy05/std: 0.0028621469090646585 | loss: 0.12036766856908798 | loss/mean: 0.12036766856908798 | loss/std: 0.04679955124844169 | lr: 0.0003 | momentum: 0.9\n"
     ]
    },
    {
     "data": {
      "application/vnd.jupyter.widget-view+json": {
       "model_id": "a53096167e154e499bb1a2095befcf8e",
       "version_major": 2,
       "version_minor": 0
      },
      "text/plain": [
       "HBox(children=(HTML(value='3/3 * Epoch (valid)'), FloatProgress(value=0.0, max=78.0), HTML(value='')))"
      ]
     },
     "metadata": {},
     "output_type": "display_data"
    },
    {
     "name": "stdout",
     "output_type": "stream",
     "text": [
      "\r\n",
      "valid (3/3) accuracy: 0.9722555875778198 | accuracy/std: 0.02147488320397583 | accuracy01: 0.9722555875778198 | accuracy01/std: 0.02147488320397583 | accuracy03: 0.9984976053237915 | accuracy03/std: 0.003551279195365945 | accuracy05: 0.9996995329856873 | accuracy05/std: 0.0015024790923836488 | loss: 0.10029834508895874 | loss/mean: 0.10029834508895874 | loss/std: 0.060730404800402475 | lr: 0.0003 | momentum: 0.9\n",
      "* Epoch (3/3) \n",
      "Top best models:\n",
      "base_classifier_logdir\\checkpoints/train.3.pth\t0.9985\n"
     ]
    }
   ],
   "source": [
    "base_classifier = SimpleClassifier()\n",
    "\n",
    "base_classifier_runner = dl.SupervisedRunner(\n",
    "    input_key=\"features\", output_key=\"logits\", target_key=\"targets\", loss_key=\"loss\"\n",
    ")\n",
    "\n",
    "base_classifier_runner.train(\n",
    "    model=base_classifier,\n",
    "    criterion= torch.nn.CrossEntropyLoss(),\n",
    "    optimizer=torch.optim.Adam(base_classifier.parameters(), lr=LR, betas=BETAS),\n",
    "    loaders= {\n",
    "        \"train\": torch.utils.data.DataLoader(train_data, batch_size=BATCH_SIZE, drop_last=True),\n",
    "        'valid': torch.utils.data.DataLoader(valid_data, batch_size=BATCH_SIZE, drop_last=True)\n",
    "    },\n",
    "    logdir=\"./base_classifier_logdir\",\n",
    "    num_epochs=3,\n",
    "    valid_loader=\"valid\",\n",
    "    valid_metric=\"accuracy03\",\n",
    "    minimize_valid_metric=False,\n",
    "    verbose=True,\n",
    "    callbacks=[\n",
    "        dl.AccuracyCallback(input_key=\"logits\", target_key=\"targets\", num_classes=10)\n",
    "    ],\n",
    ")"
   ]
  },
  {
   "cell_type": "code",
   "execution_count": 5,
   "metadata": {},
   "outputs": [],
   "source": [
    "model = {\"generator\": Generator(), \n",
    "         \"discriminator\": Discriminator(), \n",
    "         'attacked_model': base_classifier.eval()}\n",
    "criterion = {\"generator_loss\": WGANGeneratorLoss(), #GeneratorLoss(BATCH_SIZE, DEVICE), \n",
    "             \"discriminator_loss\": WGANDiscriminatorLoss(LAMBDA, DEVICE), #DiscriminatorLoss(BATCH_SIZE, DEVICE), \n",
    "             \"attack_loss\": AttackLoss(),\n",
    "             \"hinge_loss\": HingeLoss(BATCH_SIZE, DEVICE)}\n",
    "optimizer = {\n",
    "    \"generator_optimizer\": torch.optim.Adam(model['generator'].parameters(), lr=LR, betas=BETAS),\n",
    "    \"discriminator_optimizer\": torch.optim.Adam(model['discriminator'].parameters(), lr=LR, betas=BETAS),\n",
    "}\n",
    "loaders = {\n",
    "    \"train\": torch.utils.data.DataLoader(valid_data, batch_size=BATCH_SIZE, drop_last=True),\n",
    "}"
   ]
  },
  {
   "cell_type": "code",
   "execution_count": 6,
   "metadata": {},
   "outputs": [],
   "source": [
    "runner = GANRunner(BATCH_SIZE, DEVICE)"
   ]
  },
  {
   "cell_type": "code",
   "execution_count": 7,
   "metadata": {},
   "outputs": [
    {
     "data": {
      "application/vnd.jupyter.widget-view+json": {
       "model_id": "2e3a3a0debba4b18ac669a4a9cbfa4b1",
       "version_major": 2,
       "version_minor": 0
      },
      "text/plain": [
       "HBox(children=(HTML(value='1/10 * Epoch (train)'), FloatProgress(value=0.0, max=78.0), HTML(value='')))"
      ]
     },
     "metadata": {},
     "output_type": "display_data"
    },
    {
     "name": "stdout",
     "output_type": "stream",
     "text": [
      "\r\n",
      "train (1/10) attack loss: -0.8201417326927185 | attack loss/mean: -0.8201417326927185 | attack loss/std: 0.11326456731672394 | discriminator loss: 0.1627044677734375 | discriminator loss/mean: 0.1627044677734375 | discriminator loss/std: 0.12471890430108083 | generator loss: -0.5908406376838684 | generator loss/mean: -0.5908406376838684 | generator loss/std: 0.0048453428365155685 | hinge loss: 2.6602442264556885 | hinge loss/mean: 2.6602442264556885 | hinge loss/std: 0.050686302289582694 | lr/discriminator_discriminator_optimizer: 0.0003 | lr/generator_generator_optimizer: 0.0003 | momentum/discriminator_discriminator_optimizer: 0.9 | momentum/generator_generator_optimizer: 0.9\n",
      "* Epoch (1/10) \n"
     ]
    },
    {
     "data": {
      "application/vnd.jupyter.widget-view+json": {
       "model_id": "e0f431139d914ef5ac8c08a4af3cb86c",
       "version_major": 2,
       "version_minor": 0
      },
      "text/plain": [
       "HBox(children=(HTML(value='2/10 * Epoch (train)'), FloatProgress(value=0.0, max=78.0), HTML(value='')))"
      ]
     },
     "metadata": {},
     "output_type": "display_data"
    },
    {
     "name": "stdout",
     "output_type": "stream",
     "text": [
      "\r\n",
      "train (2/10) attack loss: -0.9295369982719421 | attack loss/mean: -0.9295369982719421 | attack loss/std: 0.1155677359441745 | discriminator loss: 0.018984774127602577 | discriminator loss/mean: 0.018984774127602577 | discriminator loss/std: 0.015040848735300294 | generator loss: -0.6020131707191467 | generator loss/mean: -0.6020131707191467 | generator loss/std: 0.0022871530691166795 | hinge loss: 2.7800064086914062 | hinge loss/mean: 2.7800064086914062 | hinge loss/std: 0.023385983798113755 | lr/discriminator_discriminator_optimizer: 0.0003 | lr/generator_generator_optimizer: 0.0003 | momentum/discriminator_discriminator_optimizer: 0.9 | momentum/generator_generator_optimizer: 0.9\n",
      "* Epoch (2/10) \n"
     ]
    },
    {
     "data": {
      "application/vnd.jupyter.widget-view+json": {
       "model_id": "baf2743bd9444e80814a8ff8c14cfb0e",
       "version_major": 2,
       "version_minor": 0
      },
      "text/plain": [
       "HBox(children=(HTML(value='3/10 * Epoch (train)'), FloatProgress(value=0.0, max=78.0), HTML(value='')))"
      ]
     },
     "metadata": {},
     "output_type": "display_data"
    },
    {
     "name": "stdout",
     "output_type": "stream",
     "text": [
      "\r\n",
      "train (3/10) attack loss: -0.950262188911438 | attack loss/mean: -0.950262188911438 | attack loss/std: 0.11641701844842005 | discriminator loss: -0.0034749426413327456 | discriminator loss/mean: -0.0034749426413327456 | discriminator loss/std: 0.009445952780485762 | generator loss: -0.6087954044342041 | generator loss/mean: -0.6087954044342041 | generator loss/std: 0.0013550031934217962 | hinge loss: 2.8102519512176514 | hinge loss/mean: 2.8102519512176514 | hinge loss/std: 0.006156360874817521 | lr/discriminator_discriminator_optimizer: 0.0003 | lr/generator_generator_optimizer: 0.0003 | momentum/discriminator_discriminator_optimizer: 0.9 | momentum/generator_generator_optimizer: 0.9\n",
      "* Epoch (3/10) \n"
     ]
    },
    {
     "data": {
      "application/vnd.jupyter.widget-view+json": {
       "model_id": "0c076857d7c94c1ab71621c70b396cfe",
       "version_major": 2,
       "version_minor": 0
      },
      "text/plain": [
       "HBox(children=(HTML(value='4/10 * Epoch (train)'), FloatProgress(value=0.0, max=78.0), HTML(value='')))"
      ]
     },
     "metadata": {},
     "output_type": "display_data"
    },
    {
     "name": "stdout",
     "output_type": "stream",
     "text": [
      "\r\n",
      "train (4/10) attack loss: -0.9943538904190063 | attack loss/mean: -0.9943538904190063 | attack loss/std: 0.12117541037320277 | discriminator loss: -0.021976929157972336 | discriminator loss/mean: -0.021976929157972336 | discriminator loss/std: 0.008171182169296113 | generator loss: -0.6143203377723694 | generator loss/mean: -0.6143203377723694 | generator loss/std: 0.0015795893278871438 | hinge loss: 2.8376615047454834 | hinge loss/mean: 2.8376615047454834 | hinge loss/std: 0.009313396791474537 | lr/discriminator_discriminator_optimizer: 0.0003 | lr/generator_generator_optimizer: 0.0003 | momentum/discriminator_discriminator_optimizer: 0.9 | momentum/generator_generator_optimizer: 0.9\n",
      "* Epoch (4/10) \n"
     ]
    },
    {
     "data": {
      "application/vnd.jupyter.widget-view+json": {
       "model_id": "10e48f80b10442528c9113cff16a2db6",
       "version_major": 2,
       "version_minor": 0
      },
      "text/plain": [
       "HBox(children=(HTML(value='5/10 * Epoch (train)'), FloatProgress(value=0.0, max=78.0), HTML(value='')))"
      ]
     },
     "metadata": {},
     "output_type": "display_data"
    },
    {
     "name": "stdout",
     "output_type": "stream",
     "text": [
      "\r\n",
      "train (5/10) attack loss: -0.9980373978614807 | attack loss/mean: -0.9980373978614807 | attack loss/std: 0.12206835284309084 | discriminator loss: -0.03613972291350365 | discriminator loss/mean: -0.03613972291350365 | discriminator loss/std: 0.005901338951422717 | generator loss: -0.6194935441017151 | generator loss/mean: -0.6194935441017151 | generator loss/std: 0.0014292800010817178 | hinge loss: 2.851848602294922 | hinge loss/mean: 2.851848602294922 | hinge loss/std: 0.006354094198477226 | lr/discriminator_discriminator_optimizer: 0.0003 | lr/generator_generator_optimizer: 0.0003 | momentum/discriminator_discriminator_optimizer: 0.9 | momentum/generator_generator_optimizer: 0.9\n",
      "* Epoch (5/10) \n"
     ]
    },
    {
     "data": {
      "application/vnd.jupyter.widget-view+json": {
       "model_id": "4393f9dba8594fc8a79a1e156763f28b",
       "version_major": 2,
       "version_minor": 0
      },
      "text/plain": [
       "HBox(children=(HTML(value='6/10 * Epoch (train)'), FloatProgress(value=0.0, max=78.0), HTML(value='')))"
      ]
     },
     "metadata": {},
     "output_type": "display_data"
    },
    {
     "name": "stdout",
     "output_type": "stream",
     "text": [
      "\r\n",
      "train (6/10) attack loss: -1.0020482540130615 | attack loss/mean: -1.0020482540130615 | attack loss/std: 0.12265669900396094 | discriminator loss: -0.041414547711610794 | discriminator loss/mean: -0.041414547711610794 | discriminator loss/std: 0.005135689007305568 | generator loss: -0.6243388652801514 | generator loss/mean: -0.6243388652801514 | generator loss/std: 0.0012906973455176246 | hinge loss: 2.859142780303955 | hinge loss/mean: 2.859142780303955 | hinge loss/std: 0.00600947364630523 | lr/discriminator_discriminator_optimizer: 0.0003 | lr/generator_generator_optimizer: 0.0003 | momentum/discriminator_discriminator_optimizer: 0.9 | momentum/generator_generator_optimizer: 0.9\n",
      "* Epoch (6/10) \n"
     ]
    },
    {
     "data": {
      "application/vnd.jupyter.widget-view+json": {
       "model_id": "70de34d956cd4684831f09a5ee4c8847",
       "version_major": 2,
       "version_minor": 0
      },
      "text/plain": [
       "HBox(children=(HTML(value='7/10 * Epoch (train)'), FloatProgress(value=0.0, max=78.0), HTML(value='')))"
      ]
     },
     "metadata": {},
     "output_type": "display_data"
    },
    {
     "name": "stdout",
     "output_type": "stream",
     "text": [
      "\r\n",
      "train (7/10) attack loss: -0.9998267889022827 | attack loss/mean: -0.9998267889022827 | attack loss/std: 0.12232102089457646 | discriminator loss: -0.04927128553390503 | discriminator loss/mean: -0.04927128553390503 | discriminator loss/std: 0.008300009194175876 | generator loss: -0.6293064951896667 | generator loss/mean: -0.6293064951896667 | generator loss/std: 0.001314866395239206 | hinge loss: 2.862478256225586 | hinge loss/mean: 2.862478256225586 | hinge loss/std: 0.005204806920914601 | lr/discriminator_discriminator_optimizer: 0.0003 | lr/generator_generator_optimizer: 0.0003 | momentum/discriminator_discriminator_optimizer: 0.9 | momentum/generator_generator_optimizer: 0.9\n",
      "* Epoch (7/10) \n"
     ]
    },
    {
     "data": {
      "application/vnd.jupyter.widget-view+json": {
       "model_id": "f543af71244d4e309cc31ac4a3acac04",
       "version_major": 2,
       "version_minor": 0
      },
      "text/plain": [
       "HBox(children=(HTML(value='8/10 * Epoch (train)'), FloatProgress(value=0.0, max=78.0), HTML(value='')))"
      ]
     },
     "metadata": {},
     "output_type": "display_data"
    },
    {
     "name": "stdout",
     "output_type": "stream",
     "text": [
      "\r\n",
      "train (8/10) attack loss: -1.0027170181274414 | attack loss/mean: -1.0027170181274414 | attack loss/std: 0.12342567970505763 | discriminator loss: -0.05640452727675438 | discriminator loss/mean: -0.05640452727675438 | discriminator loss/std: 0.005625442761303584 | generator loss: -0.634095311164856 | generator loss/mean: -0.634095311164856 | generator loss/std: 0.0013091753353195608 | hinge loss: 2.8639113903045654 | hinge loss/mean: 2.8639113903045654 | hinge loss/std: 0.005726326602669584 | lr/discriminator_discriminator_optimizer: 0.0003 | lr/generator_generator_optimizer: 0.0003 | momentum/discriminator_discriminator_optimizer: 0.9 | momentum/generator_generator_optimizer: 0.9\n",
      "* Epoch (8/10) \n"
     ]
    },
    {
     "data": {
      "application/vnd.jupyter.widget-view+json": {
       "model_id": "086d6fc9efea4378903e694411c49ebc",
       "version_major": 2,
       "version_minor": 0
      },
      "text/plain": [
       "HBox(children=(HTML(value='9/10 * Epoch (train)'), FloatProgress(value=0.0, max=78.0), HTML(value='')))"
      ]
     },
     "metadata": {},
     "output_type": "display_data"
    },
    {
     "name": "stdout",
     "output_type": "stream",
     "text": [
      "\r\n",
      "train (9/10) attack loss: -1.0013108253479004 | attack loss/mean: -1.0013108253479004 | attack loss/std: 0.12207274428029971 | discriminator loss: -0.05834968388080597 | discriminator loss/mean: -0.05834968388080597 | discriminator loss/std: 0.008072109633784326 | generator loss: -0.6386967897415161 | generator loss/mean: -0.6386967897415161 | generator loss/std: 0.0012322442005172833 | hinge loss: 2.865696668624878 | hinge loss/mean: 2.865696668624878 | hinge loss/std: 0.006445761302798942 | lr/discriminator_discriminator_optimizer: 0.0003 | lr/generator_generator_optimizer: 0.0003 | momentum/discriminator_discriminator_optimizer: 0.9 | momentum/generator_generator_optimizer: 0.9\n",
      "* Epoch (9/10) \n"
     ]
    },
    {
     "data": {
      "application/vnd.jupyter.widget-view+json": {
       "model_id": "95d01d3d2f5e4367a96ff058acf46252",
       "version_major": 2,
       "version_minor": 0
      },
      "text/plain": [
       "HBox(children=(HTML(value='10/10 * Epoch (train)'), FloatProgress(value=0.0, max=78.0), HTML(value='')))"
      ]
     },
     "metadata": {},
     "output_type": "display_data"
    },
    {
     "name": "stdout",
     "output_type": "stream",
     "text": [
      "\r\n",
      "train (10/10) attack loss: -1.004150152206421 | attack loss/mean: -1.004150152206421 | attack loss/std: 0.12246371470810388 | discriminator loss: -0.06020016968250275 | discriminator loss/mean: -0.06020016968250275 | discriminator loss/std: 0.01119550321343003 | generator loss: -0.6430844664573669 | generator loss/mean: -0.6430844664573669 | generator loss/std: 0.0013806288134593937 | hinge loss: 2.867422342300415 | hinge loss/mean: 2.867422342300415 | hinge loss/std: 0.006119221535748031 | lr/discriminator_discriminator_optimizer: 0.0003 | lr/generator_generator_optimizer: 0.0003 | momentum/discriminator_discriminator_optimizer: 0.9 | momentum/generator_generator_optimizer: 0.9\n",
      "* Epoch (10/10) \n"
     ]
    }
   ],
   "source": [
    "runner.train(\n",
    "    model=model,\n",
    "    criterion=criterion,\n",
    "    optimizer=optimizer,\n",
    "    loaders=loaders,\n",
    "    num_epochs=10,\n",
    "    verbose=True,\n",
    "    logdir=LOGS_DIR,\n",
    ")"
   ]
  },
  {
   "cell_type": "code",
   "execution_count": 8,
   "metadata": {},
   "outputs": [],
   "source": [
    "attacked_model = model['attacked_model']\n",
    "generator_model = model['generator']"
   ]
  },
  {
   "cell_type": "code",
   "execution_count": 9,
   "metadata": {},
   "outputs": [],
   "source": [
    "val_batch = iter(torch.utils.data.DataLoader(valid_data, batch_size=BATCH_SIZE, drop_last=True)).next()"
   ]
  },
  {
   "cell_type": "code",
   "execution_count": 18,
   "metadata": {},
   "outputs": [
    {
     "data": {
      "text/plain": [
       "Text(0.5, 1.0, 'Fake: Prediction: 3, confidence: 0.3862351179122925')"
      ]
     },
     "execution_count": 18,
     "metadata": {},
     "output_type": "execute_result"
    },
    {
     "data": {
      "image/png": "[encoded data removed]",
      "text/plain": [
       "<Figure size 216x216 with 1 Axes>"
      ]
     },
     "metadata": {
      "needs_background": "light"
     },
     "output_type": "display_data"
    },
    {
     "data": {
      "image/png": "[encoded data removed]",
      "text/plain": [
       "<Figure size 216x216 with 1 Axes>"
      ]
     },
     "metadata": {
      "needs_background": "light"
     },
     "output_type": "display_data"
    }
   ],
   "source": [
    "test_img = val_batch[0].float()[15:16]\n",
    "true_confs = F.softmax(attacked_model(test_img), -1).cpu().detach().numpy()[0]\n",
    "fake_confs = F.softmax(attacked_model(test_img + generator_model(test_img)), -1).cpu().detach().numpy()[0]\n",
    "\n",
    "plt.figure(figsize=(3,3))\n",
    "plt.imshow(test_img[0, 0] * 127.5 + 127.5, cmap='gray')\n",
    "plt.title(\"Truth: Prediction: {}, confidence: {}\".format(np.argmax(true_confs), true_confs.max()))\n",
    "\n",
    "plt.figure(figsize=(3,3))\n",
    "plt.imshow((test_img + generator_model(test_img).cpu().detach().numpy())[0,  0] * 127.5 + 127.5, cmap='gray')\n",
    "plt.title(\"Fake: Prediction: {}, confidence: {}\".format(np.argmax(fake_confs), fake_confs.max()))"
   ]
  },
  {
   "cell_type": "code",
   "execution_count": 19,
   "metadata": {},
   "outputs": [
    {
     "data": {
      "text/plain": [
       "<matplotlib.image.AxesImage at 0x2d98023a188>"
      ]
     },
     "execution_count": 19,
     "metadata": {},
     "output_type": "execute_result"
    },
    {
     "data": {
      "image/png": "[encoded data removed]",
      "text/plain": [
       "<Figure size 216x216 with 1 Axes>"
      ]
     },
     "metadata": {
      "needs_background": "light"
     },
     "output_type": "display_data"
    }
   ],
   "source": [
    "plt.figure(figsize=(3,3))\n",
    "plt.imshow(test_img[0, 0] * 127.5 + 127.5, cmap='gray')"
   ]
  },
  {
   "cell_type": "code",
   "execution_count": null,
   "outputs": [],
   "source": [
    "runner."
   ],
   "metadata": {
    "collapsed": false,
    "pycharm": {
     "name": "#%%\n"
    }
   }
  },
  {
   "cell_type": "code",
   "execution_count": 25,
   "metadata": {},
   "outputs": [
    {
     "ename": "AttributeError",
     "evalue": "'GANRunner' object has no attribute 'metrics'",
     "output_type": "error",
     "traceback": [
      "\u001B[1;31m---------------------------------------------------------------------------\u001B[0m",
      "\u001B[1;31mAttributeError\u001B[0m                            Traceback (most recent call last)",
      "\u001B[1;32m<ipython-input-25-d8d1f9537bcc>\u001B[0m in \u001B[0;36m<module>\u001B[1;34m\u001B[0m\n\u001B[1;32m----> 1\u001B[1;33m \u001B[0mrunner\u001B[0m\u001B[1;33m.\u001B[0m\u001B[0mmetrics\u001B[0m\u001B[1;33m\u001B[0m\u001B[1;33m\u001B[0m\u001B[0m\n\u001B[0m",
      "\u001B[1;31mAttributeError\u001B[0m: 'GANRunner' object has no attribute 'metrics'"
     ]
    }
   ],
   "source": [
    "results = pd.read_csv('./{}/train.csv'.format(LOGS_DIR), error_bad_lines=False, delimiter=',').loc[11:].drop(columns=['step']).astype(np.float64)\n",
    "results"
   ]
  },
  {
   "cell_type": "code",
   "execution_count": 20,
   "metadata": {},
   "outputs": [
    {
     "data": {
      "text/html": [
       "<div>\n",
       "<style scoped>\n",
       "    .dataframe tbody tr th:only-of-type {\n",
       "        vertical-align: middle;\n",
       "    }\n",
       "\n",
       "    .dataframe tbody tr th {\n",
       "        vertical-align: top;\n",
       "    }\n",
       "\n",
       "    .dataframe thead th {\n",
       "        text-align: right;\n",
       "    }\n",
       "</style>\n",
       "<table border=\"1\" class=\"dataframe\">\n",
       "  <thead>\n",
       "    <tr style=\"text-align: right;\">\n",
       "      <th></th>\n",
       "      <th>attack loss</th>\n",
       "      <th>attack loss/mean</th>\n",
       "      <th>attack loss/std</th>\n",
       "      <th>discriminator loss</th>\n",
       "      <th>discriminator loss/mean</th>\n",
       "      <th>discriminator loss/std</th>\n",
       "      <th>generator loss</th>\n",
       "      <th>generator loss/mean</th>\n",
       "      <th>generator loss/std</th>\n",
       "      <th>hinge loss</th>\n",
       "      <th>hinge loss/mean</th>\n",
       "      <th>hinge loss/std</th>\n",
       "      <th>lr/discriminator_discriminator_optimizer</th>\n",
       "      <th>lr/generator_generator_optimizer</th>\n",
       "      <th>momentum/discriminator_discriminator_optimizer</th>\n",
       "      <th>momentum/generator_generator_optimizer</th>\n",
       "    </tr>\n",
       "  </thead>\n",
       "  <tbody>\n",
       "    <tr>\n",
       "      <th>11</th>\n",
       "      <td>-0.820142</td>\n",
       "      <td>-0.820142</td>\n",
       "      <td>0.113265</td>\n",
       "      <td>0.162704</td>\n",
       "      <td>0.162704</td>\n",
       "      <td>0.124719</td>\n",
       "      <td>-0.590841</td>\n",
       "      <td>-0.590841</td>\n",
       "      <td>0.004845</td>\n",
       "      <td>2.660244</td>\n",
       "      <td>2.660244</td>\n",
       "      <td>0.050686</td>\n",
       "      <td>0.0003</td>\n",
       "      <td>0.0003</td>\n",
       "      <td>0.9</td>\n",
       "      <td>0.9</td>\n",
       "    </tr>\n",
       "    <tr>\n",
       "      <th>12</th>\n",
       "      <td>-0.929537</td>\n",
       "      <td>-0.929537</td>\n",
       "      <td>0.115568</td>\n",
       "      <td>0.018985</td>\n",
       "      <td>0.018985</td>\n",
       "      <td>0.015041</td>\n",
       "      <td>-0.602013</td>\n",
       "      <td>-0.602013</td>\n",
       "      <td>0.002287</td>\n",
       "      <td>2.780006</td>\n",
       "      <td>2.780006</td>\n",
       "      <td>0.023386</td>\n",
       "      <td>0.0003</td>\n",
       "      <td>0.0003</td>\n",
       "      <td>0.9</td>\n",
       "      <td>0.9</td>\n",
       "    </tr>\n",
       "    <tr>\n",
       "      <th>13</th>\n",
       "      <td>-0.950262</td>\n",
       "      <td>-0.950262</td>\n",
       "      <td>0.116417</td>\n",
       "      <td>-0.003475</td>\n",
       "      <td>-0.003475</td>\n",
       "      <td>0.009446</td>\n",
       "      <td>-0.608795</td>\n",
       "      <td>-0.608795</td>\n",
       "      <td>0.001355</td>\n",
       "      <td>2.810252</td>\n",
       "      <td>2.810252</td>\n",
       "      <td>0.006156</td>\n",
       "      <td>0.0003</td>\n",
       "      <td>0.0003</td>\n",
       "      <td>0.9</td>\n",
       "      <td>0.9</td>\n",
       "    </tr>\n",
       "    <tr>\n",
       "      <th>14</th>\n",
       "      <td>-0.994354</td>\n",
       "      <td>-0.994354</td>\n",
       "      <td>0.121175</td>\n",
       "      <td>-0.021977</td>\n",
       "      <td>-0.021977</td>\n",
       "      <td>0.008171</td>\n",
       "      <td>-0.614320</td>\n",
       "      <td>-0.614320</td>\n",
       "      <td>0.001580</td>\n",
       "      <td>2.837662</td>\n",
       "      <td>2.837662</td>\n",
       "      <td>0.009313</td>\n",
       "      <td>0.0003</td>\n",
       "      <td>0.0003</td>\n",
       "      <td>0.9</td>\n",
       "      <td>0.9</td>\n",
       "    </tr>\n",
       "    <tr>\n",
       "      <th>15</th>\n",
       "      <td>-0.998037</td>\n",
       "      <td>-0.998037</td>\n",
       "      <td>0.122068</td>\n",
       "      <td>-0.036140</td>\n",
       "      <td>-0.036140</td>\n",
       "      <td>0.005901</td>\n",
       "      <td>-0.619494</td>\n",
       "      <td>-0.619494</td>\n",
       "      <td>0.001429</td>\n",
       "      <td>2.851849</td>\n",
       "      <td>2.851849</td>\n",
       "      <td>0.006354</td>\n",
       "      <td>0.0003</td>\n",
       "      <td>0.0003</td>\n",
       "      <td>0.9</td>\n",
       "      <td>0.9</td>\n",
       "    </tr>\n",
       "    <tr>\n",
       "      <th>16</th>\n",
       "      <td>-1.002048</td>\n",
       "      <td>-1.002048</td>\n",
       "      <td>0.122657</td>\n",
       "      <td>-0.041415</td>\n",
       "      <td>-0.041415</td>\n",
       "      <td>0.005136</td>\n",
       "      <td>-0.624339</td>\n",
       "      <td>-0.624339</td>\n",
       "      <td>0.001291</td>\n",
       "      <td>2.859143</td>\n",
       "      <td>2.859143</td>\n",
       "      <td>0.006009</td>\n",
       "      <td>0.0003</td>\n",
       "      <td>0.0003</td>\n",
       "      <td>0.9</td>\n",
       "      <td>0.9</td>\n",
       "    </tr>\n",
       "    <tr>\n",
       "      <th>17</th>\n",
       "      <td>-0.999827</td>\n",
       "      <td>-0.999827</td>\n",
       "      <td>0.122321</td>\n",
       "      <td>-0.049271</td>\n",
       "      <td>-0.049271</td>\n",
       "      <td>0.008300</td>\n",
       "      <td>-0.629306</td>\n",
       "      <td>-0.629306</td>\n",
       "      <td>0.001315</td>\n",
       "      <td>2.862478</td>\n",
       "      <td>2.862478</td>\n",
       "      <td>0.005205</td>\n",
       "      <td>0.0003</td>\n",
       "      <td>0.0003</td>\n",
       "      <td>0.9</td>\n",
       "      <td>0.9</td>\n",
       "    </tr>\n",
       "    <tr>\n",
       "      <th>18</th>\n",
       "      <td>-1.002717</td>\n",
       "      <td>-1.002717</td>\n",
       "      <td>0.123426</td>\n",
       "      <td>-0.056405</td>\n",
       "      <td>-0.056405</td>\n",
       "      <td>0.005625</td>\n",
       "      <td>-0.634095</td>\n",
       "      <td>-0.634095</td>\n",
       "      <td>0.001309</td>\n",
       "      <td>2.863911</td>\n",
       "      <td>2.863911</td>\n",
       "      <td>0.005726</td>\n",
       "      <td>0.0003</td>\n",
       "      <td>0.0003</td>\n",
       "      <td>0.9</td>\n",
       "      <td>0.9</td>\n",
       "    </tr>\n",
       "    <tr>\n",
       "      <th>19</th>\n",
       "      <td>-1.001311</td>\n",
       "      <td>-1.001311</td>\n",
       "      <td>0.122073</td>\n",
       "      <td>-0.058350</td>\n",
       "      <td>-0.058350</td>\n",
       "      <td>0.008072</td>\n",
       "      <td>-0.638697</td>\n",
       "      <td>-0.638697</td>\n",
       "      <td>0.001232</td>\n",
       "      <td>2.865697</td>\n",
       "      <td>2.865697</td>\n",
       "      <td>0.006446</td>\n",
       "      <td>0.0003</td>\n",
       "      <td>0.0003</td>\n",
       "      <td>0.9</td>\n",
       "      <td>0.9</td>\n",
       "    </tr>\n",
       "    <tr>\n",
       "      <th>20</th>\n",
       "      <td>-1.004150</td>\n",
       "      <td>-1.004150</td>\n",
       "      <td>0.122464</td>\n",
       "      <td>-0.060200</td>\n",
       "      <td>-0.060200</td>\n",
       "      <td>0.011196</td>\n",
       "      <td>-0.643084</td>\n",
       "      <td>-0.643084</td>\n",
       "      <td>0.001381</td>\n",
       "      <td>2.867422</td>\n",
       "      <td>2.867422</td>\n",
       "      <td>0.006119</td>\n",
       "      <td>0.0003</td>\n",
       "      <td>0.0003</td>\n",
       "      <td>0.9</td>\n",
       "      <td>0.9</td>\n",
       "    </tr>\n",
       "  </tbody>\n",
       "</table>\n",
       "</div>"
      ],
      "text/plain": [
       "    attack loss  attack loss/mean  attack loss/std  discriminator loss  \\\n",
       "11    -0.820142         -0.820142         0.113265            0.162704   \n",
       "12    -0.929537         -0.929537         0.115568            0.018985   \n",
       "13    -0.950262         -0.950262         0.116417           -0.003475   \n",
       "14    -0.994354         -0.994354         0.121175           -0.021977   \n",
       "15    -0.998037         -0.998037         0.122068           -0.036140   \n",
       "16    -1.002048         -1.002048         0.122657           -0.041415   \n",
       "17    -0.999827         -0.999827         0.122321           -0.049271   \n",
       "18    -1.002717         -1.002717         0.123426           -0.056405   \n",
       "19    -1.001311         -1.001311         0.122073           -0.058350   \n",
       "20    -1.004150         -1.004150         0.122464           -0.060200   \n",
       "\n",
       "    discriminator loss/mean  discriminator loss/std  generator loss  \\\n",
       "11                 0.162704                0.124719       -0.590841   \n",
       "12                 0.018985                0.015041       -0.602013   \n",
       "13                -0.003475                0.009446       -0.608795   \n",
       "14                -0.021977                0.008171       -0.614320   \n",
       "15                -0.036140                0.005901       -0.619494   \n",
       "16                -0.041415                0.005136       -0.624339   \n",
       "17                -0.049271                0.008300       -0.629306   \n",
       "18                -0.056405                0.005625       -0.634095   \n",
       "19                -0.058350                0.008072       -0.638697   \n",
       "20                -0.060200                0.011196       -0.643084   \n",
       "\n",
       "    generator loss/mean  generator loss/std  hinge loss  hinge loss/mean  \\\n",
       "11            -0.590841            0.004845    2.660244         2.660244   \n",
       "12            -0.602013            0.002287    2.780006         2.780006   \n",
       "13            -0.608795            0.001355    2.810252         2.810252   \n",
       "14            -0.614320            0.001580    2.837662         2.837662   \n",
       "15            -0.619494            0.001429    2.851849         2.851849   \n",
       "16            -0.624339            0.001291    2.859143         2.859143   \n",
       "17            -0.629306            0.001315    2.862478         2.862478   \n",
       "18            -0.634095            0.001309    2.863911         2.863911   \n",
       "19            -0.638697            0.001232    2.865697         2.865697   \n",
       "20            -0.643084            0.001381    2.867422         2.867422   \n",
       "\n",
       "    hinge loss/std  lr/discriminator_discriminator_optimizer  \\\n",
       "11        0.050686                                    0.0003   \n",
       "12        0.023386                                    0.0003   \n",
       "13        0.006156                                    0.0003   \n",
       "14        0.009313                                    0.0003   \n",
       "15        0.006354                                    0.0003   \n",
       "16        0.006009                                    0.0003   \n",
       "17        0.005205                                    0.0003   \n",
       "18        0.005726                                    0.0003   \n",
       "19        0.006446                                    0.0003   \n",
       "20        0.006119                                    0.0003   \n",
       "\n",
       "    lr/generator_generator_optimizer  \\\n",
       "11                            0.0003   \n",
       "12                            0.0003   \n",
       "13                            0.0003   \n",
       "14                            0.0003   \n",
       "15                            0.0003   \n",
       "16                            0.0003   \n",
       "17                            0.0003   \n",
       "18                            0.0003   \n",
       "19                            0.0003   \n",
       "20                            0.0003   \n",
       "\n",
       "    momentum/discriminator_discriminator_optimizer  \\\n",
       "11                                             0.9   \n",
       "12                                             0.9   \n",
       "13                                             0.9   \n",
       "14                                             0.9   \n",
       "15                                             0.9   \n",
       "16                                             0.9   \n",
       "17                                             0.9   \n",
       "18                                             0.9   \n",
       "19                                             0.9   \n",
       "20                                             0.9   \n",
       "\n",
       "    momentum/generator_generator_optimizer  \n",
       "11                                     0.9  \n",
       "12                                     0.9  \n",
       "13                                     0.9  \n",
       "14                                     0.9  \n",
       "15                                     0.9  \n",
       "16                                     0.9  \n",
       "17                                     0.9  \n",
       "18                                     0.9  \n",
       "19                                     0.9  \n",
       "20                                     0.9  "
      ]
     },
     "execution_count": 20,
     "metadata": {},
     "output_type": "execute_result"
    }
   ],
   "source": [
    "results = pd.read_csv('./{}/train.csv'.format(LOGS_DIR), error_bad_lines=False, delimiter=',').loc[11:].drop(columns=['step']).astype(np.float64)\n",
    "results"
   ]
  },
  {
   "cell_type": "code",
   "execution_count": 21,
   "metadata": {},
   "outputs": [
    {
     "data": {
      "text/plain": [
       "<AxesSubplot:>"
      ]
     },
     "execution_count": 21,
     "metadata": {},
     "output_type": "execute_result"
    },
    {
     "data": {
      "image/png": "[encoded data removed]",
      "text/plain": [
       "<Figure size 1440x720 with 1 Axes>"
      ]
     },
     "metadata": {
      "needs_background": "light"
     },
     "output_type": "display_data"
    }
   ],
   "source": [
    "results.plot(figsize=(20, 10))"
   ]
  },
  {
   "cell_type": "code",
   "execution_count": 22,
   "metadata": {
    "pycharm": {
     "name": "#%%\n"
    }
   },
   "outputs": [
    {
     "data": {
      "text/plain": [
       "<AxesSubplot:>"
      ]
     },
     "execution_count": 22,
     "metadata": {},
     "output_type": "execute_result"
    },
    {
     "data": {
      "image/png": "[encoded data removed]",
      "text/plain": [
       "<Figure size 720x360 with 1 Axes>"
      ]
     },
     "metadata": {
      "needs_background": "light"
     },
     "output_type": "display_data"
    }
   ],
   "source": [
    "results[['generator loss', 'discriminator loss']].plot(figsize=(10, 5))"
   ]
  }
 ],
 "metadata": {
  "accelerator": "GPU",
  "colab": {
   "collapsed_sections": [],
   "name": "main.ipynb",
   "provenance": []
  },
  "kernelspec": {
   "display_name": "Python 3",
   "language": "python",
   "name": "python3"
  },
  "language_info": {
   "codemirror_mode": {
    "name": "ipython",
    "version": 3
   },
   "file_extension": ".py",
   "mimetype": "text/x-python",
   "name": "python",
   "nbconvert_exporter": "python",
   "pygments_lexer": "ipython3",
   "version": "3.7.9"
  }
 },
 "nbformat": 4,
 "nbformat_minor": 1
}