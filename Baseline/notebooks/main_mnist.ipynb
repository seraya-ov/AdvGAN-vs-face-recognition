{
 "cells": [
  {
   "cell_type": "code",
   "execution_count": 8,
   "metadata": {
    "id": "cTrN0E3pj9xd",
    "pycharm": {
     "is_executing": true,
     "name": "#%%\n"
    }
   },
   "outputs": [],
   "source": [
    "import torch\n",
    "import torchvision\n",
    "from torchvision import transforms\n",
    "from skimage import io, transform\n",
    "from torch import nn\n",
    "\n",
    "import json\n",
    "\n",
    "import numpy as np\n",
    "\n",
    "from training.losses import *\n",
    "from training.train import *\n",
    "from training.plots import *\n",
    "from models.gan import *\n",
    "from models.classifier import *\n",
    "\n",
    "import matplotlib.pyplot as plt\n",
    "from PIL import Image"
   ]
  },
  {
   "cell_type": "code",
   "execution_count": 9,
   "metadata": {
    "id": "VFtrr2XNj9xr"
   },
   "outputs": [],
   "source": [
    "BATCH_SIZE = 128\n",
    "LR = 3e-4\n",
    "BETAS = 0.9, 0.999"
   ]
  },
  {
   "cell_type": "code",
   "execution_count": 10,
   "metadata": {
    "colab": {
     "base_uri": "https://localhost:8080/"
    },
    "id": "XYOGsn2rj9xv",
    "outputId": "49e9b3ac-5c3f-40ba-9cce-efa581c0b5be",
    "pycharm": {
     "name": "#%%\n"
    }
   },
   "outputs": [],
   "source": [
    "data = torchvision.datasets.MNIST(\"./../data/mnist\", download=True, train=True, transform=lambda x: torch.tensor(transform.resize(np.array(x), (10, 10))).unsqueeze(0))\n",
    "train_data = torch.utils.data.DataLoader(data, batch_size=BATCH_SIZE, drop_last=True)"
   ]
  },
  {
   "cell_type": "code",
   "execution_count": 11,
   "metadata": {},
   "outputs": [],
   "source": [
    "base_classifier = SimpleClassifier()"
   ]
  },
  {
   "cell_type": "code",
   "execution_count": 12,
   "metadata": {},
   "outputs": [],
   "source": [
    "optimizer = torch.optim.Adam(base_classifier.parameters(), lr=LR, betas=BETAS)\n",
    "criterion = nn.CrossEntropyLoss()"
   ]
  },
  {
   "cell_type": "code",
   "execution_count": 13,
   "metadata": {},
   "outputs": [],
   "source": [
    "base_classifier_trainer = BaseClassifierTrainer(base_classifier, criterion, optimizer, 'cpu')"
   ]
  },
  {
   "cell_type": "code",
   "execution_count": 14,
   "metadata": {},
   "outputs": [
    {
     "name": "stdout",
     "output_type": "stream",
     "text": [
      "Epoch: 0, Loss: 0.5637274754002818\n",
      "Epoch: 1, Loss: 0.15635639173973703\n",
      "Epoch: 2, Loss: 0.10407656707808885\n",
      "Epoch: 3, Loss: 0.08150055658064273\n",
      "Epoch: 4, Loss: 0.06885788896475306\n",
      "Epoch: 5, Loss: 0.059589179508829825\n",
      "Epoch: 6, Loss: 0.05259103921508719\n",
      "Epoch: 7, Loss: 0.04770203770892535\n",
      "Epoch: 8, Loss: 0.043947379370458804\n",
      "Epoch: 9, Loss: 0.04150459133352265\n"
     ]
    }
   ],
   "source": [
    "base_res = base_classifier_trainer.train(train_data, 10)"
   ]
  },
  {
   "cell_type": "code",
   "execution_count": 15,
   "metadata": {},
   "outputs": [],
   "source": [
    "data = torchvision.datasets.MNIST(\"./../data/mnist\", download=True, train=False, transform=lambda x: torch.tensor(transform.resize(np.array(x), (10, 10))).unsqueeze(0))\n",
    "train_data = torch.utils.data.DataLoader(data, batch_size=BATCH_SIZE, drop_last=True)"
   ]
  },
  {
   "cell_type": "code",
   "execution_count": 17,
   "metadata": {
    "id": "6Av3cMPbj9xx",
    "pycharm": {
     "name": "#%%\n"
    }
   },
   "outputs": [],
   "source": [
    "generator_model = Generator()\n",
    "discriminator_model = Discriminator()\n",
    "attacked_model = base_classifier.eval()"
   ]
  },
  {
   "cell_type": "code",
   "execution_count": 18,
   "metadata": {
    "id": "yh6JCKopj9xy",
    "pycharm": {
     "name": "#%%\n"
    }
   },
   "outputs": [],
   "source": [
    "generator_optimizer = torch.optim.Adam(generator_model.parameters(), lr=LR, betas=BETAS)\n",
    "discriminator_optimizer = torch.optim.Adam(discriminator_model.parameters(), lr=LR, betas=BETAS)"
   ]
  },
  {
   "cell_type": "code",
   "execution_count": 19,
   "metadata": {
    "id": "7TovBOSyj9xy",
    "pycharm": {
     "name": "#%%\n"
    }
   },
   "outputs": [],
   "source": [
    "trainer = Trainer(generator_model, discriminator_model, attacked_model,\n",
    "                  GANLoss(BATCH_SIZE, 'cpu'),\n",
    "                  AttackLoss(attacked_model, BATCH_SIZE, 'cpu'),\n",
    "                  discriminator_optimizer, generator_optimizer, 'cpu')"
   ]
  },
  {
   "cell_type": "code",
   "execution_count": 83,
   "metadata": {
    "colab": {
     "base_uri": "https://localhost:8080/"
    },
    "id": "xSiCuHuGZZ0g",
    "outputId": "9adb78c1-1cd0-4d57-e6e3-753a95010c26"
   },
   "outputs": [
    {
     "name": "stdout",
     "output_type": "stream",
     "text": [
      "Epoch: 0, Generator loss: 0.6315462321807177, Discriminator loss: 1.211809638219002, ResNet loss: 1.0954145238949702,\n",
      "Epoch: 1, Generator loss: 0.630618922985517, Discriminator loss: 1.2085240422151027, ResNet loss: 1.082726354782398,\n",
      "Epoch: 2, Generator loss: 0.6294156962480301, Discriminator loss: 1.2056674300095973, ResNet loss: 1.071893877707995,\n",
      "Epoch: 3, Generator loss: 0.6284721761177747, Discriminator loss: 1.2028635006684523, ResNet loss: 1.0617813834777245,\n",
      "Epoch: 4, Generator loss: 0.6274051398803027, Discriminator loss: 1.2001395286657872, ResNet loss: 1.0541420433765802,\n",
      "Epoch: 5, Generator loss: 0.6263297230769427, Discriminator loss: 1.1975054450524159, ResNet loss: 1.0477661765538728,\n",
      "Epoch: 6, Generator loss: 0.6253560261848645, Discriminator loss: 1.1948851591501481, ResNet loss: 1.0408145647782545,\n",
      "Epoch: 7, Generator loss: 0.6242429912090302, Discriminator loss: 1.1924363512259264, ResNet loss: 1.0337447241330757,\n",
      "Epoch: 8, Generator loss: 0.6233306511854514, Discriminator loss: 1.1899503744565523, ResNet loss: 1.0201637072440906,\n",
      "Epoch: 9, Generator loss: 0.6222364581548251, Discriminator loss: 1.1874616497602217, ResNet loss: 1.0088446973226008,\n"
     ]
    }
   ],
   "source": [
    "res = trainer.train(train_data, 10)"
   ]
  },
  {
   "cell_type": "code",
   "execution_count": 91,
   "metadata": {
    "colab": {
     "base_uri": "https://localhost:8080/"
    },
    "id": "fcU9HDRG6fDs",
    "outputId": "da36b429-fb15-49ef-b594-37247330e6ca"
   },
   "outputs": [
    {
     "name": "stdout",
     "output_type": "stream",
     "text": [
      "4.2946308e-08 0.001294782\n",
      "0.01491686 0.0012545917\n",
      "0.9992943 0.0011356774\n",
      "7.036229e-06 0.00021950477\n",
      "0.00045146968 0.00061024865\n",
      "0.9994929 0.0023304906\n",
      "0.0009825396 0.014770121\n",
      "0.00038477333 0.0025704606\n",
      "7.5375337e-06 0.00039584827\n",
      "4.3166224e-07 0.003731797\n",
      "3.7653163e-07 8.698533e-05\n",
      "1.4306884e-05 0.0049257167\n",
      "4.3896403e-06 0.0007064776\n",
      "3.9927832e-07 7.663164e-06\n",
      "0.99993837 0.0072898166\n",
      "2.9992525e-05 0.005645944\n"
     ]
    }
   ],
   "source": [
    "val_batch = iter(train_data).next()[0].float()\n",
    "for i in range(16):\n",
    "    print(F.softmax(attacked_model(val_batch), -1).cpu().detach().numpy()[i, 1], F.softmax(attacked_model(val_batch + generator_model(val_batch)), -1).cpu().detach().numpy()[i, 1])"
   ]
  },
  {
   "cell_type": "code",
   "execution_count": 107,
   "metadata": {},
   "outputs": [
    {
     "data": {
      "text/plain": [
       "Text(0.5, 1.0, 'Fake: Prediction: 1, confidence: 0.2766471207141876')"
      ]
     },
     "execution_count": 107,
     "metadata": {},
     "output_type": "execute_result"
    },
    {
     "data": {
      "image/png": "[encoded data removed]",
      "text/plain": [
       "<Figure size 216x216 with 1 Axes>"
      ]
     },
     "metadata": {
      "needs_background": "light"
     },
     "output_type": "display_data"
    },
    {
     "data": {
      "image/png": "[encoded data removed]",
      "text/plain": [
       "<Figure size 216x216 with 1 Axes>"
      ]
     },
     "metadata": {
      "needs_background": "light"
     },
     "output_type": "display_data"
    }
   ],
   "source": [
    "test_img = val_batch[15:16]\n",
    "true_confs = F.softmax(attacked_model(test_img), -1).cpu().detach().numpy()[0]\n",
    "fake_confs = F.softmax(attacked_model(test_img + generator_model(test_img)), -1).cpu().detach().numpy()[0]\n",
    "\n",
    "plt.figure(figsize=(3,3))\n",
    "plt.imshow(test_img[0, 0] * 127.5 + 127.5, cmap='gray')\n",
    "plt.title(\"Truth: Prediction: {}, confidence: {}\".format(np.argmax(true_confs), true_confs.max()))\n",
    "\n",
    "plt.figure(figsize=(3,3))\n",
    "plt.imshow((test_img + generator_model(test_img).cpu().detach().numpy())[0,  0] * 127.5 + 127.5, cmap='gray')\n",
    "plt.title(\"Fake: Prediction: {}, confidence: {}\".format(np.argmax(fake_confs), fake_confs.max()))"
   ]
  },
  {
   "cell_type": "code",
   "execution_count": null,
   "metadata": {
    "colab": {
     "base_uri": "https://localhost:8080/",
     "height": 350
    },
    "id": "dFrk7pyQj9x0",
    "outputId": "6e93d5b2-59c9-4bc9-b970-520a6629e52b",
    "pycharm": {
     "name": "#%%\n"
    }
   },
   "outputs": [],
   "source": [
    "plt.figure(figsize=(10,5))\n",
    "plt.title(\"Loss\")\n",
    "plt.plot(res[0],label=\"Generator loss\")\n",
    "plt.plot(res[1],label=\"Discriminator loss\")\n",
    "plt.plot(res[2],label=\"Attack loss\")\n",
    "plt.xlabel(\"Epoch\")\n",
    "plt.ylabel(\"Loss\")\n",
    "plt.legend()\n",
    "plt.show()"
   ]
  }
 ],
 "metadata": {
  "accelerator": "GPU",
  "colab": {
   "collapsed_sections": [],
   "name": "main.ipynb",
   "provenance": []
  },
  "kernelspec": {
   "display_name": "Python 3",
   "language": "python",
   "name": "python3"
  },
  "language_info": {
   "codemirror_mode": {
    "name": "ipython",
    "version": 3
   },
   "file_extension": ".py",
   "mimetype": "text/x-python",
   "name": "python",
   "nbconvert_exporter": "python",
   "pygments_lexer": "ipython3",
   "version": "3.7.9"
  }
 },
 "nbformat": 4,
 "nbformat_minor": 1
}
