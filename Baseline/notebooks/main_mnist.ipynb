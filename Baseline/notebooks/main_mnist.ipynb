{
 "cells": [
  {
   "cell_type": "code",
   "execution_count": 2,
   "metadata": {
    "id": "cTrN0E3pj9xd",
    "pycharm": {
     "name": "#%%\n"
    }
   },
   "outputs": [],
   "source": [
    "import torch\n",
    "import torchvision\n",
    "from torchvision import transforms\n",
    "from skimage import io, transform\n",
    "from torch import nn\n",
    "\n",
    "import json\n",
    "\n",
    "import numpy as np\n",
    "\n",
    "from training.losses import *\n",
    "from training.train import *\n",
    "from models.gan import *\n",
    "from models.classifier import *\n",
    "\n",
    "import matplotlib.pyplot as plt\n",
    "from PIL import Image\n",
    "from importlib import reload\n",
    "%matplotlib inline"
   ]
  },
  {
   "cell_type": "code",
   "execution_count": 2,
   "metadata": {
    "id": "VFtrr2XNj9xr"
   },
   "outputs": [],
   "source": [
    "BATCH_SIZE = 128\n",
    "LR = 3e-4\n",
    "BETAS = 0.9, 0.999\n",
    "LAMBDA = 0.5\n",
    "DEVICE = 'cpu'"
   ]
  },
  {
   "cell_type": "code",
   "execution_count": 3,
   "metadata": {
    "colab": {
     "base_uri": "https://localhost:8080/"
    },
    "id": "XYOGsn2rj9xv",
    "outputId": "49e9b3ac-5c3f-40ba-9cce-efa581c0b5be",
    "pycharm": {
     "name": "#%%\n"
    }
   },
   "outputs": [],
   "source": [
    "train_data = torchvision.datasets.MNIST(\"./../data/mnist\", download=True, train=True, transform=lambda x: torch.tensor(transform.resize(np.array(x), (10, 10))).unsqueeze(0).to(dtype=torch.float32))\n",
    "valid_data = torchvision.datasets.MNIST(\"./../data/mnist\", download=True, train=False, transform=lambda x: torch.tensor(transform.resize(np.array(x), (10, 10))).unsqueeze(0).to(dtype=torch.float32))"
   ]
  },
  {
   "cell_type": "code",
   "execution_count": 4,
   "metadata": {},
   "outputs": [
    {
     "data": {
      "application/vnd.jupyter.widget-view+json": {
       "model_id": "a5892953e284494987849455cbd05751",
       "version_major": 2,
       "version_minor": 0
      },
      "text/plain": [
       "HBox(children=(HTML(value='1/3 * Epoch (train)'), FloatProgress(value=0.0, max=468.0), HTML(value='')))"
      ]
     },
     "metadata": {},
     "output_type": "display_data"
    },
    {
     "name": "stderr",
     "output_type": "stream",
     "text": [
      "c:\\users\\seray\\appdata\\local\\programs\\python\\python37\\lib\\site-packages\\catalyst\\core\\runner.py:567: UserWarning: To copy construct from a tensor, it is recommended to use sourceTensor.clone().detach() or sourceTensor.clone().detach().requires_grad_(True), rather than torch.tensor(sourceTensor).\n",
      "  for k, v in self.batch_metrics.items()\n"
     ]
    },
    {
     "name": "stdout",
     "output_type": "stream",
     "text": [
      "\r\n",
      "train (1/3) accuracy: 0.8956330418586731 | accuracy/std: 0.11607456344011473 | accuracy01: 0.8956330418586731 | accuracy01/std: 0.11607456344011473 | accuracy03: 0.966980516910553 | accuracy03/std: 0.07149214263270973 | accuracy05: 0.9852931499481201 | accuracy05/std: 0.04307753482889212 | loss: 0.6201481819152832 | loss/mean: 0.6201481819152832 | loss/std: 0.4343929985502416 | lr: 0.0003 | momentum: 0.9\n"
     ]
    },
    {
     "data": {
      "application/vnd.jupyter.widget-view+json": {
       "model_id": "1b26f2855e964371a337d199e06db07e",
       "version_major": 2,
       "version_minor": 0
      },
      "text/plain": [
       "HBox(children=(HTML(value='1/3 * Epoch (valid)'), FloatProgress(value=0.0, max=78.0), HTML(value='')))"
      ]
     },
     "metadata": {},
     "output_type": "display_data"
    },
    {
     "name": "stdout",
     "output_type": "stream",
     "text": [
      "\r\n",
      "valid (1/3) accuracy: 0.9588341116905212 | accuracy/std: 0.03146800092685063 | accuracy01: 0.9588341116905212 | accuracy01/std: 0.03146800092685063 | accuracy03: 0.9934895634651184 | accuracy03/std: 0.009143613689777726 | accuracy05: 0.9976963400840759 | accuracy05/std: 0.004862918258791045 | loss: 0.2397996038198471 | loss/mean: 0.2397996038198471 | loss/std: 0.10037992334391968 | lr: 0.0003 | momentum: 0.9\n",
      "* Epoch (1/3) \n"
     ]
    },
    {
     "data": {
      "application/vnd.jupyter.widget-view+json": {
       "model_id": "23756f14acf74a03a06c70f0040f1f5e",
       "version_major": 2,
       "version_minor": 0
      },
      "text/plain": [
       "HBox(children=(HTML(value='2/3 * Epoch (train)'), FloatProgress(value=0.0, max=468.0), HTML(value='')))"
      ]
     },
     "metadata": {},
     "output_type": "display_data"
    },
    {
     "name": "stdout",
     "output_type": "stream",
     "text": [
      "\r\n",
      "train (2/3) accuracy: 0.9635416865348816 | accuracy/std: 0.01989200304274311 | accuracy01: 0.9635416865348816 | accuracy01/std: 0.01989200304274311 | accuracy03: 0.9951255321502686 | accuracy03/std: 0.006812099822121239 | accuracy05: 0.9989817142486572 | accuracy05/std: 0.0029126716323828288 | loss: 0.17221198976039886 | loss/mean: 0.17221198976039886 | loss/std: 0.058793091033871744 | lr: 0.0003 | momentum: 0.9\n"
     ]
    },
    {
     "data": {
      "application/vnd.jupyter.widget-view+json": {
       "model_id": "4c8f0fc9f63e487a9ed20cf009aeeade",
       "version_major": 2,
       "version_minor": 0
      },
      "text/plain": [
       "HBox(children=(HTML(value='2/3 * Epoch (valid)'), FloatProgress(value=0.0, max=78.0), HTML(value='')))"
      ]
     },
     "metadata": {},
     "output_type": "display_data"
    },
    {
     "name": "stdout",
     "output_type": "stream",
     "text": [
      "\r\n",
      "valid (2/3) accuracy: 0.969651460647583 | accuracy/std: 0.025669097886755213 | accuracy01: 0.969651460647583 | accuracy01/std: 0.025669097886755213 | accuracy03: 0.9966946840286255 | accuracy03/std: 0.006681106292007916 | accuracy05: 0.9989984035491943 | accuracy05/std: 0.002896145102004662 | loss: 0.13534925878047943 | loss/mean: 0.13534925878047943 | loss/std: 0.07273122706091455 | lr: 0.0003 | momentum: 0.9\n",
      "* Epoch (2/3) \n"
     ]
    },
    {
     "data": {
      "application/vnd.jupyter.widget-view+json": {
       "model_id": "65416283dd554bc39f1b2c89664ab003",
       "version_major": 2,
       "version_minor": 0
      },
      "text/plain": [
       "HBox(children=(HTML(value='3/3 * Epoch (train)'), FloatProgress(value=0.0, max=468.0), HTML(value='')))"
      ]
     },
     "metadata": {},
     "output_type": "display_data"
    },
    {
     "name": "stdout",
     "output_type": "stream",
     "text": [
      "\r\n",
      "train (3/3) accuracy: 0.9727063179016113 | accuracy/std: 0.0162831102724005 | accuracy01: 0.9727063179016113 | accuracy01/std: 0.0162831102724005 | accuracy03: 0.9971955418586731 | accuracy03/std: 0.0048139884345121155 | accuracy05: 0.9995158910751343 | accuracy05/std: 0.002017292365067811 | loss: 0.1105828806757927 | loss/mean: 0.1105828806757927 | loss/std: 0.040915594154247045 | lr: 0.0003 | momentum: 0.9\n"
     ]
    },
    {
     "data": {
      "application/vnd.jupyter.widget-view+json": {
       "model_id": "c152c21f6d354fc2a4a1a801d87051f2",
       "version_major": 2,
       "version_minor": 0
      },
      "text/plain": [
       "HBox(children=(HTML(value='3/3 * Epoch (valid)'), FloatProgress(value=0.0, max=78.0), HTML(value='')))"
      ]
     },
     "metadata": {},
     "output_type": "display_data"
    },
    {
     "name": "stdout",
     "output_type": "stream",
     "text": [
      "\r\n",
      "valid (3/3) accuracy: 0.9691506624221802 | accuracy/std: 0.02529802812425509 | accuracy01: 0.9691506624221802 | accuracy01/std: 0.02529802812425509 | accuracy03: 0.996995210647583 | accuracy03/std: 0.005898705617388444 | accuracy05: 0.9993990659713745 | accuracy05/std: 0.0027321443810467178 | loss: 0.11183144152164459 | loss/mean: 0.11183144152164459 | loss/std: 0.0673391910706154 | lr: 0.0003 | momentum: 0.9\n",
      "* Epoch (3/3) \n",
      "Top best models:\n",
      "base_classifier_logdir\\checkpoints/train.3.pth\t0.9970\n"
     ]
    }
   ],
   "source": [
    "base_classifier = SimpleClassifier()\n",
    "\n",
    "base_classifier_runner = dl.SupervisedRunner(\n",
    "    input_key=\"features\", output_key=\"logits\", target_key=\"targets\", loss_key=\"loss\"\n",
    ")\n",
    "\n",
    "base_classifier_runner.train(\n",
    "    model=base_classifier,\n",
    "    criterion= torch.nn.CrossEntropyLoss(),\n",
    "    optimizer=torch.optim.Adam(base_classifier.parameters(), lr=LR, betas=BETAS),\n",
    "    loaders= {\n",
    "        \"train\": torch.utils.data.DataLoader(train_data, batch_size=BATCH_SIZE, drop_last=True),\n",
    "        'valid': torch.utils.data.DataLoader(valid_data, batch_size=BATCH_SIZE, drop_last=True)\n",
    "    },\n",
    "    logdir=\"./base_classifier_logdir\",\n",
    "    num_epochs=3,\n",
    "    valid_loader=\"valid\",\n",
    "    valid_metric=\"accuracy03\",\n",
    "    minimize_valid_metric=False,\n",
    "    verbose=True,\n",
    "    callbacks=[\n",
    "        dl.AccuracyCallback(input_key=\"logits\", target_key=\"targets\", num_classes=10)\n",
    "    ],\n",
    ")"
   ]
  },
  {
   "cell_type": "code",
   "execution_count": 7,
   "metadata": {},
   "outputs": [],
   "source": [
    "adv_train_data = torch.utils.data.DataLoader(valid_data, batch_size=BATCH_SIZE, drop_last=True)"
   ]
  },
  {
   "cell_type": "code",
   "execution_count": 8,
   "metadata": {},
   "outputs": [],
   "source": [
    "model = {\"generator\": Generator(image_size=10), \n",
    "         \"discriminator\": Discriminator(gp=False), 'attacked_model': base_classifier.eval()}\n",
    "loss = {\"generator\": GeneratorLoss(BATCH_SIZE, DEVICE), #WGANGeneratorLoss(), \n",
    "             \"discriminator\": DiscriminatorLoss(BATCH_SIZE, DEVICE), #WGANDiscriminatorLoss(LAMBDA, DEVICE), \n",
    "             \"attack\": AttackLoss(),\n",
    "             \"hinge\": HingeLoss(BATCH_SIZE, DEVICE)}\n",
    "optimizer = {\n",
    "    \"generator\": torch.optim.Adam(model['generator'].parameters(), lr=LR, betas=BETAS),\n",
    "    \"discriminator\": torch.optim.Adam(model['discriminator'].parameters(), lr=LR, betas=BETAS),\n",
    "}"
   ]
  },
  {
   "cell_type": "code",
   "execution_count": 28,
   "metadata": {},
   "outputs": [
    {
     "data": {
      "text/plain": [
       "<All keys matched successfully>"
      ]
     },
     "execution_count": 28,
     "metadata": {},
     "output_type": "execute_result"
    }
   ],
   "source": [
    "# model['generator'].load_state_dict(torch.load('./wgan_mnist_logs/models/gen_checkpoint_10'))\n",
    "# model['discriminator'].load_state_dict(torch.load('./wgan_mnist_logs/models/disc_checkpoint_10'))"
   ]
  },
  {
   "cell_type": "code",
   "execution_count": 9,
   "metadata": {
    "id": "7TovBOSyj9xy",
    "pycharm": {
     "name": "#%%\n"
    }
   },
   "outputs": [
    {
     "name": "stdout",
     "output_type": "stream",
     "text": [
      "[WinError 3] The system cannot find the path specified: './dcgan_mnist_logs'\n"
     ]
    }
   ],
   "source": [
    "trainer = CustomTrainer(model,\n",
    "                        optimizer,\n",
    "                        loss,\n",
    "                        DEVICE,\n",
    "                        log_path='./dcgan_mnist_logs',\n",
    "                        image_path='./img_10.jpg',\n",
    "                        penalty=False)"
   ]
  },
  {
   "cell_type": "code",
   "execution_count": 10,
   "metadata": {
    "colab": {
     "base_uri": "https://localhost:8080/"
    },
    "id": "xSiCuHuGZZ0g",
    "outputId": "9adb78c1-1cd0-4d57-e6e3-753a95010c26"
   },
   "outputs": [
    {
     "data": {
      "application/vnd.jupyter.widget-view+json": {
       "model_id": "ea3f59e897024b6b9184e575ab8f1e87",
       "version_major": 2,
       "version_minor": 0
      },
      "text/plain": [
       "HBox(children=(HTML(value=''), FloatProgress(value=1.0, bar_style='info', layout=Layout(width='20px'), max=1.0…"
      ]
     },
     "metadata": {},
     "output_type": "display_data"
    },
    {
     "name": "stdout",
     "output_type": "stream",
     "text": [
      "\n"
     ]
    },
    {
     "data": {
      "application/vnd.jupyter.widget-view+json": {
       "model_id": "4c9c35afe7b64db7ad584155ec0cb033",
       "version_major": 2,
       "version_minor": 0
      },
      "text/plain": [
       "HBox(children=(HTML(value=''), FloatProgress(value=1.0, bar_style='info', layout=Layout(width='20px'), max=1.0…"
      ]
     },
     "metadata": {},
     "output_type": "display_data"
    },
    {
     "name": "stdout",
     "output_type": "stream",
     "text": [
      "\n"
     ]
    },
    {
     "data": {
      "application/vnd.jupyter.widget-view+json": {
       "model_id": "fac8dcdc127f402f9a6d7b82d3b0d83c",
       "version_major": 2,
       "version_minor": 0
      },
      "text/plain": [
       "HBox(children=(HTML(value=''), FloatProgress(value=1.0, bar_style='info', layout=Layout(width='20px'), max=1.0…"
      ]
     },
     "metadata": {},
     "output_type": "display_data"
    },
    {
     "name": "stdout",
     "output_type": "stream",
     "text": [
      "\n"
     ]
    },
    {
     "data": {
      "application/vnd.jupyter.widget-view+json": {
       "model_id": "ea77e0f8be974bc8a94e6a0f869a7caf",
       "version_major": 2,
       "version_minor": 0
      },
      "text/plain": [
       "HBox(children=(HTML(value=''), FloatProgress(value=1.0, bar_style='info', layout=Layout(width='20px'), max=1.0…"
      ]
     },
     "metadata": {},
     "output_type": "display_data"
    },
    {
     "name": "stdout",
     "output_type": "stream",
     "text": [
      "\n"
     ]
    },
    {
     "data": {
      "application/vnd.jupyter.widget-view+json": {
       "model_id": "0d883ec53d76456a8229b8945c9f3eed",
       "version_major": 2,
       "version_minor": 0
      },
      "text/plain": [
       "HBox(children=(HTML(value=''), FloatProgress(value=1.0, bar_style='info', layout=Layout(width='20px'), max=1.0…"
      ]
     },
     "metadata": {},
     "output_type": "display_data"
    },
    {
     "name": "stdout",
     "output_type": "stream",
     "text": [
      "\n"
     ]
    },
    {
     "data": {
      "application/vnd.jupyter.widget-view+json": {
       "model_id": "a63e15e5775d44e7b4fcd9de03d1bfd4",
       "version_major": 2,
       "version_minor": 0
      },
      "text/plain": [
       "HBox(children=(HTML(value=''), FloatProgress(value=1.0, bar_style='info', layout=Layout(width='20px'), max=1.0…"
      ]
     },
     "metadata": {},
     "output_type": "display_data"
    },
    {
     "name": "stdout",
     "output_type": "stream",
     "text": [
      "\n"
     ]
    },
    {
     "data": {
      "application/vnd.jupyter.widget-view+json": {
       "model_id": "83f48480e9804c97a2ab2c72bc2e6df3",
       "version_major": 2,
       "version_minor": 0
      },
      "text/plain": [
       "HBox(children=(HTML(value=''), FloatProgress(value=1.0, bar_style='info', layout=Layout(width='20px'), max=1.0…"
      ]
     },
     "metadata": {},
     "output_type": "display_data"
    },
    {
     "name": "stdout",
     "output_type": "stream",
     "text": [
      "\n"
     ]
    },
    {
     "data": {
      "application/vnd.jupyter.widget-view+json": {
       "model_id": "a63a5d0a9daf4d0d9d62cbc574fbfabb",
       "version_major": 2,
       "version_minor": 0
      },
      "text/plain": [
       "HBox(children=(HTML(value=''), FloatProgress(value=1.0, bar_style='info', layout=Layout(width='20px'), max=1.0…"
      ]
     },
     "metadata": {},
     "output_type": "display_data"
    },
    {
     "name": "stdout",
     "output_type": "stream",
     "text": [
      "\n"
     ]
    },
    {
     "data": {
      "application/vnd.jupyter.widget-view+json": {
       "model_id": "9bc0d78cbdc14d0598a1ce837af71e56",
       "version_major": 2,
       "version_minor": 0
      },
      "text/plain": [
       "HBox(children=(HTML(value=''), FloatProgress(value=1.0, bar_style='info', layout=Layout(width='20px'), max=1.0…"
      ]
     },
     "metadata": {},
     "output_type": "display_data"
    },
    {
     "name": "stdout",
     "output_type": "stream",
     "text": [
      "\n"
     ]
    },
    {
     "data": {
      "application/vnd.jupyter.widget-view+json": {
       "model_id": "b770532591a646b89d59cd6ea59f1966",
       "version_major": 2,
       "version_minor": 0
      },
      "text/plain": [
       "HBox(children=(HTML(value=''), FloatProgress(value=1.0, bar_style='info', layout=Layout(width='20px'), max=1.0…"
      ]
     },
     "metadata": {},
     "output_type": "display_data"
    },
    {
     "name": "stdout",
     "output_type": "stream",
     "text": [
      "\n"
     ]
    }
   ],
   "source": [
    "res = trainer.train(adv_train_data, 10)"
   ]
  },
  {
   "cell_type": "code",
   "execution_count": 31,
   "metadata": {},
   "outputs": [
    {
     "data": {
      "text/plain": [
       "<matplotlib.image.AxesImage at 0x29ce2ee1248>"
      ]
     },
     "execution_count": 31,
     "metadata": {},
     "output_type": "execute_result"
    },
    {
     "data": {
      "image/png": "[encoded data removed]",
      "text/plain": [
       "<Figure size 216x216 with 1 Axes>"
      ]
     },
     "metadata": {
      "needs_background": "light"
     },
     "output_type": "display_data"
    }
   ],
   "source": [
    "test_img = val_batch[0].float()[17:18]\n",
    "true_confs = F.softmax(model['attacked_model'](test_img), -1).cpu().detach().numpy()[0]\n",
    "fake_confs = F.softmax(model['attacked_model'](model['generator'](test_img)[0]), -1).cpu().detach().numpy()[0]\n",
    "\n",
    "plt.figure(figsize=(3,3))\n",
    "plt.imshow(test_img[0, 0] * 127.5 + 127.5, cmap='gray')\n",
    "plt.title(\"Truth: Prediction: {}, confidence: {}\".format(np.argmax(true_confs), true_confs.max()))\n",
    "\n",
    "plt.figure(figsize=(3,3))\n",
    "plt.imshow((model['generator'](test_img)[0].cpu().detach().numpy())[0,  0] * 127.5 + 127.5, cmap='gray')\n",
    "plt.title(\"Fake: Prediction: {}, confidence: {}\".format(np.argmax(fake_confs), fake_confs.max()))"
   ]
  },
  {
   "cell_type": "code",
   "execution_count": 17,
   "metadata": {},
   "outputs": [],
   "source": [
    "score = 0\n",
    "num = 0\n",
    "for batch in torch.utils.data.DataLoader(train_data, batch_size=BATCH_SIZE, drop_last=True):\n",
    "    test_img, label = batch\n",
    "    test_img = test_img.float()\n",
    "    true_confs = label #F.softmax(model['attacked_model'](test_img), -1).cpu().detach().numpy()\n",
    "    fake_confs = F.softmax(model['attacked_model'](model['generator'](test_img)[0]), -1).cpu().detach().numpy()\n",
    "    num += (np.array(label) != np.argmax(fake_confs,axis=1)).shape[0]\n",
    "#     (np.argmax(true_confs, axis=1) != np.argmax(fake_confs,axis=1)).shape[0]\n",
    "    score += (np.array(label) != np.argmax(fake_confs,axis=1)).sum()\n",
    "#     (np.argmax(true_confs, axis=1) != np.argmax(fake_confs,axis=1)).sum()"
   ]
  },
  {
   "cell_type": "code",
   "execution_count": 18,
   "metadata": {},
   "outputs": [
    {
     "data": {
      "text/plain": [
       "0.9738414797008547"
      ]
     },
     "execution_count": 18,
     "metadata": {},
     "output_type": "execute_result"
    }
   ],
   "source": [
    "score/num"
   ]
  },
  {
   "cell_type": "code",
   "execution_count": 14,
   "metadata": {},
   "outputs": [
    {
     "data": {
      "text/html": [
       "<div>\n",
       "<style scoped>\n",
       "    .dataframe tbody tr th:only-of-type {\n",
       "        vertical-align: middle;\n",
       "    }\n",
       "\n",
       "    .dataframe tbody tr th {\n",
       "        vertical-align: top;\n",
       "    }\n",
       "\n",
       "    .dataframe thead th {\n",
       "        text-align: right;\n",
       "    }\n",
       "</style>\n",
       "<table border=\"1\" class=\"dataframe\">\n",
       "  <thead>\n",
       "    <tr style=\"text-align: right;\">\n",
       "      <th></th>\n",
       "      <th>generator_loss</th>\n",
       "      <th>discriminator_loss</th>\n",
       "      <th>attack_loss</th>\n",
       "      <th>hinge_loss</th>\n",
       "      <th>epoch</th>\n",
       "      <th>batch</th>\n",
       "    </tr>\n",
       "  </thead>\n",
       "  <tbody>\n",
       "    <tr>\n",
       "      <th>0</th>\n",
       "      <td>-0.504125</td>\n",
       "      <td>0.498803</td>\n",
       "      <td>-1.482226</td>\n",
       "      <td>2.514850</td>\n",
       "      <td>0</td>\n",
       "      <td>0</td>\n",
       "    </tr>\n",
       "    <tr>\n",
       "      <th>1</th>\n",
       "      <td>-0.506887</td>\n",
       "      <td>0.496874</td>\n",
       "      <td>-1.717063</td>\n",
       "      <td>2.529800</td>\n",
       "      <td>0</td>\n",
       "      <td>1</td>\n",
       "    </tr>\n",
       "    <tr>\n",
       "      <th>2</th>\n",
       "      <td>-0.510045</td>\n",
       "      <td>0.494743</td>\n",
       "      <td>-1.865778</td>\n",
       "      <td>2.505977</td>\n",
       "      <td>0</td>\n",
       "      <td>2</td>\n",
       "    </tr>\n",
       "    <tr>\n",
       "      <th>3</th>\n",
       "      <td>-0.513965</td>\n",
       "      <td>0.492265</td>\n",
       "      <td>-1.704498</td>\n",
       "      <td>2.501043</td>\n",
       "      <td>0</td>\n",
       "      <td>3</td>\n",
       "    </tr>\n",
       "    <tr>\n",
       "      <th>4</th>\n",
       "      <td>-0.518624</td>\n",
       "      <td>0.489211</td>\n",
       "      <td>-1.547077</td>\n",
       "      <td>2.501428</td>\n",
       "      <td>0</td>\n",
       "      <td>4</td>\n",
       "    </tr>\n",
       "    <tr>\n",
       "      <th>...</th>\n",
       "      <td>...</td>\n",
       "      <td>...</td>\n",
       "      <td>...</td>\n",
       "      <td>...</td>\n",
       "      <td>...</td>\n",
       "      <td>...</td>\n",
       "    </tr>\n",
       "    <tr>\n",
       "      <th>1555</th>\n",
       "      <td>-0.991192</td>\n",
       "      <td>-0.874968</td>\n",
       "      <td>-2.814166</td>\n",
       "      <td>2.449738</td>\n",
       "      <td>19</td>\n",
       "      <td>73</td>\n",
       "    </tr>\n",
       "    <tr>\n",
       "      <th>1556</th>\n",
       "      <td>-0.986609</td>\n",
       "      <td>-0.863601</td>\n",
       "      <td>-2.673683</td>\n",
       "      <td>2.452317</td>\n",
       "      <td>19</td>\n",
       "      <td>74</td>\n",
       "    </tr>\n",
       "    <tr>\n",
       "      <th>1557</th>\n",
       "      <td>-0.975491</td>\n",
       "      <td>-0.893588</td>\n",
       "      <td>-2.720708</td>\n",
       "      <td>2.451010</td>\n",
       "      <td>19</td>\n",
       "      <td>75</td>\n",
       "    </tr>\n",
       "    <tr>\n",
       "      <th>1558</th>\n",
       "      <td>-0.941643</td>\n",
       "      <td>-0.902926</td>\n",
       "      <td>-2.820043</td>\n",
       "      <td>2.449004</td>\n",
       "      <td>19</td>\n",
       "      <td>76</td>\n",
       "    </tr>\n",
       "    <tr>\n",
       "      <th>1559</th>\n",
       "      <td>-0.930532</td>\n",
       "      <td>-0.883759</td>\n",
       "      <td>-2.710594</td>\n",
       "      <td>2.445207</td>\n",
       "      <td>19</td>\n",
       "      <td>77</td>\n",
       "    </tr>\n",
       "  </tbody>\n",
       "</table>\n",
       "<p>1560 rows × 6 columns</p>\n",
       "</div>"
      ],
      "text/plain": [
       "      generator_loss  discriminator_loss  attack_loss  hinge_loss  epoch  \\\n",
       "0          -0.504125            0.498803    -1.482226    2.514850      0   \n",
       "1          -0.506887            0.496874    -1.717063    2.529800      0   \n",
       "2          -0.510045            0.494743    -1.865778    2.505977      0   \n",
       "3          -0.513965            0.492265    -1.704498    2.501043      0   \n",
       "4          -0.518624            0.489211    -1.547077    2.501428      0   \n",
       "...              ...                 ...          ...         ...    ...   \n",
       "1555       -0.991192           -0.874968    -2.814166    2.449738     19   \n",
       "1556       -0.986609           -0.863601    -2.673683    2.452317     19   \n",
       "1557       -0.975491           -0.893588    -2.720708    2.451010     19   \n",
       "1558       -0.941643           -0.902926    -2.820043    2.449004     19   \n",
       "1559       -0.930532           -0.883759    -2.710594    2.445207     19   \n",
       "\n",
       "      batch  \n",
       "0         0  \n",
       "1         1  \n",
       "2         2  \n",
       "3         3  \n",
       "4         4  \n",
       "...     ...  \n",
       "1555     73  \n",
       "1556     74  \n",
       "1557     75  \n",
       "1558     76  \n",
       "1559     77  \n",
       "\n",
       "[1560 rows x 6 columns]"
      ]
     },
     "execution_count": 14,
     "metadata": {},
     "output_type": "execute_result"
    }
   ],
   "source": [
    "rs = pd.read_csv('./wgan_mnist_logs/metrics.csv')\n",
    "rs"
   ]
  },
  {
   "cell_type": "code",
   "execution_count": 15,
   "metadata": {
    "colab": {
     "base_uri": "https://localhost:8080/",
     "height": 350
    },
    "id": "dFrk7pyQj9x0",
    "outputId": "6e93d5b2-59c9-4bc9-b970-520a6629e52b",
    "pycharm": {
     "name": "#%%\n"
    }
   },
   "outputs": [
    {
     "data": {
      "image/png": "[encoded data removed]",
      "text/plain": [
       "<Figure size 720x360 with 1 Axes>"
      ]
     },
     "metadata": {
      "needs_background": "light"
     },
     "output_type": "display_data"
    }
   ],
   "source": [
    "plt.figure(figsize=(10,5))\n",
    "plt.title(\"Loss\")\n",
    "plt.plot(rs['generator_loss'],label=\"Generator loss\")\n",
    "plt.plot(rs['discriminator_loss'],label=\"Discriminator loss\")\n",
    "plt.plot(rs['attack_loss'],label=\"Attack loss\")\n",
    "plt.xlabel(\"Batch\")\n",
    "plt.ylabel(\"Loss\")\n",
    "plt.legend()\n",
    "plt.show()"
   ]
  }
 ],
 "metadata": {
  "accelerator": "GPU",
  "colab": {
   "collapsed_sections": [],
   "name": "main.ipynb",
   "provenance": []
  },
  "kernelspec": {
   "display_name": "Python 3",
   "language": "python",
   "name": "python3"
  },
  "language_info": {
   "codemirror_mode": {
    "name": "ipython",
    "version": 3
   },
   "file_extension": ".py",
   "mimetype": "text/x-python",
   "name": "python",
   "nbconvert_exporter": "python",
   "pygments_lexer": "ipython3",
   "version": "3.7.9"
  }
 },
 "nbformat": 4,
 "nbformat_minor": 1
}