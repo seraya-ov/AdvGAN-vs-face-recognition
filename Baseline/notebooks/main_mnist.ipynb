{
 "cells": [
  {
   "cell_type": "code",
   "execution_count": 1,
   "metadata": {
    "id": "cTrN0E3pj9xd",
    "pycharm": {
     "name": "#%%\n"
    }
   },
   "outputs": [],
   "source": [
    "import torch\n",
    "import torchvision\n",
    "from torchvision import transforms\n",
    "from skimage import io, transform\n",
    "from torch import nn\n",
    "\n",
    "import json\n",
    "\n",
    "import numpy as np\n",
    "\n",
    "from training.losses import *\n",
    "from training.train import *\n",
    "from training.plots import *\n",
    "from models.gan import *\n",
    "from models.classifier import *\n",
    "\n",
    "import matplotlib.pyplot as plt\n",
    "from PIL import Image\n",
    "from importlib import reload"
   ]
  },
  {
   "cell_type": "code",
   "execution_count": 2,
   "metadata": {
    "id": "VFtrr2XNj9xr"
   },
   "outputs": [],
   "source": [
    "BATCH_SIZE = 128\n",
    "LR = 3e-4\n",
    "BETAS = 0.9, 0.999"
   ]
  },
  {
   "cell_type": "code",
   "execution_count": 3,
   "metadata": {
    "colab": {
     "base_uri": "https://localhost:8080/"
    },
    "id": "XYOGsn2rj9xv",
    "outputId": "49e9b3ac-5c3f-40ba-9cce-efa581c0b5be",
    "pycharm": {
     "name": "#%%\n"
    }
   },
   "outputs": [],
   "source": [
    "data = torchvision.datasets.MNIST(\"./../data/mnist\", download=True, train=True, transform=lambda x: torch.tensor(transform.resize(np.array(x), (10, 10))).unsqueeze(0))\n",
    "train_data = torch.utils.data.DataLoader(data, batch_size=BATCH_SIZE, drop_last=True)"
   ]
  },
  {
   "cell_type": "code",
   "execution_count": 4,
   "metadata": {},
   "outputs": [],
   "source": [
    "base_classifier = SimpleClassifier()"
   ]
  },
  {
   "cell_type": "code",
   "execution_count": 5,
   "metadata": {},
   "outputs": [],
   "source": [
    "optimizer = torch.optim.Adam(base_classifier.parameters(), lr=LR, betas=BETAS)\n",
    "criterion = nn.CrossEntropyLoss()"
   ]
  },
  {
   "cell_type": "code",
   "execution_count": 6,
   "metadata": {},
   "outputs": [],
   "source": [
    "base_classifier_trainer = BaseClassifierTrainer(base_classifier, criterion, optimizer, 'cpu')"
   ]
  },
  {
   "cell_type": "code",
   "execution_count": 7,
   "metadata": {},
   "outputs": [
    {
     "name": "stdout",
     "output_type": "stream",
     "text": [
      "Epoch: 0, Loss: 0.5821471776112787\n",
      "Epoch: 1, Loss: 0.15672196987538767\n",
      "Epoch: 2, Loss: 0.10376819578381494\n",
      "Epoch: 3, Loss: 0.083834623094075\n",
      "Epoch: 4, Loss: 0.07091161996548057\n",
      "Epoch: 5, Loss: 0.06199404895086733\n",
      "Epoch: 6, Loss: 0.05530475547664568\n",
      "Epoch: 7, Loss: 0.04911064737353028\n",
      "Epoch: 8, Loss: 0.04450223555700838\n",
      "Epoch: 9, Loss: 0.04068902952887086\n"
     ]
    }
   ],
   "source": [
    "base_res = base_classifier_trainer.train(train_data, 10)"
   ]
  },
  {
   "cell_type": "code",
   "execution_count": 8,
   "metadata": {},
   "outputs": [],
   "source": [
    "data = torchvision.datasets.MNIST(\"./../data/mnist\", download=True, train=False, transform=lambda x: torch.tensor(transform.resize(np.array(x), (10, 10))).unsqueeze(0))\n",
    "train_data = torch.utils.data.DataLoader(data, batch_size=BATCH_SIZE, drop_last=True)"
   ]
  },
  {
   "cell_type": "code",
   "execution_count": 9,
   "metadata": {
    "id": "6Av3cMPbj9xx",
    "pycharm": {
     "name": "#%%\n"
    }
   },
   "outputs": [],
   "source": [
    "generator_model = Generator()\n",
    "discriminator_model = Discriminator()\n",
    "attacked_model = base_classifier.eval()"
   ]
  },
  {
   "cell_type": "code",
   "execution_count": 10,
   "metadata": {
    "id": "yh6JCKopj9xy",
    "pycharm": {
     "name": "#%%\n"
    }
   },
   "outputs": [],
   "source": [
    "generator_optimizer = torch.optim.Adam(generator_model.parameters(), lr=LR, betas=BETAS)\n",
    "discriminator_optimizer = torch.optim.Adam(discriminator_model.parameters(), lr=LR, betas=BETAS)"
   ]
  },
  {
   "cell_type": "code",
   "execution_count": 11,
   "metadata": {
    "id": "7TovBOSyj9xy",
    "pycharm": {
     "name": "#%%\n"
    }
   },
   "outputs": [],
   "source": [
    "trainer = Trainer(generator_model, discriminator_model, attacked_model,\n",
    "                  GANLoss(BATCH_SIZE, 'cpu'),\n",
    "                  AttackLoss(attacked_model, BATCH_SIZE, 'cpu'),\n",
    "                  HingeLoss(attacked_model, BATCH_SIZE, 'cpu'),\n",
    "                  discriminator_optimizer, generator_optimizer, 'cpu')"
   ]
  },
  {
   "cell_type": "code",
   "execution_count": 12,
   "metadata": {
    "colab": {
     "base_uri": "https://localhost:8080/"
    },
    "id": "xSiCuHuGZZ0g",
    "outputId": "9adb78c1-1cd0-4d57-e6e3-753a95010c26"
   },
   "outputs": [
    {
     "name": "stdout",
     "output_type": "stream",
     "text": [
      "Epoch: 0, Generator loss: 0.5938803744621766, Discriminator loss: 1.3322116289383326, Model loss: -1.9170155754456153, Hinge loss: 2.8805669515560837,\n",
      "Epoch: 1, Generator loss: 0.614814811027967, Discriminator loss: 1.293812939753899, Model loss: -2.2176476472463365, Hinge loss: 2.873957206041385,\n",
      "Epoch: 2, Generator loss: 0.6328156116681222, Discriminator loss: 1.2675468860528407, Model loss: -2.3232816488314896, Hinge loss: 2.876794310716482,\n",
      "Epoch: 3, Generator loss: 0.6541409691174825, Discriminator loss: 1.2454080489965587, Model loss: -2.37631688056848, Hinge loss: 2.8726797562379103,\n",
      "Epoch: 4, Generator loss: 0.6773046919932733, Discriminator loss: 1.2239721646675696, Model loss: -2.4111801966642723, Hinge loss: 2.86919349584824,\n",
      "Epoch: 5, Generator loss: 0.6905597532406832, Discriminator loss: 1.212418599006457, Model loss: -2.439126763588343, Hinge loss: 2.867567649254432,\n",
      "Epoch: 6, Generator loss: 0.6975945295431675, Discriminator loss: 1.2049478384164662, Model loss: -2.4629827646108775, Hinge loss: 2.867283506271167,\n",
      "Epoch: 7, Generator loss: 0.7009068964383541, Discriminator loss: 1.199415861031948, Model loss: -2.482475390801063, Hinge loss: 2.8680686828417654,\n",
      "Epoch: 8, Generator loss: 0.7028742791750492, Discriminator loss: 1.1941389869420955, Model loss: -2.503224327014043, Hinge loss: 2.86947025396885,\n",
      "Epoch: 9, Generator loss: 0.7038911260091342, Discriminator loss: 1.1892777253419926, Model loss: -2.5260788263418736, Hinge loss: 2.871801773707072,\n"
     ]
    }
   ],
   "source": [
    "res = trainer.train(train_data, 10)"
   ]
  },
  {
   "cell_type": "code",
   "execution_count": 13,
   "metadata": {
    "colab": {
     "base_uri": "https://localhost:8080/"
    },
    "id": "fcU9HDRG6fDs",
    "outputId": "da36b429-fb15-49ef-b594-37247330e6ca"
   },
   "outputs": [
    {
     "name": "stdout",
     "output_type": "stream",
     "text": [
      "0.9999963 0.0018085284\n",
      "tensor(7)\n",
      "0.9976451 0.002288829\n",
      "tensor(2)\n",
      "0.9995715 0.009920733\n",
      "tensor(1)\n",
      "0.99806064 0.004323008\n",
      "tensor(0)\n",
      "0.99731356 0.0017292276\n",
      "tensor(4)\n",
      "0.99987066 0.0050104177\n",
      "tensor(1)\n",
      "0.9988237 0.0075793173\n",
      "tensor(4)\n",
      "0.9906943 0.00556953\n",
      "tensor(9)\n",
      "0.7187204 0.0092216\n",
      "tensor(5)\n",
      "0.9991242 0.004581361\n",
      "tensor(9)\n",
      "0.99971956 0.010505952\n",
      "tensor(0)\n",
      "0.9997764 0.006929886\n",
      "tensor(6)\n",
      "0.999729 0.0004551161\n",
      "tensor(9)\n",
      "0.9999356 0.0023149948\n",
      "tensor(0)\n",
      "0.9999646 0.010285877\n",
      "tensor(1)\n",
      "0.99910283 0.04224874\n",
      "tensor(5)\n"
     ]
    }
   ],
   "source": [
    "val_batch = iter(train_data).next()\n",
    "for i in range(16):\n",
    "    print(F.softmax(attacked_model(val_batch[0].float()), -1).cpu().detach().numpy()[i, val_batch[1][i]], F.softmax(attacked_model(val_batch[0].float() + generator_model(val_batch[0].float())), -1).cpu().detach().numpy()[i, val_batch[1][i]])\n",
    "    print(val_batch[1][i])"
   ]
  },
  {
   "cell_type": "code",
   "execution_count": 21,
   "metadata": {},
   "outputs": [
    {
     "data": {
      "text/plain": [
       "Text(0.5, 1.0, 'Fake: Prediction: 3, confidence: 0.9814454913139343')"
      ]
     },
     "execution_count": 21,
     "metadata": {},
     "output_type": "execute_result"
    },
    {
     "data": {
      "image/png": "[encoded data removed]",
      "text/plain": [
       "<Figure size 216x216 with 1 Axes>"
      ]
     },
     "metadata": {
      "needs_background": "light"
     },
     "output_type": "display_data"
    },
    {
     "data": {
      "image/png": "[encoded data removed]",
      "text/plain": [
       "<Figure size 216x216 with 1 Axes>"
      ]
     },
     "metadata": {
      "needs_background": "light"
     },
     "output_type": "display_data"
    }
   ],
   "source": [
    "test_img = val_batch[0].float()[12:13]\n",
    "true_confs = F.softmax(attacked_model(test_img), -1).cpu().detach().numpy()[0]\n",
    "fake_confs = F.softmax(attacked_model(test_img + generator_model(test_img)), -1).cpu().detach().numpy()[0]\n",
    "\n",
    "plt.figure(figsize=(3,3))\n",
    "plt.imshow(test_img[0, 0] * 127.5 + 127.5, cmap='gray')\n",
    "plt.title(\"Truth: Prediction: {}, confidence: {}\".format(np.argmax(true_confs), true_confs.max()))\n",
    "\n",
    "plt.figure(figsize=(3,3))\n",
    "plt.imshow((test_img + generator_model(test_img).cpu().detach().numpy())[0,  0] * 127.5 + 127.5, cmap='gray')\n",
    "plt.title(\"Fake: Prediction: {}, confidence: {}\".format(np.argmax(fake_confs), fake_confs.max()))"
   ]
  },
  {
   "cell_type": "code",
   "execution_count": 15,
   "metadata": {
    "colab": {
     "base_uri": "https://localhost:8080/",
     "height": 350
    },
    "id": "dFrk7pyQj9x0",
    "outputId": "6e93d5b2-59c9-4bc9-b970-520a6629e52b",
    "pycharm": {
     "name": "#%%\n"
    }
   },
   "outputs": [
    {
     "data": {
      "image/png": "[encoded data removed]",
      "text/plain": [
       "<Figure size 720x360 with 1 Axes>"
      ]
     },
     "metadata": {
      "needs_background": "light"
     },
     "output_type": "display_data"
    }
   ],
   "source": [
    "plt.figure(figsize=(10,5))\n",
    "plt.title(\"Loss\")\n",
    "plt.plot(res[0],label=\"Generator loss\")\n",
    "plt.plot(res[1],label=\"Discriminator loss\")\n",
    "plt.plot(res[2],label=\"Attack loss\")\n",
    "plt.xlabel(\"Epoch\")\n",
    "plt.ylabel(\"Loss\")\n",
    "plt.legend()\n",
    "plt.show()"
   ]
  }
 ],
 "metadata": {
  "accelerator": "GPU",
  "colab": {
   "collapsed_sections": [],
   "name": "main.ipynb",
   "provenance": []
  },
  "kernelspec": {
   "display_name": "Python 3",
   "language": "python",
   "name": "python3"
  },
  "language_info": {
   "codemirror_mode": {
    "name": "ipython",
    "version": 3
   },
   "file_extension": ".py",
   "mimetype": "text/x-python",
   "name": "python",
   "nbconvert_exporter": "python",
   "pygments_lexer": "ipython3",
   "version": "3.7.9"
  }
 },
 "nbformat": 4,
 "nbformat_minor": 1
}